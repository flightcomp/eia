{
 "cells": [
  {
   "cell_type": "markdown",
   "id": "012aa75c-cb96-4007-9919-95ecc7219014",
   "metadata": {},
   "source": [
    "# Torch vs Keras\n",
    "Lo primero que hay que decir es que Keras es sólo un wrapper. Puede utilizar como motor tensorflow, pytorch, cntk, theano, etc con solo hacer os.environ[\"KERAS_BACKEND\"] = \"torch\"\n",
    "En cuanto all MNIST dataset se puede descargar desde varias plataformas.\n",
    "1. Con sckitlearn mnist = sklearn.datasets.fetch_openml('mnist_784', version=1, as_frame=False) es un diccionario, X, y = mnist[\"data\"], mnist[\"target\"] crea una matriz X de 70000 filas por 784 columnas donde cada fila son los 28x28 pixeles en escala de 0 a 255\n",
    "2. (train_images, train_labels), (test_images, test_labels) = keras.datasets.mnist.load_data() me devuelve train_images como un array unidimensional con todas las muestras seguidas unas detrás de otras\n",
    "3. content = requests.get(\"https://github.com/pytorch/tutorials/raw/main/_static/mnist.pkl.gz\").content descarga un array numpy serializado utilizando pickle que descomprimimos fácilmente con: with gzip.open((PATH / FILENAME).as_posix(), \"rb\") as f: ((x_train, y_train), (x_valid, y_valid), _) = pickle.load(f, encoding=\"latin-1\")"
   ]
  },
  {
   "cell_type": "markdown",
   "id": "5e9381c9-6ea6-4da9-b3df-a09c11e5516e",
   "metadata": {},
   "source": [
    "Quickstart\n",
    "==========\n",
    "\n",
    "This section runs through the API for common tasks in machine learning.\n",
    "Refer to the links in each section to dive deeper.\n",
    "\n",
    "Working with data\n",
    "-----------------\n",
    "\n",
    "PyTorch has two [primitives to work with\n",
    "data](https://pytorch.org/docs/stable/data.html):\n",
    "`torch.utils.data.DataLoader` and `torch.utils.data.Dataset`. `Dataset`\n",
    "stores the samples and their corresponding labels, and `DataLoader`\n",
    "wraps an iterable around the `Dataset`.\n"
   ]
  },
  {
   "cell_type": "code",
   "execution_count": 17,
   "id": "88472460-50aa-49a1-b6cb-a8b2a0e167fe",
   "metadata": {},
   "outputs": [
    {
     "name": "stdout",
     "output_type": "stream",
     "text": [
      "Using cpu device\n"
     ]
    }
   ],
   "source": [
    "import torch\n",
    "from torchvision import datasets, transforms\n",
    "from torchvision.transforms import ToTensor\n",
    "from torch import nn\n",
    "device = torch.accelerator.current_accelerator().type if torch.accelerator.is_available() else \"cpu\"\n",
    "print(f\"Using {device} device\")"
   ]
  },
  {
   "cell_type": "markdown",
   "id": "9da8c187-7f6d-465b-ac54-08cbafa58c96",
   "metadata": {},
   "source": [
    "Fíjate que se puede aplicar una transformada directamente antes de cargar los datos del fichero a una variable. Si el fichero ya está en disco no se descarga. En este caso lo que hacemos es crear un tensor a partir del array. Observa también que cada uno de los datasets es en realidad una tupla dato, etiqueta."
   ]
  },
  {
   "cell_type": "code",
   "execution_count": 9,
   "id": "3d569205-9c95-495b-8a4b-f4d9f5bcc659",
   "metadata": {},
   "outputs": [],
   "source": [
    "# pre-processor\n",
    "transform = transforms.Compose([\n",
    "    #transforms.RandomRotation(30),\n",
    "    #transforms.RandomResizedCrop(224),\n",
    "    #transforms.ColorJitter(brightness=0.2, contrast=0.2, saturation=0.2, hue=0.2),\n",
    "    #transforms.RandomHorizontalFlip(),\n",
    "    #transforms.Resize((28, 28)),\n",
    "    transforms.ToTensor(),\n",
    "    #transforms.Normalize((0.1307,), (0.3081,))\n",
    "])\n",
    "\n",
    "# load the data\n",
    "train_dataset = datasets.MNIST(root='data', train=True, download=True, transform=transform)\n",
    "test_dataset = datasets.MNIST(root='data', train=False, download=True, transform=transform)\n",
    "labels = ('0', '1', '2', '3', '4', '5', '6', '7', '8', '9')\n",
    "\n"
   ]
  },
  {
   "cell_type": "markdown",
   "id": "d96819df-4020-4c64-86c7-0216be96146a",
   "metadata": {},
   "source": [
    "train_dataset y test_dataset son objetos de tipo Dataset una tupla de dos tensores o dos arrays, uno con los datos y el otro con las etiquetas. En este caso aplicamos una transformación a los datos leídos del fichero para convertir los array de numpy en un tensor de torch pero si ya tenemos los array de numpy y queremos crear un dataset a partir de ellos solo tendriamos que hacer:\n",
    "### Create torch Datasets from numpy arrays\n",
    ">train_dataset = torch.utils.data.TensorDataset(  \n",
    "&nbsp;&nbsp;&nbsp;&nbsp;torch.from_numpy(x_train), torch.from_numpy(y_train)  \n",
    ")  \n",
    "val_dataset = torch.utils.data.TensorDataset(  \n",
    "&nbsp;&nbsp;&nbsp;&nbsp;torch.from_numpy(x_val), torch.from_numpy(y_val)  \n",
    ")\n",
    "\n",
    "Fíjate en este ejemplo de un custom Dataset que obtiene las muestras de un csv (annotations_file) que tiene parejas: img_file_name, label y ficheros guardados en la carpeta img_dir con las imágenes."
   ]
  },
  {
   "cell_type": "code",
   "execution_count": 10,
   "id": "4d00de94-53b2-496e-8fb0-0726c51b97ac",
   "metadata": {},
   "outputs": [],
   "source": [
    "import os\n",
    "import pandas as pd\n",
    "from torchvision.io import decode_image\n",
    "from torch.utils.data import Dataset\n",
    "\n",
    "class CustomImageDataset(Dataset):\n",
    "    def __init__(self, annotations_file, img_dir, transform=None, target_transform=None):\n",
    "        self.img_labels = pd.read_csv(annotations_file)\n",
    "        self.img_dir = img_dir\n",
    "        self.transform = transform\n",
    "        self.target_transform = target_transform\n",
    "\n",
    "    def __len__(self):\n",
    "        return len(self.img_labels)\n",
    "\n",
    "    def __getitem__(self, idx):\n",
    "        img_path = os.path.join(self.img_dir, self.img_labels.iloc[idx, 0])\n",
    "        image = decode_image(img_path)\n",
    "        label = self.img_labels.iloc[idx, 1]\n",
    "        if self.transform:\n",
    "            image = self.transform(image)\n",
    "        if self.target_transform:\n",
    "            label = self.target_transform(label)\n",
    "        return image, label"
   ]
  },
  {
   "cell_type": "markdown",
   "id": "f52d0ad3-49ee-466a-ab5d-c5afe85d044d",
   "metadata": {},
   "source": [
    "Es fácil visualizar el contenido de los datasets puesto que en realidad son dos tensores. Un tensor es algo parecido a una matriz pero si especificamos `required_grad=True` cada posición tendrá asociado también un gradiente."
   ]
  },
  {
   "cell_type": "code",
   "execution_count": 11,
   "id": "4b7631ba-3329-4084-8832-956f5202740b",
   "metadata": {},
   "outputs": [
    {
     "data": {
      "image/png": "[encoded data removed]",
      "text/plain": [
       "<Figure size 800x800 with 9 Axes>"
      ]
     },
     "metadata": {},
     "output_type": "display_data"
    }
   ],
   "source": [
    "import matplotlib.pyplot as plt\n",
    "import matplotlib as mpl\n",
    "figure = plt.figure(figsize=(8, 8))\n",
    "cols, rows = 3, 3\n",
    "for i in range(1, cols * rows + 1):\n",
    "    sample_idx = torch.randint(len(train_dataset), size=(1,)).item()\n",
    "    img, label = train_dataset[sample_idx]\n",
    "    figure.add_subplot(rows, cols, i)\n",
    "    plt.title(labels[label])\n",
    "    plt.axis(\"off\")\n",
    "    plt.imshow(img.squeeze(), cmap=mpl.cm.binary)\n",
    "plt.show()"
   ]
  },
  {
   "cell_type": "markdown",
   "id": "2a23e4a7-cb0a-4932-a8e6-5cbfa9b8e8ca",
   "metadata": {},
   "source": [
    "Ahora pasamos el dataset como argumento a un DataLoader que permitirá iterar sobre sus elementos, reordenarlos, dividirlos en bloques, etc."
   ]
  },
  {
   "cell_type": "code",
   "execution_count": 12,
   "id": "f85e494f-e937-4fc3-bbb5-3fe823598e4f",
   "metadata": {},
   "outputs": [
    {
     "name": "stdout",
     "output_type": "stream",
     "text": [
      "Feature batch shape: torch.Size([32, 1, 28, 28])\n",
      "Labels batch shape: torch.Size([32])\n"
     ]
    },
    {
     "data": {
      "image/png": "[encoded data removed]",
      "text/plain": [
       "<Figure size 640x480 with 1 Axes>"
      ]
     },
     "metadata": {},
     "output_type": "display_data"
    },
    {
     "name": "stdout",
     "output_type": "stream",
     "text": [
      "Label: 5\n"
     ]
    }
   ],
   "source": [
    "from torch.utils.data import DataLoader\n",
    "# make loaders for data\n",
    "train_dataloader = torch.utils.data.DataLoader(train_dataset, batch_size=32)\n",
    "test_dataloader = torch.utils.data.DataLoader(test_dataset, batch_size=32)\n",
    "\n",
    "# Display image and label.\n",
    "train_features, train_labels = next(iter(train_dataloader))\n",
    "print(f\"Feature batch shape: {train_features.size()}\")\n",
    "print(f\"Labels batch shape: {train_labels.size()}\")\n",
    "img = train_features[0].squeeze()\n",
    "label = train_labels[0]\n",
    "plt.imshow(img, cmap=\"gray\")\n",
    "plt.show()\n",
    "print(f\"Label: {labels[label]}\")"
   ]
  },
  {
   "cell_type": "markdown",
   "id": "1b72638b-344f-41db-bdfd-6a606dcbdcc3",
   "metadata": {},
   "source": [
    "Ahora vamos a crear una red neuronal feedforward con 128, 64 y 10 nodos con activaciones relu desde cero"
   ]
  },
  {
   "cell_type": "code",
   "execution_count": 22,
   "id": "cf11ec86-45e9-49b7-8eb7-e3cb717ba21b",
   "metadata": {},
   "outputs": [
    {
     "name": "stdout",
     "output_type": "stream",
     "text": [
      "NeuralNetwork(\n",
      "  (flatten): Flatten(start_dim=1, end_dim=-1)\n",
      "  (linear_relu_stack): Sequential(\n",
      "    (0): Linear(in_features=784, out_features=128, bias=True)\n",
      "    (1): ReLU()\n",
      "    (2): Linear(in_features=128, out_features=64, bias=True)\n",
      "    (3): ReLU()\n",
      "    (4): Linear(in_features=64, out_features=10, bias=True)\n",
      "  )\n",
      ")\n"
     ]
    }
   ],
   "source": [
    "# Define model\n",
    "class NeuralNetwork(nn.Module):\n",
    "    def __init__(self):\n",
    "        super().__init__()\n",
    "        self.flatten = nn.Flatten()\n",
    "        self.linear_relu_stack = nn.Sequential(\n",
    "            nn.Linear(28*28, 128),\n",
    "            nn.ReLU(),\n",
    "            nn.Linear(128, 64),\n",
    "            nn.ReLU(),\n",
    "            nn.Linear(64, len(labels))\n",
    "        )\n",
    "\n",
    "    def forward(self, x):\n",
    "        # En caso de recibir una matriz 28x28 me aseguro de aplanarla a 784\n",
    "        x = self.flatten(x)\n",
    "        # Los valores salientes todavía no son probabilidades\n",
    "        logits = self.linear_relu_stack(x)\n",
    "        return logits\n",
    "\n",
    "model = NeuralNetwork().to(device)\n",
    "print(model)"
   ]
  },
  {
   "cell_type": "markdown",
   "id": "bfe36e01-2f81-4a45-8160-e9c1d152c928",
   "metadata": {},
   "source": [
    "En lugar de usar Sequential __init__ define únicamente los pesos y forward se encarga de enlazar la salida de una capa con la otra interponiendo las activaciones."
   ]
  },
  {
   "cell_type": "code",
   "execution_count": 18,
   "id": "10e9e2a8-e567-4f9d-8d26-12f443bf1916",
   "metadata": {},
   "outputs": [
    {
     "name": "stdout",
     "output_type": "stream",
     "text": [
      "SimpleNN(\n",
      "  (layer1): Linear(in_features=784, out_features=128, bias=True)\n",
      "  (layer2): Linear(in_features=128, out_features=64, bias=True)\n",
      "  (output): Linear(in_features=64, out_features=10, bias=True)\n",
      ")\n"
     ]
    }
   ],
   "source": [
    "# Define the PyTorch model class\n",
    "class SimpleNN(nn.Module):\n",
    "    def __init__(self):\n",
    "        super(SimpleNN, self).__init__()\n",
    "        self.layer1 = nn.Linear(784, 128)\n",
    "        self.layer2 = nn.Linear(128, 64)\n",
    "        self.output = nn.Linear(64, len(labels))\n",
    "\n",
    "    def forward(self, x):\n",
    "        x = torch.relu(self.layer1(x))\n",
    "        x = torch.relu(self.layer2(x))\n",
    "        x = self.output(x)\n",
    "        return x\n",
    "model = SimpleNN().to(device)\n",
    "print(model)"
   ]
  },
  {
   "cell_type": "markdown",
   "id": "519faec6-14e9-4e5c-b6f1-5e63af0a2338",
   "metadata": {},
   "source": [
    "Fíjate que la última capa tiene una activación lineal así que no me da probabilidades. Pero aún me falta definir la función de pérdida. Al definir la entropía cruzada como función de pérdida ya lo solucionamos porque CrossEntropyLoss en realidad lo que hace es aplicar una capa softmax. El algoritmo de optimización es el gradiente estocástico."
   ]
  },
  {
   "cell_type": "code",
   "execution_count": 19,
   "id": "560012c3-d830-4273-b6bf-3f890cfb2186",
   "metadata": {},
   "outputs": [],
   "source": [
    "optimizer = torch.optim.SGD(model.parameters(), lr=0.01)\n",
    "loss_fn = nn.CrossEntropyLoss()"
   ]
  },
  {
   "cell_type": "markdown",
   "id": "efd60c0c-f223-4e08-bc1f-befaaa343e09",
   "metadata": {},
   "source": [
    "La función train lleva a cabo un epoch: Forward, Calculate loss, backpropagate loss, update weights, reset gradients\n",
    "Cada 100 iteraciones (minibatch) muestra resultados"
   ]
  },
  {
   "cell_type": "code",
   "execution_count": 18,
   "id": "346b6773-f3a1-4be4-be5a-8b43cca2bc1c",
   "metadata": {},
   "outputs": [],
   "source": [
    "def train(dataloader, model, loss_fn, optimizer):\n",
    "    size = len(dataloader.dataset)\n",
    "    model.train()\n",
    "    for batch, (X, y) in enumerate(dataloader):\n",
    "        X, y = X.to(device), y.to(device)\n",
    "\n",
    "        # Forward\n",
    "        pred = model(X)\n",
    "        # Calculate loss\n",
    "        loss = loss_fn(pred, y)\n",
    "\n",
    "        # Backpropagation\n",
    "        loss.backward()\n",
    "        optimizer.step()\n",
    "        # Zero the parameter gradients\n",
    "        optimizer.zero_grad()\n",
    "\n",
    "        if batch % 100 == 0:\n",
    "            loss, current = loss.item(), (batch + 1) * len(X)\n",
    "            print(f\"loss: {loss:>7f}  [{current:>5d}/{size:>5d}]\")"
   ]
  },
  {
   "cell_type": "markdown",
   "id": "6e909a79-4a7c-48c8-91b1-61390d9b5d68",
   "metadata": {},
   "source": [
    "Pero ya sabemos que el error en el train set no es lo importante sino el error en el test set. Fíjate que al evaluar no queremos que se calcule el gradiente y por eso usamos torch.no_grad"
   ]
  },
  {
   "cell_type": "code",
   "execution_count": 29,
   "id": "928f1565-9b3d-40d5-afc8-ee8585c7487f",
   "metadata": {},
   "outputs": [],
   "source": [
    "def test(dataloader, model, loss_fn):\n",
    "    # Dos listas con el número de predicciones a cero\n",
    "    correct_pred = [0]*len(labels)\n",
    "    total_pred = [0]*len(labels)\n",
    "    \n",
    "    size = len(dataloader.dataset)\n",
    "    num_batches = len(dataloader)\n",
    "    model.eval()\n",
    "    test_loss, correct = 0, 0\n",
    "    with torch.no_grad():\n",
    "        # Para cada minibatch\n",
    "        for X, y in dataloader:\n",
    "            X, y = X.to(device), y.to(device)\n",
    "            outputs = model(X)\n",
    "            # Para cada fila me da el índice de la columna con el valor más grande\n",
    "            predictions = outputs.argmax(1)\n",
    "            test_loss += loss_fn(outputs, y).item()\n",
    "            # Crea una lista de booleanos a True en los ejemplos en los que hay coincidencia y los pasa a float para sumarlos en un array de una posicion\n",
    "            # correct += (predictions == y).type(torch.float).sum().item()\n",
    "            # collect the correct predictions for each class\n",
    "            for label, prediction in zip(y, predictions):\n",
    "                if label == prediction:\n",
    "                    correct_pred[label] += 1\n",
    "                # Acumula el número de ejemplos de cada etiqueta\n",
    "                total_pred[label] += 1\n",
    "\n",
    "    test_loss /= num_batches\n",
    "    correct = sum(correct_pred)\n",
    "    correct /= size\n",
    "    print(f\"Test Error: \\n Accuracy: {(100*correct):>0.1f}%, Avg loss: {test_loss:>8f} \\n\")\n",
    "    # print accuracy for each class\n",
    "    for idx, correct_count in enumerate(correct_pred):\n",
    "        accuracy = 100 * float(correct_count) / total_pred[idx]\n",
    "        print(f'Accuracy for class: {labels[idx]:5s} is {accuracy:.1f} %')"
   ]
  },
  {
   "cell_type": "markdown",
   "id": "8db8e985-b552-4735-9256-cd95b849bcd4",
   "metadata": {},
   "source": [
    "Si llamamos a la función que entrena ya la que evalua una seguida de otra para cada epoch"
   ]
  },
  {
   "cell_type": "code",
   "execution_count": 22,
   "id": "f42e505a-e514-4350-87f4-770fca69baf3",
   "metadata": {},
   "outputs": [
    {
     "name": "stdout",
     "output_type": "stream",
     "text": [
      "Epoch 1\n",
      "-------------------------------\n",
      "loss: 2.296434  [   32/60000]\n",
      "loss: 2.283089  [ 3232/60000]\n",
      "loss: 2.211408  [ 6432/60000]\n",
      "loss: 2.173044  [ 9632/60000]\n",
      "loss: 2.165689  [12832/60000]\n",
      "loss: 2.013448  [16032/60000]\n",
      "loss: 1.500696  [19232/60000]\n",
      "loss: 1.352682  [22432/60000]\n",
      "loss: 1.013193  [25632/60000]\n",
      "loss: 0.701278  [28832/60000]\n",
      "loss: 0.741578  [32032/60000]\n",
      "loss: 0.671140  [35232/60000]\n",
      "loss: 0.604895  [38432/60000]\n",
      "loss: 0.573912  [41632/60000]\n",
      "loss: 0.491948  [44832/60000]\n",
      "loss: 0.458725  [48032/60000]\n",
      "loss: 0.479735  [51232/60000]\n",
      "loss: 0.365209  [54432/60000]\n",
      "loss: 0.356890  [57632/60000]\n",
      "Test Error: \n",
      " Accuracy: 87.0%, Avg loss: 0.446107 \n",
      "\n",
      "Epoch 2\n",
      "-------------------------------\n",
      "loss: 0.578468  [   32/60000]\n",
      "loss: 0.565349  [ 3232/60000]\n",
      "loss: 0.454970  [ 6432/60000]\n",
      "loss: 0.374543  [ 9632/60000]\n",
      "loss: 0.311543  [12832/60000]\n",
      "loss: 0.566003  [16032/60000]\n",
      "loss: 0.262239  [19232/60000]\n",
      "loss: 0.298342  [22432/60000]\n",
      "loss: 0.298904  [25632/60000]\n",
      "loss: 0.192156  [28832/60000]\n",
      "loss: 0.346645  [32032/60000]\n",
      "loss: 0.333504  [35232/60000]\n",
      "loss: 0.290292  [38432/60000]\n",
      "loss: 0.383589  [41632/60000]\n",
      "loss: 0.366061  [44832/60000]\n",
      "loss: 0.235002  [48032/60000]\n",
      "loss: 0.341681  [51232/60000]\n",
      "loss: 0.251543  [54432/60000]\n",
      "loss: 0.254645  [57632/60000]\n",
      "Test Error: \n",
      " Accuracy: 90.2%, Avg loss: 0.331357 \n",
      "\n",
      "Done!\n"
     ]
    }
   ],
   "source": [
    "epochs = 2\n",
    "for t in range(epochs):\n",
    "    print(f\"Epoch {t+1}\\n-------------------------------\")\n",
    "    train(train_dataloader, model, loss_fn, optimizer)\n",
    "    test(test_dataloader, model, loss_fn)\n",
    "print(\"Done!\")"
   ]
  },
  {
   "cell_type": "markdown",
   "id": "f0c994bc-7109-4bf8-9211-e0bef89d9b98",
   "metadata": {},
   "source": [
    "Salvamos el modelo"
   ]
  },
  {
   "cell_type": "code",
   "execution_count": 23,
   "id": "0849f870-fdd4-496b-a735-17d82e79b3fd",
   "metadata": {},
   "outputs": [
    {
     "name": "stdout",
     "output_type": "stream",
     "text": [
      "Saved PyTorch Model State to data/model.pth\n"
     ]
    }
   ],
   "source": [
    "torch.save(model.state_dict(), \"data/model.pth\")\n",
    "print(\"Saved PyTorch Model State to data/model.pth\")"
   ]
  },
  {
   "cell_type": "markdown",
   "id": "77692c2d-b0de-4490-8c95-c9accd69a069",
   "metadata": {},
   "source": [
    "Y lo cargamos de nuevo. Para ello es necesario recrear la estructura del modelo."
   ]
  },
  {
   "cell_type": "code",
   "execution_count": 25,
   "id": "2b984d7e-d242-403a-bcc3-6ce1b11954e9",
   "metadata": {},
   "outputs": [
    {
     "data": {
      "text/plain": [
       "<All keys matched successfully>"
      ]
     },
     "execution_count": 25,
     "metadata": {},
     "output_type": "execute_result"
    }
   ],
   "source": [
    "model = NeuralNetwork().to(device)\n",
    "model.load_state_dict(torch.load(\"data/model.pth\", weights_only=True))"
   ]
  },
  {
   "cell_type": "code",
   "execution_count": 30,
   "id": "88f16571-f665-456f-966a-474ef560ca23",
   "metadata": {},
   "outputs": [
    {
     "name": "stdout",
     "output_type": "stream",
     "text": [
      "Test Error: \n",
      " Accuracy: 90.2%, Avg loss: 0.331357 \n",
      "\n",
      "Accuracy for class: 0     is 97.8 %\n",
      "Accuracy for class: 1     is 98.1 %\n",
      "Accuracy for class: 2     is 84.7 %\n",
      "Accuracy for class: 3     is 88.9 %\n",
      "Accuracy for class: 4     is 92.3 %\n",
      "Accuracy for class: 5     is 87.2 %\n",
      "Accuracy for class: 6     is 91.9 %\n",
      "Accuracy for class: 7     is 86.4 %\n",
      "Accuracy for class: 8     is 82.1 %\n",
      "Accuracy for class: 9     is 91.5 %\n"
     ]
    }
   ],
   "source": [
    "test(test_dataloader, model, loss_fn)"
   ]
  },
  {
   "cell_type": "code",
   "execution_count": null,
   "id": "be9a7dd5-4ebd-4313-ae95-c73b087b0818",
   "metadata": {},
   "outputs": [],
   "source": []
  }
 ],
 "metadata": {
  "kernelspec": {
   "display_name": "Python (transformers)",
   "language": "python",
   "name": "transformers"
  },
  "language_info": {
   "codemirror_mode": {
    "name": "ipython",
    "version": 3
   },
   "file_extension": ".py",
   "mimetype": "text/x-python",
   "name": "python",
   "nbconvert_exporter": "python",
   "pygments_lexer": "ipython3",
   "version": "3.12.3"
  }
 },
 "nbformat": 4,
 "nbformat_minor": 5
}
