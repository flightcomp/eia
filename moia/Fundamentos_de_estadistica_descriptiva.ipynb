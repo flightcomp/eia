{
 "cells": [
  {
   "cell_type": "markdown",
   "metadata": {
    "id": "O8vMg5uMMxia"
   },
   "source": [
    "# Fundamentos de Estadística (descriptiva)\n",
    "La estadística consiste principalmente en analizar muestras de datos, y eso empieza por entender la distribución de los datos en una muestra.\n",
    "\n",
    "Sitio original: https://github.com/hrnbot/Basic-Mathematics-for-Machine-Learning"
   ]
  },
  {
   "cell_type": "markdown",
   "metadata": {
    "id": "zps3Tk1DMxid"
   },
   "source": [
    "## Analizando la distribución de los datos\n",
    "Gran parte del análisis estadístico se basa en la forma en que se distribuyen los valores de los datos dentro del conjunto de datos. En esta sección, exploraremos algunas estadísticas que puede utilizar para obtener información sobre los valores de un conjunto de datos.\n",
    "\n",
    "### Medidas de tendencia central\n",
    "El término *medidas de tendencia central* suena un poco grandilocuente, pero en realidad no es más que una forma elegante de decir que nos interesa saber dónde está el valor medio de nuestros datos. Por ejemplo, supongamos que decidimos realizar un estudio comparativo de los salarios de personas que se licenciaron en la misma universidad. Podrías registrar los resultados así:\n",
    "\n",
    "| Nombre   | Sueldo      |\n",
    "|----------|-------------|\n",
    "| Dan      | 50,000      |\n",
    "| Joann    | 54,000      |\n",
    "| Pedro    | 50,000      |\n",
    "| Rosie    | 189,000     |\n",
    "| Ethan    | 55,000      |\n",
    "| Vicky    | 40,000      |\n",
    "| Frederic | 59,000      |\n",
    "\n",
    "Ahora bien, algunos de los antiguos alumnos pueden ganar mucho, y otros pueden ganar menos; pero ¿cuál es el salario en medio de la horquilla de todos los salarios?\n",
    "\n",
    "#### Media\n",
    "Una forma habitual de definir el valor central es utilizar la *media*, a menudo denominada *promedio*. Se calcula como la suma de los valores del conjunto de datos, dividida por el número de observaciones del conjunto de datos. Cuando el conjunto de datos está formado por toda la población, la media se representa mediante el símbolo griego ***&mu;*** (*mu*), y la fórmula se escribe así:\n",
    "\n",
    "\\begin{equation}\\mu = \\frac{\\displaystyle\\sum_{i=1}^{N}X_{i}}{N}\\end{equation}\n",
    "\n",
    "Más comúnmente, cuando se trabaja con una muestra, la media se representa por ***x&#772;*** (*x-bar*), y la fórmula se escribe así (nótese las minúsculas utilizadas para indicar los valores de una muestra):\n",
    "\n",
    "\\begin{equation}\\bar{x} = \\frac{\\displaystyle\\sum_{i=1}^{n}x_{i}}{n}\\end{equation}\n",
    "\n",
    "En el caso de nuestra lista de alturas, se puede calcular como:\n",
    "\n",
    "\\begin{equation}\\bar{x} = \\frac{50000+54000+50000+189000+55000+40000+59000}{7}\\end{equation}\n",
    "\n",
    "El cual es **71,000**.\n",
    "\n",
    ">En terminología técnica, ***x&#772;*** es una *estadística* (una estimación basada en una muestra de datos) y ***&mu;*** es un *parámetro* (un valor verdadero basado en toda la población). Muchas veces, los parámetros de toda la población son imposibles de medir (o, como mínimo, poco prácticos), por lo que utilizamos estadísticas obtenidas a partir de una muestra representativa para aproximarnos a ellos. En este caso, podemos utilizar la media muestral del salario de nuestra selección de estudiantes encuestados para intentar estimar el salario medio real de todos los estudiantes que se gradúan en nuestra escuela.\n",
    "\n",
    "En Python, cuando se trabaja con datos en un *pandas.dataframe*, se puede utilizar la función ***mean***, así:"
   ]
  },
  {
   "cell_type": "code",
   "execution_count": 1,
   "metadata": {
    "colab": {
     "base_uri": "https://localhost:8080/"
    },
    "executionInfo": {
     "elapsed": 619,
     "status": "ok",
     "timestamp": 1699464757450,
     "user": {
      "displayName": "Juan Francisco Puentes Calvo",
      "userId": "04307711343502565257"
     },
     "user_tz": -60
    },
    "id": "HPDXLXJ2Mxie",
    "outputId": "d0bd8e03-b27d-4a81-8aa4-7a75c5b47680"
   },
   "outputs": [
    {
     "name": "stdout",
     "output_type": "stream",
     "text": [
      "71000.0\n"
     ]
    }
   ],
   "source": [
    "import pandas as pd;\n",
    "\n",
    "df = pd.DataFrame({'Name': ['Dan', 'Joann', 'Pedro', 'Rosie', 'Ethan', 'Vicky', 'Frederic'],\n",
    "                   'Salary': [50000,54000,50000,189000,55000,40000,59000],\n",
    "                  });\n",
    "\n",
    "print (df['Salary'].mean());"
   ]
  },
  {
   "cell_type": "markdown",
   "metadata": {
    "id": "7oeZxI4cMxif"
   },
   "source": [
    "Entonces, ¿es **71.000** realmente el valor central? O dicho de otro modo, ¿sería razonable que un graduado de esta escuela esperara ganar 71.000 dólares? Después de todo, ese es el salario medio de un graduado de esta escuela.\n",
    "\n",
    "Si nos fijamos bien en los salarios, veremos que de los siete antiguos alumnos, seis ganan menos que el salario medio. Los datos están *distorsionados* por el hecho de que Rosie ha conseguido claramente encontrar un trabajo mucho mejor pagado que sus compañeros.\n",
    "\n",
    "#### Mediana\n",
    "Bien, veamos si podemos encontrar otra definición para el valor central que refleje más fielmente el potencial de ingresos esperado de los alumnos que asisten a nuestra escuela. Otra medida de la tendencia central que podemos utilizar es la *mediana*. Para calcular la mediana, tenemos que ordenar los valores en orden ascendente y luego encontrar el valor más medio. Cuando hay un número impar de observaciones, puedes encontrar la posición del valor mediano utilizando esta fórmula (donde *n* es el número de observaciones):\n",
    "\n",
    "$\\frac{n+1}{2}$\n",
    "\n",
    "Recuerde que esta fórmula devuelve la *posición* del valor de la mediana en la lista ordenada; no el valor en sí.\n",
    "\n",
    "Si el número de observaciones es par, entonces las cosas son un poco (pero no mucho) más complicadas. En este caso se calcula la mediana como la media de los dos valores más medios, que se encuentran así:\n",
    "\n",
    "$\\frac{n}{2} \\;\\;\\;\\;and \\;\\;\\;\\; \\frac{n}{2} + 1$\n",
    "\n",
    "Así pues, para los salarios de nuestros licenciados, primero vamos a ordenar el conjunto de datos:\n",
    "\n",
    "| Sueldo      |\n",
    "|-------------|\n",
    "| 40,000      |\n",
    "| 50,000      |\n",
    "| 50,000      |\n",
    "| 54,000      |\n",
    "| 55,000      |\n",
    "| 59,000      |\n",
    "| 189,000     |\n",
    "\n",
    "Hay un número impar de observaciones (7), por lo que el valor mediano se encuentra en la posición (7 + 1) &div; 2; es decir, en la posición 4:\n",
    "\n",
    "| Sueldo      |\n",
    "|-------------|\n",
    "| 40,000      |\n",
    "| 50,000      |\n",
    "| 50,000      |\n",
    "|***>54,000*** |\n",
    "| 55,000      |\n",
    "| 59,000      |\n",
    "| 189,000     |\n",
    "\n",
    "Por tanto, el salario medio es de **54.000**.\n",
    "\n",
    "La clase *pandas.dataframe* en Python tiene una función ***median*** para encontrar la mediana:"
   ]
  },
  {
   "cell_type": "code",
   "execution_count": 2,
   "metadata": {
    "colab": {
     "base_uri": "https://localhost:8080/"
    },
    "executionInfo": {
     "elapsed": 3,
     "status": "ok",
     "timestamp": 1699465253186,
     "user": {
      "displayName": "Juan Francisco Puentes Calvo",
      "userId": "04307711343502565257"
     },
     "user_tz": -60
    },
    "id": "R2i7Bf73Mxif",
    "outputId": "48e0ad92-c2de-4a5e-995e-953a85e621c9"
   },
   "outputs": [
    {
     "name": "stdout",
     "output_type": "stream",
     "text": [
      "54000.0\n"
     ]
    }
   ],
   "source": [
    "import pandas as pd\n",
    "\n",
    "df = pd.DataFrame({'Name': ['Dan', 'Joann', 'Pedro', 'Rosie', 'Ethan', 'Vicky', 'Frederic'],\n",
    "                   'Salary':[50000,54000,50000,189000,55000,40000,59000]})\n",
    "\n",
    "print (df['Salary'].median())"
   ]
  },
  {
   "cell_type": "markdown",
   "metadata": {
    "id": "nDXoJ4dWMxig"
   },
   "source": [
    "#### Moda\n",
    "Otra estadística relacionada es la *moda*, que indica <u>el valor más frecuente</u>. Si se piensa en ello, se trata potencialmente de un buen indicador de cuánto puede esperar ganar un estudiante cuando se gradúe en la escuela; de todos los salarios que están ganando los antiguos estudiantes, la moda es el salario más frecuente.\n",
    "\n",
    "En nuestra lista de salarios, hay dos casos de antiguos alumnos que ganan **50.000**, pero sólo un caso para cada uno de los demás salarios:\n",
    "\n",
    "| Sueldo      |\n",
    "|-------------|\n",
    "| 40,000      |\n",
    "|***>50,000***|\n",
    "|***>50,000***|\n",
    "| 54,000      |\n",
    "| 55,000      |\n",
    "| 59,000      |\n",
    "| 189,000     |\n",
    "\n",
    "La moda es por lo tanto **50,000**.\n",
    "\n",
    "Como era de esperar, la clase *pandas.dataframe* tiene una función ***mode*** para devolver la moda:"
   ]
  },
  {
   "cell_type": "code",
   "execution_count": 3,
   "metadata": {
    "colab": {
     "base_uri": "https://localhost:8080/"
    },
    "executionInfo": {
     "elapsed": 250,
     "status": "ok",
     "timestamp": 1699465345238,
     "user": {
      "displayName": "Juan Francisco Puentes Calvo",
      "userId": "04307711343502565257"
     },
     "user_tz": -60
    },
    "id": "3iyyehJ7Mxig",
    "outputId": "28165259-a48d-4cac-dd7f-b04e77c28a9a"
   },
   "outputs": [
    {
     "name": "stdout",
     "output_type": "stream",
     "text": [
      "0    50000\n",
      "Name: Salary, dtype: int64\n"
     ]
    }
   ],
   "source": [
    "import pandas as pd\n",
    "\n",
    "df = pd.DataFrame({'Name': ['Dan', 'Joann', 'Pedro', 'Rosie', 'Ethan', 'Vicky', 'Frederic'],\n",
    "                   'Salary':[50000,54000,50000,189000,55000,40000,59000]})\n",
    "\n",
    "print (df['Salary'].mode())"
   ]
  },
  {
   "cell_type": "markdown",
   "metadata": {
    "id": "b5nj0n1HMxig"
   },
   "source": [
    "##### Datos multimodales\n",
    "\n",
    "No es raro que un conjunto de datos tenga más de un valor como moda. Por ejemplo, supongamos que Ethan recibe un aumento que eleva su salario a **59.000**:\n",
    "\n",
    "| Sueldo      |\n",
    "|-------------|\n",
    "| 40,000      |\n",
    "|***>50,000***|\n",
    "|***>50,000***|\n",
    "| 54,000      |\n",
    "|***>59,000***|\n",
    "|***>59,000***|\n",
    "| 189,000     |\n",
    "\n",
    "Ahora hay dos valores con la frecuencia más alta. Este conjunto de datos es *bimodal*. En términos más generales, cuando hay más de un valor de moda, los datos se consideran *multimodales*.\n",
    "\n",
    "La función *pandas.dataframe.mode* devuelve todos los valores para la moda:"
   ]
  },
  {
   "cell_type": "code",
   "execution_count": 4,
   "metadata": {
    "colab": {
     "base_uri": "https://localhost:8080/"
    },
    "executionInfo": {
     "elapsed": 278,
     "status": "ok",
     "timestamp": 1699465537419,
     "user": {
      "displayName": "Juan Francisco Puentes Calvo",
      "userId": "04307711343502565257"
     },
     "user_tz": -60
    },
    "id": "jgflxPNiMxig",
    "outputId": "cb9fc1f4-2445-4a2e-910f-1900f540274b"
   },
   "outputs": [
    {
     "name": "stdout",
     "output_type": "stream",
     "text": [
      "0    50000\n",
      "1    59000\n",
      "Name: Salary, dtype: int64\n"
     ]
    }
   ],
   "source": [
    "import pandas as pd\n",
    "\n",
    "df = pd.DataFrame({'Name': ['Dan', 'Joann', 'Pedro', 'Rosie', 'Ethan', 'Vicky', 'Frederic'],\n",
    "                   'Salary':[50000,54000,50000,189000,59000,40000,59000]})\n",
    "\n",
    "print (df['Salary'].mode())"
   ]
  },
  {
   "cell_type": "markdown",
   "metadata": {
    "id": "yH6_J_-SMxih"
   },
   "source": [
    "### Distribución y densidad\n",
    "Ahora que sabemos algo sobre cómo encontrar el centro, podemos empezar a explorar cómo se distribuyen los datos a su alrededor. Lo que nos interesa aquí es comprender la \"forma\" general de la distribución de los datos para poder empezar a hacernos una idea de lo que podría esperarse que fuera un valor \"típico\".\n",
    "\n",
    "Podemos empezar por encontrar los extremos: el mínimo y el máximo. En el caso de nuestros datos salariales, la profesional peor pagada de nuestra escuela es Vicky, con un salario de **40.000**; y la mejor pagada es Rosie, con **189.000**.\n",
    "\n",
    "La clase *pandas.dataframe* tiene funciones ***min*** y ***max*** para devolver estos valores.\n",
    "\n",
    "Ejecute el siguiente código para comparar los salarios mínimos y máximos con las medidas centrales que calculamos anteriormente:"
   ]
  },
  {
   "cell_type": "code",
   "execution_count": 5,
   "metadata": {
    "colab": {
     "base_uri": "https://localhost:8080/"
    },
    "executionInfo": {
     "elapsed": 231,
     "status": "ok",
     "timestamp": 1699465764803,
     "user": {
      "displayName": "Juan Francisco Puentes Calvo",
      "userId": "04307711343502565257"
     },
     "user_tz": -60
    },
    "id": "AgRDwPx6Mxih",
    "outputId": "0492ffd4-ffa3-406c-9981-f4a2265dea88"
   },
   "outputs": [
    {
     "name": "stdout",
     "output_type": "stream",
     "text": [
      "Min: 40000\n",
      "Mode: 50000\n",
      "Median: 54000.0\n",
      "Mean: 71000.0\n",
      "Max: 189000\n"
     ]
    }
   ],
   "source": [
    "import pandas as pd\n",
    "\n",
    "df = pd.DataFrame({'Name': ['Dan', 'Joann', 'Pedro', 'Rosie', 'Ethan', 'Vicky', 'Frederic'],\n",
    "                   'Salary':[50000,54000,50000,189000,55000,40000,59000]})\n",
    "\n",
    "print ('Min: ' + str(df['Salary'].min()))\n",
    "print ('Mode: ' + str(df['Salary'].mode()[0]))\n",
    "print ('Median: ' + str(df['Salary'].median()))\n",
    "print ('Mean: ' + str(df['Salary'].mean()))\n",
    "print ('Max: ' + str(df['Salary'].max()))"
   ]
  },
  {
   "cell_type": "markdown",
   "metadata": {
    "id": "DLtI4vvgMxih"
   },
   "source": [
    "Podemos examinar estos valores y hacernos una idea de cómo se distribuyen los datos; por ejemplo, podemos ver que la *media* está más cerca de la *mediana* que del máximo, y que ambas están más cerca del *mínimo* que del *máximo*.\n",
    "\n",
    "Sin embargo, en general es más fácil hacerse una idea de la distribución visualizando los datos. Empecemos por crear un histograma de los salarios, resaltando los salarios *medio* y *mediano* (el *mín*, el *máx* son bastante evidentes, y el *modo* está donde esté la barra más alta):"
   ]
  },
  {
   "cell_type": "code",
   "execution_count": 6,
   "metadata": {
    "colab": {
     "base_uri": "https://localhost:8080/",
     "height": 452
    },
    "executionInfo": {
     "elapsed": 756,
     "status": "ok",
     "timestamp": 1699465965006,
     "user": {
      "displayName": "Juan Francisco Puentes Calvo",
      "userId": "04307711343502565257"
     },
     "user_tz": -60
    },
    "id": "74YVKv2-Mxih",
    "outputId": "065dea7b-fcee-4c2f-aaab-ee33f72b1895"
   },
   "outputs": [
    {
     "data": {
      "image/png": "[encoded data removed]",
      "text/plain": [
       "<Figure size 640x480 with 1 Axes>"
      ]
     },
     "metadata": {},
     "output_type": "display_data"
    }
   ],
   "source": [
    "%matplotlib inline\n",
    "import pandas as pd\n",
    "import matplotlib.pyplot as plt\n",
    "\n",
    "df = pd.DataFrame({'Name': ['Dan', 'Joann', 'Pedro', 'Rosie', 'Ethan', 'Vicky', 'Frederic'],\n",
    "                   'Salary':[50000,54000,50000,189000,55000,40000,59000]})\n",
    "\n",
    "salary = df['Salary']\n",
    "salary.plot.hist(title='Salary Distribution', color='lightblue', bins=25)\n",
    "plt.axvline(salary.mean(), color='magenta', linestyle='dashed', linewidth=2)\n",
    "plt.axvline(salary.median(), color='green', linestyle='dashed', linewidth=2)\n",
    "plt.show()"
   ]
  },
  {
   "cell_type": "markdown",
   "metadata": {
    "id": "tjoVWF_GMxih"
   },
   "source": [
    "La <span style=\"color:magenta\">***media***</span> y la <span style=\"color:verde\">***mediana***</span> se muestran como líneas discontinuas. Ten en cuenta lo siguiente:\n",
    "- El salario es un valor de datos continuo: los profesionales pueden ganar cualquier valor de la escala, incluso una fracción de céntimo.\n",
    "- El número de intervalos en el histograma determina el tamaño de cada banda salarial para la que contamos frecuencias. Un menor número de intervalos significa que se agrupan más salarios individuales.\n",
    "- La mayoría de los datos están en la parte izquierda del histograma, lo que refleja que la mayoría de los profesionales ganan entre 40.000 y 55.000 euros.\n",
    "- La media es un valor más alto que la mediana y la moda.\n",
    "- Hay huecos en el histograma para las franjas salariales que nadie gana.\n",
    "\n",
    "El histograma muestra la frecuencia relativa de cada banda salarial en función del número de intervalos. También nos da una idea de la *densidad* de los datos para cada punto de la escala salarial. Con suficientes puntos de datos y intervalos lo suficientemente pequeños, podríamos ver esta densidad como una línea que muestra la forma de la distribución de los datos.\n",
    "\n",
    "Ejecuta la siguiente celda para mostrar la densidad de los datos salariales como una línea sobre el histograma:"
   ]
  },
  {
   "cell_type": "code",
   "execution_count": 7,
   "metadata": {
    "colab": {
     "base_uri": "https://localhost:8080/",
     "height": 445
    },
    "executionInfo": {
     "elapsed": 888,
     "status": "ok",
     "timestamp": 1699466739473,
     "user": {
      "displayName": "Juan Francisco Puentes Calvo",
      "userId": "04307711343502565257"
     },
     "user_tz": -60
    },
    "id": "SNxDzdOtMxih",
    "outputId": "55ffc5f1-364a-451c-cd14-40e061db26e0"
   },
   "outputs": [
    {
     "data": {
      "image/png": "[encoded data removed]",
      "text/plain": [
       "<Figure size 640x480 with 1 Axes>"
      ]
     },
     "metadata": {},
     "output_type": "display_data"
    }
   ],
   "source": [
    "%matplotlib inline\n",
    "import pandas as pd\n",
    "import matplotlib.pyplot as plt\n",
    "import numpy as np\n",
    "import scipy.stats as stats\n",
    "\n",
    "df = pd.DataFrame({'Name': ['Dan', 'Joann', 'Pedro', 'Rosie', 'Ethan', 'Vicky', 'Frederic'],\n",
    "                   'Salary':[50000,54000,50000,189000,55000,40000,59000]})\n",
    "\n",
    "salary = df['Salary']\n",
    "density = stats.gaussian_kde(salary)\n",
    "n, x, _ = plt.hist(salary, histtype='step', density=True, bins=25)\n",
    "plt.plot(x, density(x)*5)\n",
    "plt.axvline(salary.mean(), color='magenta', linestyle='dashed', linewidth=2)\n",
    "plt.axvline(salary.median(), color='green', linestyle='dashed', linewidth=2)\n",
    "plt.show()\n"
   ]
  },
  {
   "cell_type": "markdown",
   "metadata": {
    "id": "kJLXbNKMMxih"
   },
   "source": [
    "Observa que la línea de densidad adopta la forma de una curva asimétrica que tiene un \"pico\" a la izquierda y una larga cola a la derecha. Describimos este tipo de distribución de datos como \"asimétrica\"; es decir, los datos no se distribuyen simétricamente, sino que se \"agrupan\" en un lado. En este caso, los datos están agrupados a la izquierda, creando una larga cola a la derecha; y se describe como *direccionalmente sesgada* porque algunos valores altos que ocurren con poca frecuencia están tirando de la *media* hacia la derecha.\n",
    "\n",
    "Veamos otra serie de datos. Sabemos cuánto dinero ganan nuestros profesionales, pero ¿cuántas horas a la semana tienen que trabajar para ganarse el sueldo? Aquí están los datos:\n",
    "\n",
    "| Nombre   | Horas |\n",
    "|----------|-------|\n",
    "| Dan      | 41    |\n",
    "| Joann    | 40    |\n",
    "| Pedro    | 36    |\n",
    "| Rosie    | 30    |\n",
    "| Ethan    | 35    |\n",
    "| Vicky    | 39    |\n",
    "| Frederic | 40    |\n",
    "\n",
    "Ejecuta el siguiente código para mostrar la distribución de las horas trabajadas:"
   ]
  },
  {
   "cell_type": "code",
   "execution_count": 8,
   "metadata": {
    "colab": {
     "base_uri": "https://localhost:8080/",
     "height": 431
    },
    "executionInfo": {
     "elapsed": 790,
     "status": "ok",
     "timestamp": 1699466769951,
     "user": {
      "displayName": "Juan Francisco Puentes Calvo",
      "userId": "04307711343502565257"
     },
     "user_tz": -60
    },
    "id": "tkAr2m6_Mxih",
    "outputId": "6e16da2a-d575-4fca-c72f-823542a60e25"
   },
   "outputs": [
    {
     "data": {
      "image/png": "[encoded data removed]",
      "text/plain": [
       "<Figure size 640x480 with 1 Axes>"
      ]
     },
     "metadata": {},
     "output_type": "display_data"
    }
   ],
   "source": [
    "%matplotlib inline\n",
    "import pandas as pd\n",
    "import matplotlib.pyplot as plt\n",
    "import numpy as np\n",
    "import scipy.stats as stats\n",
    "\n",
    "df = pd.DataFrame({'Name': ['Dan', 'Joann', 'Pedro', 'Rosie', 'Ethan', 'Vicky', 'Frederic'],\n",
    "                   'Hours':[41,40,36,30,35,39,40]})\n",
    "\n",
    "hours = df['Hours']\n",
    "density = stats.gaussian_kde(hours)\n",
    "n, x, _ = plt.hist(hours, histtype='step', density=True, bins=25)\n",
    "plt.plot(x, density(x)*7)\n",
    "plt.axvline(hours.mean(), color='magenta', linestyle='dashed', linewidth=2)\n",
    "plt.axvline(hours.median(), color='green', linestyle='dashed', linewidth=2)\n",
    "plt.show()"
   ]
  },
  {
   "cell_type": "markdown",
   "metadata": {
    "id": "Y7i7g3jcMxih"
   },
   "source": [
    "Una vez más, la distribución es asimétrica (*skewed*), pero esta vez es **asimétrica a la izquierda**. Obsérvese que la curva es asimétrica, con la ***media*** a la izquierda de la ***mediana*** y la *modalidad*; y la media de horas de trabajo semanales sesgada (*skewed*) hacia el extremo inferior.\n",
    "\n",
    "Una vez más, Rosie parece salir ganando. Gana más que sus antiguos compañeros por trabajar menos horas. Tal vez un vistazo a las calificaciones que obtuvieron los alumnos en su último curso escolar ayude a explicar su éxito:\n",
    "\n",
    "| Nombre   | Notas |\n",
    "|----------|-------|\n",
    "| Dan      | 50    |\n",
    "| Joann    | 50    |\n",
    "| Pedro    | 46    |\n",
    "| Rosie    | 95    |\n",
    "| Ethan    | 50    |\n",
    "| Vicky    | 5     |\n",
    "| Frederic | 57    |\n",
    "\n",
    "Veamos la distribución de estas calificaciones:"
   ]
  },
  {
   "cell_type": "code",
   "execution_count": 9,
   "metadata": {
    "colab": {
     "base_uri": "https://localhost:8080/",
     "height": 430
    },
    "executionInfo": {
     "elapsed": 557,
     "status": "ok",
     "timestamp": 1699467040744,
     "user": {
      "displayName": "Juan Francisco Puentes Calvo",
      "userId": "04307711343502565257"
     },
     "user_tz": -60
    },
    "id": "pICVeDAlMxii",
    "outputId": "f4a8356f-0252-4986-d280-847f79bd71a3"
   },
   "outputs": [
    {
     "data": {
      "image/png": "[encoded data removed]",
      "text/plain": [
       "<Figure size 640x480 with 1 Axes>"
      ]
     },
     "metadata": {},
     "output_type": "display_data"
    }
   ],
   "source": [
    "%matplotlib inline\n",
    "import pandas as pd\n",
    "import matplotlib.pyplot as plt\n",
    "import numpy as np\n",
    "import scipy.stats as stats\n",
    "\n",
    "df = pd.DataFrame({'Name': ['Dan', 'Joann', 'Pedro', 'Rosie', 'Ethan', 'Vicky', 'Frederic'],\n",
    "                   'Grade':[50,50,46,95,50,5,57]})\n",
    "\n",
    "grade = df['Grade']\n",
    "density = stats.gaussian_kde(grade)\n",
    "n, x, _ = plt.hist(grade, histtype='step', density=True, bins=25)\n",
    "plt.plot(x, density(x)*7.5)\n",
    "plt.axvline(grade.mean(), color='magenta', linestyle='dashed', linewidth=2)\n",
    "plt.axvline(grade.median(), color='green', linestyle='dashed', linewidth=2)\n",
    "plt.show()"
   ]
  },
  {
   "cell_type": "markdown",
   "metadata": {
    "id": "MTII7ovaMxii"
   },
   "source": [
    "Esta vez, la distribución es simétrica, formando una curva en forma de campana. La ***media***, la ***mediana*** y la moda se encuentran en el mismo lugar, y los datos se reducen uniformemente a ambos lados de un pico central.\n",
    "\n",
    "Los/las estadísticos/as llaman a esto una distribución *normal* (o a veces *Gaussiana*), y se da con bastante frecuencia en muchos escenarios debido a algo llamado *Teorema del Límite Central*, que refleja la forma en que funciona la probabilidad continua."
   ]
  },
  {
   "cell_type": "markdown",
   "metadata": {
    "id": "riTTl3v8Mxii"
   },
   "source": [
    "#### Asimetría (*Skewness*) y curtosis\n",
    "Puedes medir la asimetría (*skewness*) (en qué dirección están sesgados los datos y en qué grado) y la curtosis (el \"pico\" de los datos) para hacerte una idea de la forma de la distribución de los datos. En Python, puedes usar las funciones ***skew*** y ***kurt*** para encontrar esto:"
   ]
  },
  {
   "cell_type": "code",
   "execution_count": 10,
   "metadata": {
    "colab": {
     "base_uri": "https://localhost:8080/",
     "height": 1000
    },
    "executionInfo": {
     "elapsed": 851,
     "status": "ok",
     "timestamp": 1699467359120,
     "user": {
      "displayName": "Juan Francisco Puentes Calvo",
      "userId": "04307711343502565257"
     },
     "user_tz": -60
    },
    "id": "DRm3Pu75Mxii",
    "outputId": "2fd13fd6-e2a0-4311-9400-9fcb7865d44c"
   },
   "outputs": [
    {
     "name": "stdout",
     "output_type": "stream",
     "text": [
      "Salary skewness: 2.57316410755049\n",
      "Salary kurtosis: 6.719828837773431\n"
     ]
    },
    {
     "data": {
      "image/png": "[encoded data removed]",
      "text/plain": [
       "<Figure size 640x480 with 1 Axes>"
      ]
     },
     "metadata": {},
     "output_type": "display_data"
    },
    {
     "name": "stdout",
     "output_type": "stream",
     "text": [
      "\n",
      "\n",
      "Hours skewness: -1.194570307262883\n",
      "Hours kurtosis: 0.9412265624999989\n"
     ]
    },
    {
     "data": {
      "image/png": "[encoded data removed]",
      "text/plain": [
       "<Figure size 640x480 with 1 Axes>"
      ]
     },
     "metadata": {},
     "output_type": "display_data"
    },
    {
     "name": "stdout",
     "output_type": "stream",
     "text": [
      "\n",
      "\n",
      "Grade skewness: -0.06512433009682762\n",
      "Grade kurtosis: 2.7484764913773034\n"
     ]
    },
    {
     "data": {
      "image/png": "[encoded data removed]",
      "text/plain": [
       "<Figure size 640x480 with 1 Axes>"
      ]
     },
     "metadata": {},
     "output_type": "display_data"
    },
    {
     "name": "stdout",
     "output_type": "stream",
     "text": [
      "\n",
      "\n"
     ]
    }
   ],
   "source": [
    "%matplotlib inline\n",
    "import pandas as pd\n",
    "import numpy as np\n",
    "from matplotlib import pyplot as plt\n",
    "import scipy.stats as stats\n",
    "\n",
    "df = pd.DataFrame({'Name': ['Dan', 'Joann', 'Pedro', 'Rosie', 'Ethan', 'Vicky', 'Frederic'],\n",
    "                   'Salary':[50000,54000,50000,189000,55000,40000,59000],\n",
    "                   'Hours':[41,40,36,30,35,39,40],\n",
    "                   'Grade':[50,50,46,95,50,5,57]})\n",
    "\n",
    "numcols = ['Salary', 'Hours', 'Grade']\n",
    "for col in numcols:\n",
    "    print(df[col].name + ' skewness: ' + str(df[col].skew()))\n",
    "    print(df[col].name + ' kurtosis: ' + str(df[col].kurt()))\n",
    "    density = stats.gaussian_kde(df[col])\n",
    "    n, x, _ = plt.hist(df[col], histtype='step', density=True, bins=25)\n",
    "    plt.plot(x, density(x)*6)\n",
    "    plt.show()\n",
    "    print('\\n')"
   ]
  },
  {
   "cell_type": "markdown",
   "metadata": {
    "id": "5BW3-WREMxii"
   },
   "source": [
    "Veamos ahora la distribución de un conjunto de datos real: veamos cómo se distribuyen las estaturas de los padres medidas en el estudio de Galton sobre las estaturas de padres e hijos:"
   ]
  },
  {
   "cell_type": "code",
   "execution_count": 11,
   "metadata": {
    "colab": {
     "base_uri": "https://localhost:8080/",
     "height": 430
    },
    "executionInfo": {
     "elapsed": 2100,
     "status": "ok",
     "timestamp": 1699467645289,
     "user": {
      "displayName": "Juan Francisco Puentes Calvo",
      "userId": "04307711343502565257"
     },
     "user_tz": -60
    },
    "id": "iUkjSzW0Mxii",
    "outputId": "88b015d6-a0ab-489b-9f3e-0cf2a00be126"
   },
   "outputs": [
    {
     "ename": "ModuleNotFoundError",
     "evalue": "No module named 'statsmodels'",
     "output_type": "error",
     "traceback": [
      "\u001b[31m---------------------------------------------------------------------------\u001b[39m",
      "\u001b[31mModuleNotFoundError\u001b[39m                       Traceback (most recent call last)",
      "\u001b[36mCell\u001b[39m\u001b[36m \u001b[39m\u001b[32mIn[11]\u001b[39m\u001b[32m, line 7\u001b[39m\n\u001b[32m      4\u001b[39m \u001b[38;5;28;01mimport\u001b[39;00m\u001b[38;5;250m \u001b[39m\u001b[34;01mnumpy\u001b[39;00m\u001b[38;5;250m \u001b[39m\u001b[38;5;28;01mas\u001b[39;00m\u001b[38;5;250m \u001b[39m\u001b[34;01mnp\u001b[39;00m\n\u001b[32m      5\u001b[39m \u001b[38;5;28;01mimport\u001b[39;00m\u001b[38;5;250m \u001b[39m\u001b[34;01mscipy\u001b[39;00m\u001b[34;01m.\u001b[39;00m\u001b[34;01mstats\u001b[39;00m\u001b[38;5;250m \u001b[39m\u001b[38;5;28;01mas\u001b[39;00m\u001b[38;5;250m \u001b[39m\u001b[34;01mstats\u001b[39;00m\n\u001b[32m----> \u001b[39m\u001b[32m7\u001b[39m \u001b[38;5;28;01mimport\u001b[39;00m\u001b[38;5;250m \u001b[39m\u001b[34;01mstatsmodels\u001b[39;00m\u001b[34;01m.\u001b[39;00m\u001b[34;01mapi\u001b[39;00m\u001b[38;5;250m \u001b[39m\u001b[38;5;28;01mas\u001b[39;00m\u001b[38;5;250m \u001b[39m\u001b[34;01msm\u001b[39;00m\n\u001b[32m      9\u001b[39m df = sm.datasets.get_rdataset(\u001b[33m'\u001b[39m\u001b[33mGaltonFamilies\u001b[39m\u001b[33m'\u001b[39m, package=\u001b[33m'\u001b[39m\u001b[33mHistData\u001b[39m\u001b[33m'\u001b[39m).data\n\u001b[32m     11\u001b[39m fathers = df[\u001b[33m'\u001b[39m\u001b[33mfather\u001b[39m\u001b[33m'\u001b[39m]\n",
      "\u001b[31mModuleNotFoundError\u001b[39m: No module named 'statsmodels'"
     ]
    }
   ],
   "source": [
    "%matplotlib inline\n",
    "import pandas as pd\n",
    "import matplotlib.pyplot as plt\n",
    "import numpy as np\n",
    "import scipy.stats as stats\n",
    "\n",
    "import statsmodels.api as sm\n",
    "\n",
    "df = sm.datasets.get_rdataset('GaltonFamilies', package='HistData').data\n",
    "\n",
    "fathers = df['father']\n",
    "density = stats.gaussian_kde(fathers)\n",
    "n, x, _ = plt.hist(fathers, histtype='step', density=True, bins=50)\n",
    "plt.plot(x, density(x)*2.5)\n",
    "plt.axvline(fathers.mean(), color='magenta', linestyle='dashed', linewidth=2)\n",
    "plt.axvline(fathers.median(), color='green', linestyle='dashed', linewidth=2)\n",
    "plt.show()\n"
   ]
  },
  {
   "cell_type": "markdown",
   "metadata": {
    "id": "5ONH4OqBMxii"
   },
   "source": [
    "Como puede ver, las medidas de estatura del padre tienen una distribución aproximadamente normal, es decir, forman una distribución más o menos *normal* que es simétrica en torno a la media."
   ]
  },
  {
   "cell_type": "markdown",
   "metadata": {
    "id": "Et3AcgcZMxii"
   },
   "source": [
    "### Medidas de Varianza\n",
    "En los gráficos de distribución de nuestros datos podemos ver que los valores de nuestro <u>**dataset**</u> pueden variar bastante. Podemos utilizar varias medidas para cuantificar esta varianza.\n",
    "\n",
    "#### Rango\n",
    "Una forma sencilla de cuantificar la varianza en un conjunto de datos (*dataset*) es identificar la diferencia entre los valores mínimo y máximo. Esto se denomina *rango*, y se calcula restando el valor mínimo del valor máximo.\n",
    "\n",
    "El siguiente código Python crea un único marco de datos Pandas para nuestros datos, y calcula el *rango* para cada una de las características numéricas:"
   ]
  },
  {
   "cell_type": "code",
   "execution_count": null,
   "metadata": {
    "colab": {
     "base_uri": "https://localhost:8080/"
    },
    "executionInfo": {
     "elapsed": 2,
     "status": "ok",
     "timestamp": 1699467954038,
     "user": {
      "displayName": "Juan Francisco Puentes Calvo",
      "userId": "04307711343502565257"
     },
     "user_tz": -60
    },
    "id": "6oFPSSueMxii",
    "outputId": "4c87917a-39ca-4787-bc3a-f374c8b22fa6"
   },
   "outputs": [],
   "source": [
    "import pandas as pd\n",
    "\n",
    "df = pd.DataFrame({'Name': ['Dan', 'Joann', 'Pedro', 'Rosie', 'Ethan', 'Vicky', 'Frederic'],\n",
    "                   'Salary':[50000,54000,50000,189000,55000,40000,59000],\n",
    "                   'Hours':[41,40,36,30,35,39,40],\n",
    "                   'Grade':[50,50,46,95,50,5,57]})\n",
    "\n",
    "numcols = ['Salary', 'Hours', 'Grade']\n",
    "for col in numcols:\n",
    "    print(df[col].name + ' range: ' + str(df[col].max() - df[col].min()))"
   ]
  },
  {
   "cell_type": "markdown",
   "metadata": {
    "id": "8mNxoF8TMxii"
   },
   "source": [
    "#### Percentiles y cuartiles\n",
    "El rango es fácil de calcular, pero no es una estadística especialmente útil. Por ejemplo, un intervalo de 149.000 entre el salario más bajo y el más alto no nos dice qué valor dentro de ese intervalo es más probable que gane un/una profesional: no nos dice nada sobre cómo se distribuyen los salarios en torno a la media dentro de ese intervalo.  El intervalo nos dice muy poco sobre la posición comparativa de un valor individual dentro de la distribución: por ejemplo, Frederic sacó 57 en su último curso, que es una nota bastante buena (es más que la de todos sus compañeros menos uno), pero esto no se desprende inmediatamente de una nota de 57 y un intervalo de 90.\n",
    "\n",
    "##### Percentiles\n",
    "Un percentil nos indica el lugar que ocupa un valor determinado en la distribución global. Por ejemplo, el 25% de los datos de una distribución tiene un valor inferior al percentil 25; el 75% de los datos tiene un valor inferior al percentil 75, y así sucesivamente. Observe que la mitad de los datos tienen un valor inferior al percentil 50, por lo que el percentil 50 también es la mediana.\n",
    "\n",
    "Examinemos la nota de Frederic utilizando este enfoque. Sabemos que ha sacado 57 puntos, pero ¿qué lugar ocupa en comparación con sus compañeros?\n",
    "\n",
    "Bien, hay siete estudiantes en total, y cinco de ellos sacaron menos nota que Frederic; así que podemos calcular el percentil de la nota de Frederic de la siguiente manera:\n",
    "\n",
    "\\begin{equation}\\frac{5}{7} \\times 100 \\approx 71.4\\end{equation}\n",
    "\n",
    "Así que la puntuación de Frederic le sitúa en el percentil 71,4 de su clase.\n",
    "\n",
    "En Python, puedes utilizar la función ***percentilofscore*** del paquete *scipy.stats* para calcular el percentil de un valor dado en un conjunto de valores:"
   ]
  },
  {
   "cell_type": "code",
   "execution_count": null,
   "metadata": {
    "colab": {
     "base_uri": "https://localhost:8080/"
    },
    "executionInfo": {
     "elapsed": 395,
     "status": "ok",
     "timestamp": 1699437455651,
     "user": {
      "displayName": "Juan Francisco Puentes Calvo",
      "userId": "04307711343502565257"
     },
     "user_tz": -60
    },
    "id": "mxHR0C7RMxii",
    "outputId": "4e7faf03-c6fc-4784-f062-30c764c6a4a1"
   },
   "outputs": [],
   "source": [
    "import pandas as pd\n",
    "from scipy import stats\n",
    "\n",
    "df = pd.DataFrame({'Name': ['Dan', 'Joann', 'Pedro', 'Rosie', 'Ethan', 'Vicky', 'Frederic'],\n",
    "                   'Salary':[50000,54000,50000,189000,55000,40000,59000],\n",
    "                   'Hours':[41,40,36,30,35,39,40],\n",
    "                   'Grade':[50,50,46,95,50,5,57]})\n",
    "\n",
    "print(stats.percentileofscore(df['Grade'], 57, 'strict'))"
   ]
  },
  {
   "cell_type": "markdown",
   "metadata": {
    "id": "5ecPP6DcMxii"
   },
   "source": [
    "Hemos utilizado la definición estricta de percentil; pero a veces se calcula como el porcentaje de valores que son menores *o iguales* al valor que estás comparando. En este caso, el cálculo del percentil de Frederic incluiría su propia puntuación:\n",
    "\n",
    "\\begin{equation}\\frac{6}{7} \\times 100 \\approx 85.7\\end{equation}\n",
    "\n",
    "Puedes calcular este modo en Python utilizando el modo ***débil*** de la función ***percentileofscore***:"
   ]
  },
  {
   "cell_type": "code",
   "execution_count": null,
   "metadata": {
    "id": "2y1jl0ewMxii"
   },
   "outputs": [],
   "source": [
    "import pandas as pd\n",
    "from scipy import stats\n",
    "\n",
    "df = pd.DataFrame({'Name': ['Dan', 'Joann', 'Pedro', 'Rosie', 'Ethan', 'Vicky', 'Frederic'],\n",
    "                   'Salary':[50000,54000,50000,189000,55000,40000,59000],\n",
    "                   'Hours':[41,40,36,30,35,39,40],\n",
    "                   'Grade':[50,50,46,95,50,5,57]})\n",
    "\n",
    "print(stats.percentileofscore(df['Grade'], 57, 'weak'))"
   ]
  },
  {
   "cell_type": "markdown",
   "metadata": {
    "id": "OGXVfBihMxii"
   },
   "source": [
    "Hemos considerado el percentil de la nota de Frederic y lo hemos utilizado para clasificarlo en comparación con sus compañeros. ¿Y qué pasa con Dan, Joann y Ethan? ¿Cómo se comparan con el resto de la clase? Han sacado la misma nota (50), así que en cierto sentido comparten un percentil.\n",
    "\n",
    "Para tratar este escenario *agrupado*, podemos promediar las clasificaciones porcentuales de las puntuaciones coincidentes. Tratamos la mitad de las puntuaciones que coinciden con la que estamos clasificando como si estuvieran por debajo, y la otra mitad como si estuvieran por encima. En este caso, había tres puntuaciones iguales de 50, y para cada una de ellas calculamos el percentil como si 1 estuviera por debajo y 1 por encima. Así que el cálculo de un percentil para Joann basado en las puntuaciones de ser menor o igual a 50 es:\n",
    "\n",
    "\\begin{equation}(\\frac{4}{7}) \\times 100 \\approx 57.14\\end{equation}\n",
    "\n",
    "El valor de **4** se compone de las dos puntuaciones que están por debajo de la puntuación de 50 de Joann, la propia puntuación de Joann y la mitad de las puntuaciones que son iguales a la de Joann (de las cuales hay dos, así que contamos una).\n",
    "\n",
    "En Python, la función ***percentileofscore*** tiene una función ***rank*** que calcula percentiles agrupados así:"
   ]
  },
  {
   "cell_type": "code",
   "execution_count": null,
   "metadata": {
    "colab": {
     "base_uri": "https://localhost:8080/"
    },
    "executionInfo": {
     "elapsed": 434,
     "status": "ok",
     "timestamp": 1699437620782,
     "user": {
      "displayName": "Juan Francisco Puentes Calvo",
      "userId": "04307711343502565257"
     },
     "user_tz": -60
    },
    "id": "59t8RzWHMxii",
    "outputId": "2543e7e5-8e95-4ea5-9ba6-ec7eea2f5af3"
   },
   "outputs": [],
   "source": [
    "import pandas as pd\n",
    "from scipy import stats\n",
    "\n",
    "df = pd.DataFrame({'Name': ['Dan', 'Joann', 'Pedro', 'Rosie', 'Ethan', 'Vicky', 'Frederic'],\n",
    "                   'Salary':[50000,54000,50000,189000,55000,40000,59000],\n",
    "                   'Hours':[41,40,36,30,35,39,40],\n",
    "                   'Grade':[50,50,46,95,50,5,57]})\n",
    "\n",
    "print(stats.percentileofscore(df['Grade'], 50, 'rank'))"
   ]
  },
  {
   "cell_type": "markdown",
   "metadata": {
    "id": "iGzK2Jy6Mxii"
   },
   "source": [
    "##### Cuartiles\n",
    "En lugar de utilizar percentiles individuales para comparar datos, podemos considerar la dispersión global de los datos dividiendo esos percentiles en cuatro *cuartiles*. El primer cuartil contiene los valores desde el mínimo hasta el percentil 25, el segundo desde el percentil 25 hasta el percentil 50 (que es la mediana), el tercero desde el percentil 50 hasta el percentil 75, y el cuarto desde el percentil 75 hasta el máximo.\n",
    "\n",
    "En Python, puede utilizar la función ***quantile*** de la clase *pandas.dataframe* para encontrar los valores umbral en los percentiles 25, 50 y 75 (*quantile* es un término genérico para una posición clasificada, como un percentil o un cuartil).\n",
    "\n",
    "Ejecuta el siguiente código para encontrar los umbrales de cuartil para las horas semanales trabajadas por nuestros antiguos alumnos:"
   ]
  },
  {
   "cell_type": "code",
   "execution_count": null,
   "metadata": {
    "colab": {
     "base_uri": "https://localhost:8080/"
    },
    "executionInfo": {
     "elapsed": 323,
     "status": "ok",
     "timestamp": 1699437668246,
     "user": {
      "displayName": "Juan Francisco Puentes Calvo",
      "userId": "04307711343502565257"
     },
     "user_tz": -60
    },
    "id": "YDnqs5GSMxii",
    "outputId": "f557e497-8e68-4c0a-cab0-83a85ba7aa79"
   },
   "outputs": [],
   "source": [
    "# Quartiles\n",
    "import pandas as pd\n",
    "\n",
    "df = pd.DataFrame({'Name': ['Dan', 'Joann', 'Pedro', 'Rosie', 'Ethan', 'Vicky', 'Frederic'],\n",
    "                   'Salary':[50000,54000,50000,189000,55000,40000,59000],\n",
    "                   'Hours':[41,40,36,17,35,39,40],\n",
    "                   'Grade':[50,50,46,95,50,5,57]})\n",
    "print(df['Hours'].quantile([0.25, 0.5, 0.75]))"
   ]
  },
  {
   "cell_type": "markdown",
   "metadata": {
    "id": "yOvug0d1Mxii"
   },
   "source": [
    "Normalmente es más fácil entender cómo se distribuyen los datos entre los cuartiles visualizándolos. Se puede utilizar un histograma, pero muchos científicos/as de datos utilizan un tipo de visualización llamado *box plot*.\n",
    "\n",
    "Vamos a crear un gráfico *box plot* para las horas semanales:"
   ]
  },
  {
   "cell_type": "code",
   "execution_count": null,
   "metadata": {
    "colab": {
     "base_uri": "https://localhost:8080/",
     "height": 699
    },
    "executionInfo": {
     "elapsed": 787,
     "status": "ok",
     "timestamp": 1699437740140,
     "user": {
      "displayName": "Juan Francisco Puentes Calvo",
      "userId": "04307711343502565257"
     },
     "user_tz": -60
    },
    "id": "n6b0LMm0Mxii",
    "outputId": "cf35a88a-a780-441a-f2c5-21ca45f4ad7a"
   },
   "outputs": [],
   "source": [
    "%matplotlib inline\n",
    "import pandas as pd\n",
    "from matplotlib import pyplot as plt\n",
    "\n",
    "df = pd.DataFrame({'Name': ['Dan', 'Joann', 'Pedro', 'Rosie', 'Ethan', 'Vicky', 'Frederic'],\n",
    "                   'Salary':[50000,54000,50000,189000,55000,40000,59000],\n",
    "                   'Hours':[41,40,36,30,35,39,40],\n",
    "                   'Grade':[50,50,46,95,50,5,57]})\n",
    "\n",
    "# Plot a box-whisker chart\n",
    "df['Hours'].plot(kind='box', title='Weekly Hours Distribution', figsize=(10,8))\n",
    "plt.show()"
   ]
  },
  {
   "cell_type": "markdown",
   "metadata": {
    "id": "OAOnGAykMxij"
   },
   "source": [
    "El diagrama de caja consiste en:\n",
    "- Una *caja* rectangular que muestra dónde se encuentran los datos entre el percentil 25 y el 75 (el segundo y tercer cuartil). Esta parte de la distribución suele denominarse *intervalo intercuartílico*, ya que contiene los 50 valores medios de los datos.\n",
    "- *Bigotes* que se extienden desde la caja hasta la parte inferior del primer cuartil y la parte superior del cuarto cuartil para mostrar el rango completo de los datos.\n",
    "- Una línea en la caja que muestra la ubicación de la mediana (el percentil 50, que es también el umbral entre el segundo y el tercer cuartil).\n",
    "\n",
    "En este caso, puedes ver que el rango intercuartílico está entre 35 y 40, con la mediana más cerca de la parte superior de ese rango. El rango del primer cuartil es de 30 a 35 aproximadamente, y el del cuarto cuartil es de 40 a 41."
   ]
  },
  {
   "cell_type": "markdown",
   "metadata": {
    "id": "qDt03JYSMxij"
   },
   "source": [
    "#### Valores atípicos (*Outliers*)\n",
    "Veamos otro gráfico de cajas, esta vez con la distribución de los salarios de nuestros antiguos compañeros:"
   ]
  },
  {
   "cell_type": "code",
   "execution_count": null,
   "metadata": {
    "colab": {
     "base_uri": "https://localhost:8080/",
     "height": 699
    },
    "executionInfo": {
     "elapsed": 546,
     "status": "ok",
     "timestamp": 1699437848394,
     "user": {
      "displayName": "Juan Francisco Puentes Calvo",
      "userId": "04307711343502565257"
     },
     "user_tz": -60
    },
    "id": "cvbHfwsAMxil",
    "outputId": "fb9f72d1-cac8-4494-9b25-343641ea7fef"
   },
   "outputs": [],
   "source": [
    "%matplotlib inline\n",
    "import pandas as pd\n",
    "from matplotlib import pyplot as plt\n",
    "\n",
    "df = pd.DataFrame({'Name': ['Dan', 'Joann', 'Pedro', 'Rosie', 'Ethan', 'Vicky', 'Frederic'],\n",
    "                   'Salary':[50000,54000,50000,189000,55000,40000,59000],\n",
    "                   'Hours':[41,40,36,30,35,39,40],\n",
    "                   'Grade':[50,50,46,95,50,5,57]})\n",
    "\n",
    "# Plot a box-whisker chart\n",
    "df['Salary'].plot(kind='box', title='Salary Distribution', figsize=(10,8))\n",
    "plt.show()"
   ]
  },
  {
   "cell_type": "markdown",
   "metadata": {
    "id": "rfYbJXSfMxil"
   },
   "source": [
    "¿Qué está pasando aquí?\n",
    "\n",
    "Bueno, como ya hemos visto, Rosie gana bastante más que sus antiguos compañeros. Tanto, que su salario se ha identificado como un *valor atípico*. Un valor atípico es un valor que está tan alejado del centro de la distribución en comparación con otros valores que sesga la distribución afectando a la media. Hay todo tipo de razones por las que puede haber valores atípicos en los datos, como errores en la introducción de datos, fallos en los sensores o en el equipo de generación de datos, o valores realmente anómalos.\n",
    "\n",
    "¿Qué debemos hacer al respecto?\n",
    "\n",
    "Depende de los datos y del uso que se les quiera dar. En este caso, supongamos que intentamos averiguar cuál es una expectativa razonable de salario para un graduado de nuestra escuela. Ignorando por el momento que tenemos un conjunto de datos extremadamente pequeño en el que basar nuestro juicio, parece que el salario de Rosie podría ser un error (tal vez lo escribió mal en el formulario utilizado para recopilar datos) o una anomalía genuina (tal vez se convirtió en atleta profesional o en algún otro trabajo extremadamente bien pagado). En cualquier caso, no parece representar el salario de un/una profesional típico.\n",
    "\n",
    "Veamos cómo es la distribución de los datos sin el valor atípico:"
   ]
  },
  {
   "cell_type": "code",
   "execution_count": null,
   "metadata": {
    "colab": {
     "base_uri": "https://localhost:8080/",
     "height": 699
    },
    "executionInfo": {
     "elapsed": 695,
     "status": "ok",
     "timestamp": 1699437930434,
     "user": {
      "displayName": "Juan Francisco Puentes Calvo",
      "userId": "04307711343502565257"
     },
     "user_tz": -60
    },
    "id": "kiJDMEIrMxil",
    "outputId": "5a0ce85f-327d-4356-8390-b0b189df60ff"
   },
   "outputs": [],
   "source": [
    "%matplotlib inline\n",
    "import pandas as pd\n",
    "from matplotlib import pyplot as plt\n",
    "\n",
    "df = pd.DataFrame({'Name': ['Dan', 'Joann', 'Pedro', 'Rosie', 'Ethan', 'Vicky', 'Frederic'],\n",
    "                   'Salary':[50000,54000,50000,189000,55000,40000,59000],\n",
    "                   'Hours':[41,40,36,17,35,39,40],\n",
    "                   'Grade':[50,50,46,95,50,5,57]})\n",
    "\n",
    "# Plot a box-whisker chart\n",
    "df['Salary'].plot(kind='box', title='Salary Distribution', figsize=(10,8), showfliers=False)\n",
    "plt.show()"
   ]
  },
  {
   "cell_type": "markdown",
   "metadata": {
    "id": "mXAC1WksMxil"
   },
   "source": [
    "Ahora parece que hay una distribución más uniforme de los salarios. Todavía no es simétrica, pero hay mucha menos variación general. Hay potencialmente alguna causa aquí para no tener en cuenta los datos salariales de Rosie cuando comparamos los salarios, ya que tiende a sesgar el análisis.\n",
    "\n",
    "Entonces, ¿está bien? ¿Podemos ignorar un dato que no nos gusta?\n",
    "\n",
    "Una vez más, depende de lo que estemos analizando. Echemos un vistazo a la distribución de las calificaciones finales:"
   ]
  },
  {
   "cell_type": "code",
   "execution_count": null,
   "metadata": {
    "id": "UlfVi7DxMxil"
   },
   "outputs": [],
   "source": [
    "%matplotlib inline\n",
    "import pandas as pd\n",
    "from matplotlib import pyplot as plt\n",
    "\n",
    "df = pd.DataFrame({'Name': ['Dan', 'Joann', 'Pedro', 'Rosie', 'Ethan', 'Vicky', 'Frederic'],\n",
    "                   'Salary':[50000,54000,50000,189000,55000,40000,59000],\n",
    "                   'Hours':[41,40,36,17,35,39,40],\n",
    "                   'Grade':[50,50,46,95,50,5,57]})\n",
    "\n",
    "# Plot a box-whisker chart\n",
    "df['Grade'].plot(kind='box', title='Grade Distribution', figsize=(10,8))\n",
    "plt.show()"
   ]
  },
  {
   "cell_type": "markdown",
   "metadata": {
    "id": "EziOzbl8Mxil"
   },
   "source": [
    "Una vez más hay valores atípicos, esta vez en ambos extremos de la distribución. Sin embargo, piensa en lo que representan estos datos. Si suponemos que la calificación del examen final se basa en una puntuación sobre 100, parece razonable esperar que algunos estudiantes obtengan una puntuación muy baja (quizá incluso 0) y otros una puntuación muy buena (quizá incluso 100); pero la mayoría obtendrá una puntuación intermedia.  El hecho de que las puntuaciones altas y bajas parezcan valores atípicos puede deberse a que tenemos muy pocos datos. Veamos qué ocurre si incluimos algunos estudiantes más en nuestros datos:"
   ]
  },
  {
   "cell_type": "code",
   "execution_count": null,
   "metadata": {
    "colab": {
     "base_uri": "https://localhost:8080/",
     "height": 699
    },
    "executionInfo": {
     "elapsed": 646,
     "status": "ok",
     "timestamp": 1699438008994,
     "user": {
      "displayName": "Juan Francisco Puentes Calvo",
      "userId": "04307711343502565257"
     },
     "user_tz": -60
    },
    "id": "czl3F5rYMxil",
    "outputId": "17592964-d83b-478d-834b-df7667f9f748"
   },
   "outputs": [],
   "source": [
    "%matplotlib inline\n",
    "import pandas as pd\n",
    "from matplotlib import pyplot as plt\n",
    "\n",
    "df = pd.DataFrame({'Name': ['Dan', 'Joann', 'Pedro', 'Rosie', 'Ethan', 'Vicky', 'Frederic', 'Jimmie', 'Rhonda', 'Giovanni', 'Francesca', 'Rajab', 'Naiyana', 'Kian', 'Jenny'],\n",
    "                   'Grade':[50,50,46,95,50,5,57,42,26,72,78,60,40,17,85]})\n",
    "\n",
    "# Plot a box-whisker chart\n",
    "df['Grade'].plot(kind='box', title='Grade Distribution', figsize=(10,8))\n",
    "plt.show()"
   ]
  },
  {
   "cell_type": "markdown",
   "metadata": {
    "id": "syj4TID9Mxil"
   },
   "source": [
    "Con más datos, hay más puntuaciones altas y bajas, por lo que ya no consideramos los casos aislados como valores atípicos.\n",
    "\n",
    "El punto clave que hay que extraer de aquí es que hay que entender realmente los datos y lo que se intenta hacer con ellos, y asegurarse de que se dispone de un tamaño de muestra razonable, antes de determinar qué hacer con los valores atípicos."
   ]
  },
  {
   "cell_type": "markdown",
   "metadata": {
    "id": "TJSWYbtEMxim"
   },
   "source": [
    "#### Varianza y desviación típica\n",
    "Ya hemos visto cómo entender la *extensión* de la distribución de nuestros datos utilizando el rango, los percentiles y los cuartiles; y hemos visto el efecto de los valores atípicos en la distribución. Ahora es el momento de ver cómo medir la cantidad de varianza en los datos.\n",
    "\n",
    "##### Varianza\n",
    "La varianza se mide como la media de la diferencia al cuadrado con respecto a la media. Para una población completa, se indica con una letra griega al cuadrado *sigma* (***&sigma;<sup>2</sup>***) y se calcula así:\n",
    "\n",
    "$\\sigma^{2} = \\frac{\\displaystyle\\sum_{i=1}^{N} (X_{i} -\\mu)^{2}}{N}$\n",
    "\n",
    "Para una muestra, se indica como ***s<sup>2</sup>*** calculado así:\n",
    "\n",
    "$s^{2} = \\frac{\\displaystyle\\sum_{i=1}^{n} (x_{i} -\\bar{x})^{2}}{n-1}$\n",
    "\n",
    "En ambos casos, sumamos la diferencia entre los valores de los datos individuales y la media y elevamos el resultado al cuadrado. A continuación, en el caso de una población completa, sólo tenemos que dividir por el número de elementos de datos para obtener la media. Cuando utilizamos una muestra, dividimos por el número total de elementos **menos 1** para corregir el sesgo de la muestra (*corrección de Bessel*).\n",
    "\n",
    ">La razón de esta corrección es <u>compensar el sesgo en la estimación de la varianza de la población a partir de una muestra</u>. Cuando calculamos la varianza de una muestra, estamos utilizando la media muestral, no la media de la población. La media muestral es una estimación de la media de la población y tiende a estar más cerca de los puntos de datos de la muestra que la verdadera media de la población. Esto significa que la suma de los cuadrados de las diferencias tiende a ser menor de lo que sería si pudiéramos usar la verdadera media de la población. Como resultado, si no hacemos la corrección, nuestra estimación de la varianza de la población tiende a ser sistemáticamente demasiado baja.\n",
    "\n",
    ">Al dividir por $n-1$ en lugar de $n$ estamos ajustando la escala de la varianza para hacerla un poco más grande, compensando así el efecto de haber utilizado la media muestral. Este ajuste solo es relevante cuando estamos tratando de estimar la varianza de la población a partir de una muestra; si estamos calculando la varianza de una población completa, no es necesario hacer este ajuste, y dividimos por $n$.\n",
    "\n",
    ">Este método de cálculo se conoce como la varianza \"muestral\", en contraste con la varianza \"poblacional\", que divide por $n$. La varianza muestral es un estimador insesgado de la varianza de la población cuando los datos provienen de una muestra aleatoria.\n",
    "\n",
    "Hagamos esto para las notas de nuestros alumnos (suponiendo que nuestros datos son una muestra de la población estudiantil más amplia).\n",
    "\n",
    "En primer lugar, tenemos que calcular la nota media:\n",
    "\n",
    "$\\bar{x} = \\frac{50+50+46+95+50+5+57}{7}\\approx 50.43$\n",
    "\n",
    "Entonces podemos introducirlo en nuestra fórmula para la varianza:\n",
    "\n",
    "$s^{2} = \\frac{(50-50.43)^{2}+(50-50.43)^{2}+(46-50.43)^{2}+(95-50.43)^{2}+(50-50.43)^{2}+(5-50.43)^{2}+(57-50.43)^{2}}{7-1}$\n",
    "\n",
    "Entonces:\n",
    "\n",
    "$s^{2} = \\frac{0.185+0.185+19.625+1986.485+0.185+2063.885+43.165}{6}$\n",
    "\n",
    "Lo que se simplifica a:\n",
    "\n",
    "$s^{2} = \\frac{4113.715}{6}$\n",
    "\n",
    "Dando el resultado:\n",
    "\n",
    "$s^{2}$ aproximadamente 685,619.\n",
    "\n",
    "Cuanto mayor sea la varianza, mayor será la dispersión de los datos en torno a la media.\n",
    "\n",
    "En Python, puede utilizar la función ***var*** de la clase *pandas.dataframe* para calcular la varianza de una columna en un marco de datos:"
   ]
  },
  {
   "cell_type": "code",
   "execution_count": null,
   "metadata": {
    "id": "SD9wilolMxim"
   },
   "outputs": [],
   "source": [
    "import pandas as pd\n",
    "\n",
    "df = pd.DataFrame({'Name': ['Dan', 'Joann', 'Pedro', 'Rosie', 'Ethan', 'Vicky', 'Frederic'],\n",
    "                   'Salary':[50000,54000,50000,189000,55000,40000,59000],\n",
    "                   'Hours':[41,40,36,17,35,39,40],\n",
    "                   'Grade':[50,50,46,95,50,5,57]})\n",
    "\n",
    "print(df['Grade'].var())"
   ]
  },
  {
   "cell_type": "markdown",
   "metadata": {
    "id": "eQzaS6gCMxim"
   },
   "source": [
    "##### Desviación estándar\n",
    "Para calcular la varianza, elevamos al cuadrado la diferencia de cada valor respecto a la media. Si no hubiéramos hecho esto, el numerador de nuestra fracción siempre acabaría siendo cero (porque la media está en el centro de nuestros valores). Sin embargo, esto significa que la varianza no está en la misma unidad de medida que nuestros datos - en nuestro caso, ya que estamos calculando la varianza para los puntos de calificación, está en puntos de calificación al cuadrado, lo que no es muy útil.\n",
    "\n",
    "Para obtener la medida de la varianza de nuevo en la misma unidad de medida, tenemos que encontrar su raíz cuadrada:\n",
    "\n",
    "$s = \\sqrt{685.619} \\approx 26.184$\n",
    "\n",
    "¿Qué representa este valor?\n",
    "\n",
    "Es la *desviación estándar* de nuestros datos de calificaciones. Más formalmente, se calcula así para una población completa:\n",
    "\n",
    "$\\sigma = \\sqrt{\\frac{\\displaystyle\\sum_{i=1}^{N} (X_{i} -\\mu)^{2}}{N}}$\n",
    "\n",
    "O como esto para una muestra:\n",
    "\n",
    "$s = \\sqrt{\\frac{\\displaystyle\\sum_{i=1}^{n} (x_{i} -\\bar{x})^{2}}{n-1}}$\n",
    "\n",
    "Ten en cuenta que, en ambos casos, ¡no es más que la raíz cuadrada de la varianza forumla correspondiente!\n",
    "\n",
    "En Python, puedes calcularla utilizando la función ***std***:"
   ]
  },
  {
   "cell_type": "code",
   "execution_count": null,
   "metadata": {
    "colab": {
     "base_uri": "https://localhost:8080/"
    },
    "executionInfo": {
     "elapsed": 360,
     "status": "ok",
     "timestamp": 1699439011107,
     "user": {
      "displayName": "Juan Francisco Puentes Calvo",
      "userId": "04307711343502565257"
     },
     "user_tz": -60
    },
    "id": "clRHXzKzMxim",
    "outputId": "a7fb9f7f-a9e3-44cf-aad2-89e429519c40"
   },
   "outputs": [],
   "source": [
    "import pandas as pd\n",
    "\n",
    "df = pd.DataFrame({'Name': ['Dan', 'Joann', 'Pedro', 'Rosie', 'Ethan', 'Vicky', 'Frederic'],\n",
    "                   'Salary':[50000,54000,50000,189000,55000,40000,59000],\n",
    "                   'Hours':[41,40,36,17,35,39,40],\n",
    "                   'Grade':[50,50,46,95,50,5,57]})\n",
    "\n",
    "print(df['Grade'].std())"
   ]
  },
  {
   "cell_type": "markdown",
   "metadata": {
    "id": "JFRXxGruMxim"
   },
   "source": [
    "#### Desviación típica en una distribución normal\n",
    "\n",
    "En estadística y ciencia de datos, pasamos mucho tiempo considerando las distribuciones *normales*, porque se dan con mucha frecuencia. La desviación típica tiene una relación importante en una distribución normal.\n",
    "\n",
    "Ejecuta la siguiente celda para mostrar un histograma de una distribución *normal estándar* (que es una distribución con una media de 0 y una desviación estándar de 1):"
   ]
  },
  {
   "cell_type": "code",
   "execution_count": null,
   "metadata": {
    "colab": {
     "base_uri": "https://localhost:8080/",
     "height": 430
    },
    "executionInfo": {
     "elapsed": 1320,
     "status": "ok",
     "timestamp": 1699439074744,
     "user": {
      "displayName": "Juan Francisco Puentes Calvo",
      "userId": "04307711343502565257"
     },
     "user_tz": -60
    },
    "id": "StI2gwUqMxim",
    "outputId": "8403c248-e402-497b-e190-3bfc84dae93a"
   },
   "outputs": [],
   "source": [
    "%matplotlib inline\n",
    "import pandas as pd\n",
    "import matplotlib.pyplot as plt\n",
    "import numpy as np\n",
    "import scipy.stats as stats\n",
    "\n",
    "# Create a random standard normal distribution\n",
    "df = pd.DataFrame(np.random.randn(100000, 1), columns=['Grade'])\n",
    "\n",
    "# Plot the distribution as a histogram with a density curve\n",
    "grade = df['Grade']\n",
    "density = stats.gaussian_kde(grade)\n",
    "n, x, _ = plt.hist(grade, color='lightgrey', density=True, bins=100)\n",
    "plt.plot(x, density(x))\n",
    "\n",
    "# Get the mean and standard deviation\n",
    "s = df['Grade'].std()\n",
    "m = df['Grade'].mean()\n",
    "\n",
    "# Annotate 1 stdev\n",
    "x1 = [m-s, m+s]\n",
    "y1 = [0.25, 0.25]\n",
    "plt.plot(x1,y1, color='magenta')\n",
    "plt.annotate('1s (68.26%)', (x1[1],y1[1]))\n",
    "\n",
    "# Annotate 2 stdevs\n",
    "x2 = [m-(s*2), m+(s*2)]\n",
    "y2 = [0.05, 0.05]\n",
    "plt.plot(x2,y2, color='green')\n",
    "plt.annotate('2s (95.45%)', (x2[1],y2[1]))\n",
    "\n",
    "# Annotate 3 stdevs\n",
    "x3 = [m-(s*3), m+(s*3)]\n",
    "y3 = [0.005, 0.005]\n",
    "plt.plot(x3,y3, color='orange')\n",
    "plt.annotate('3s (99.73%)', (x3[1],y3[1]))\n",
    "\n",
    "# Show the location of the mean\n",
    "plt.axvline(grade.mean(), color='grey', linestyle='dashed', linewidth=1)\n",
    "\n",
    "plt.show()"
   ]
  },
  {
   "cell_type": "markdown",
   "metadata": {
    "id": "KvsExTMVMxim"
   },
   "source": [
    "Las líneas horizontales de color muestran el porcentaje de datos dentro de 1, 2 y 3 desviaciones estándar de la media (más o menos).\n",
    "\n",
    "En cualquier distribución normal\n",
    "- Aproximadamente el 68,26% de los valores se sitúan dentro de una desviación típica de la media.\n",
    "- Aproximadamente el 95,45% de los valores se sitúan a dos desviaciones estándar de la media.\n",
    "- Aproximadamente el 99,73% de los valores se sitúan a tres desviaciones estándar de la media."
   ]
  },
  {
   "cell_type": "markdown",
   "metadata": {
    "id": "RDIaLuumMxim"
   },
   "source": [
    "#### Z Score\n",
    "Así pues, en una distribución normal (o casi normal), la desviación típica permite evaluar la distancia a la que se encuentra un determinado intervalo de valores con respecto a la media, lo que nos permite comparar dónde se sitúa un valor concreto dentro de la distribución. Por ejemplo, supongamos que Rosie nos dice que fue la alumna que sacó la nota más alta entre sus amigos. Puede que sólo haya sacado una fracción de punto más que la segunda alumna con mejor puntuación. Aunque sepamos que estaba en el cuartil superior, si no sabemos cómo se distribuyen el resto de las notas, sigue sin estar claro su rendimiento en comparación con el de sus amigos.\n",
    "\n",
    "Sin embargo, si te dice cuántas desviaciones típicas por encima de la media fue su puntuación, esto te ayudará a comparar su puntuación con la de sus compañeros.\n",
    "\n",
    "Entonces, ¿cómo sabemos cuántas desviaciones típicas por encima o por debajo de la media está un valor concreto? Lo llamamos *Z Score*, y se calcula así para una población completa:\n",
    "\n",
    "$Z = \\frac{x - \\mu}{\\sigma}$\n",
    "\n",
    "o como este para una muestra:\n",
    "\n",
    "$Z = \\frac{x - \\bar{x}}{s}$\n",
    "\n",
    "Examinemos la nota de 95 de Rosie. Ahora que sabemos que la *calificación media* es 50,43 y la *desviación típica* es 26,184, podemos calcular el *Z-score* para esta calificación de la siguiente manera:\n",
    "\n",
    "$Z = \\frac{95 - 50.43}{26.184} = 1.702$.\n",
    "\n",
    "Así que la nota de Rosie está a 1,702 desviaciones típicas por encima de la media.\n",
    "\n",
    "#### Ejercicio\n",
    "Suponga que tenemos una bolsa con cuatro bolas del número 3, una bola con el número 6, otra con el número 8 y otra con el número 9. Dibuje la función de distribución de probabilidad del número obtenido al sacar una bola al azar. ¿Si se le diese un premio cada vez que la el número de la bola extraída coincida con un número que usted haya elegido, qué valor elegiría? ¿Si se le aplicase una penalización por la diferencia entre el número de la bola extraída y el valor que usted haya elegido qué valor elegiría? ¿Y si la penalización fuese proporcional a la diferencia al cuadrado?"
   ]
  },
  {
   "cell_type": "markdown",
   "metadata": {
    "id": "ogCyaageMxim"
   },
   "source": [
    "### Resumiendo\n",
    "Hemos visto cómo obtener estadísticas individuales en Python, pero también puede utilizar la función ***describe*** para recuperar estadísticas de resumen para todas las columnas numéricas de un marco de datos. Estos estadísticos de resumen incluyen muchos de los estadísticos que hemos examinado hasta ahora (aunque vale la pena señalar que la *mediana* no está incluida):"
   ]
  },
  {
   "cell_type": "code",
   "execution_count": null,
   "metadata": {
    "colab": {
     "base_uri": "https://localhost:8080/"
    },
    "executionInfo": {
     "elapsed": 254,
     "status": "ok",
     "timestamp": 1699439307007,
     "user": {
      "displayName": "Juan Francisco Puentes Calvo",
      "userId": "04307711343502565257"
     },
     "user_tz": -60
    },
    "id": "YM4m4H6-Mxim",
    "outputId": "13ec2e5c-8af7-4c05-d311-47ea6b9576f3"
   },
   "outputs": [],
   "source": [
    "import pandas as pd\n",
    "\n",
    "df = pd.DataFrame({'Name': ['Dan', 'Joann', 'Pedro', 'Rosie', 'Ethan', 'Vicky', 'Frederic'],\n",
    "                   'Salary':[50000,54000,50000,189000,55000,40000,59000],\n",
    "                   'Hours':[41,40,36,17,35,39,40],\n",
    "                   'Grade':[50,50,46,95,50,5,57]})\n",
    "print(df.describe())"
   ]
  }
 ],
 "metadata": {
  "colab": {
   "provenance": []
  },
  "kernelspec": {
   "display_name": "Python (transformers)",
   "language": "python",
   "name": "transformers"
  },
  "language_info": {
   "codemirror_mode": {
    "name": "ipython",
    "version": 3
   },
   "file_extension": ".py",
   "mimetype": "text/x-python",
   "name": "python",
   "nbconvert_exporter": "python",
   "pygments_lexer": "ipython3",
   "version": "3.12.3"
  }
 },
 "nbformat": 4,
 "nbformat_minor": 4
}
