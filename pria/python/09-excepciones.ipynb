{
 "cells": [
  {
   "cell_type": "markdown",
   "metadata": {},
   "source": [
    "<center>\n",
    "<h1 style=\"color: #007BC4;\">Curso de programación con Python</h1> \n",
    "<h3 style=\"color: #333333;\">Tema 9 - Excepciones</h3> \n",
    "</center>\n",
    "<br>\n",
    "\n"
   ]
  },
  {
   "cell_type": "markdown",
   "metadata": {},
   "source": [
    "<h2>Contenidos</h2>\n",
    "<div class=\"alert alert-block alert-info\" \n",
    "     style=\"margin-top: 0px; padding-top:0px; border: 1px solid #007BC4; border-radius: 20px; background:transparent;\">\n",
    "    <ul>\n",
    "        <li><a href=\"#intro\">Estructura general</a></li>\n",
    "        <li><a href=\"#except\">Capturar excepciones</a></li>\n",
    "        <li><a href=\"#raise\">Lanzar excepciones</a></li>  \n",
    "        <li><a href=\"#finally\">Finally</a></li>   \n",
    "    </ul>\n",
    "</div>"
   ]
  },
  {
   "cell_type": "markdown",
   "metadata": {},
   "source": [
    "<a name=\"intro\"></a>\n",
    "\n",
    "<h2 style=\"color: #007BC4;\">Estructura general</h2>\n",
    "<hr style=\"border: 0.5px solid #007BC4;\">\n"
   ]
  },
  {
   "cell_type": "code",
   "execution_count": null,
   "metadata": {},
   "outputs": [],
   "source": [
    "x = 5\n",
    "y = 3\n",
    "try:\n",
    "    if x > y:\n",
    "        print(f\"{x} es mayor que {y}\")\n",
    "    else:\n",
    "        print(f\"{x} es menor o igual que {y}\")\n",
    "except:\n",
    "    print(\"Hubo algún problema en el bloque try\")\n",
    "else:\n",
    "    print(\"Todo fue bien\")\n",
    "finally:\n",
    "    print(\"El bloque try-except-else finalizó\")"
   ]
  },
  {
   "cell_type": "markdown",
   "metadata": {},
   "source": [
    "<a name=\"except\"></a>\n",
    "\n",
    "<h2 style=\"color: #007BC4;\">Capturar Excepciones</h2>\n",
    "<hr style=\"border: 0.5px solid #007BC4;\">\n"
   ]
  },
  {
   "cell_type": "code",
   "execution_count": null,
   "metadata": {},
   "outputs": [],
   "source": [
    "def divide_lista(dividendo, divisor):\n",
    "    \"\"\"Divide dos números.\"\"\"\n",
    "    print(dividendo // divisor)\n",
    "\n",
    "\n",
    "if __name__ == \"__main__\":\n",
    "    divide_lista(6, 2)\n",
    "    divide_lista(5, 0)\n",
    "    divide_lista(9, 3)\n"
   ]
  },
  {
   "cell_type": "code",
   "execution_count": null,
   "metadata": {},
   "outputs": [],
   "source": [
    "def divide_lista(dividendo, divisor):\n",
    "    \"\"\"Divide dos números.\"\"\"\n",
    "    try:\n",
    "        print(dividendo // divisor)\n",
    "    except:\n",
    "        print(\"¡Se ha producido un error!\")\n",
    "\n",
    "\n",
    "if __name__ == \"__main__\":\n",
    "    divide_lista(6, 2)\n",
    "    divide_lista(5, 0)\n",
    "    divide_lista(9, 3)"
   ]
  },
  {
   "cell_type": "code",
   "execution_count": null,
   "metadata": {},
   "outputs": [],
   "source": [
    "def divide_lista(dividendo, divisor):\n",
    "    \"\"\"Divide dos números.\"\"\"\n",
    "    try:\n",
    "        print(dividendo // divisor)\n",
    "    except Exception as excepcion:\n",
    "        print(\"¡Se ha producido un error!: \", excepcion)\n",
    "\n",
    "\n",
    "if __name__ == \"__main__\":\n",
    "    divide_lista(6, 2)\n",
    "    divide_lista(5, 0)\n",
    "    divide_lista(9, 3)\n"
   ]
  },
  {
   "cell_type": "code",
   "execution_count": null,
   "metadata": {},
   "outputs": [],
   "source": [
    "def divide_lista(dividendo, divisor):\n",
    "    \"\"\"Divide dos números.\"\"\"\n",
    "    try:\n",
    "        print(dividendo // divisor)\n",
    "    except ZeroDivisionError:\n",
    "        print(\"¡Error, el divisor vale 0!\")\n",
    "    except Exception as excepcion:\n",
    "        print(\"¡Se ha producido un error no contemplado!: \", excepcion)\n",
    "\n",
    "\n",
    "if __name__ == \"__main__\":\n",
    "    divide_lista(6, 2)\n",
    "    divide_lista(5, 0)\n",
    "    divide_lista(9, \"3\")"
   ]
  },
  {
   "cell_type": "markdown",
   "metadata": {},
   "source": [
    "<a name=\"raise\"></a>\n",
    "\n",
    "<h2 style=\"color: #007BC4;\">Lanzar Excepciones</h2>\n",
    "<hr style=\"border: 0.5px solid #007BC4;\">\n"
   ]
  },
  {
   "cell_type": "code",
   "execution_count": null,
   "metadata": {},
   "outputs": [],
   "source": [
    "def divide_lista(dividendo, divisor):\n",
    "    \"\"\"Divide dos números.\"\"\"\n",
    "    try:\n",
    "        print(dividendo // divisor)\n",
    "    except Exception as excepcion:\n",
    "        raise excepcion\n",
    "\n",
    "\n",
    "if __name__ == \"__main__\":\n",
    "    try:\n",
    "        divide_lista(5, 0)\n",
    "    except ZeroDivisionError:\n",
    "        print(\"¡Error, el divisor vale 0!\")\n",
    "    except Exception as excepcion:\n",
    "        print(\"¡Se ha producido un error no contemplado!: \", excepcion)\n",
    " \n"
   ]
  },
  {
   "cell_type": "markdown",
   "metadata": {},
   "source": [
    "<a name=\"finally\"></a>\n",
    "\n",
    "<h2 style=\"color: #007BC4;\">Finally</h2>\n",
    "<hr style=\"border: 0.5px solid #007BC4;\">"
   ]
  },
  {
   "cell_type": "code",
   "execution_count": null,
   "metadata": {},
   "outputs": [],
   "source": [
    "def divide_lista(dividendo, divisor):\n",
    "    \"\"\"Divide dos números.\"\"\"\n",
    "    try:\n",
    "        print(dividendo // divisor)\n",
    "    except Exception as excepcion:\n",
    "        raise excepcion\n",
    "\n",
    "\n",
    "if __name__ == \"__main__\":\n",
    "    try:\n",
    "        divide_lista(5, 0)\n",
    "    except ZeroDivisionError:\n",
    "        print(\"¡Error, el divisor vale 0!\")\n",
    "    finally:\n",
    "        print(\"Fin del programa\")\n",
    " \n"
   ]
  },
  {
   "cell_type": "code",
   "execution_count": null,
   "metadata": {},
   "outputs": [],
   "source": [
    "def divide_lista(dividendo, divisor):\n",
    "    \"\"\"Divide dos números.\"\"\"\n",
    "    try:\n",
    "        print(dividendo // divisor)\n",
    "    except Exception as excepcion:\n",
    "        raise excepcion\n",
    "\n",
    "\n",
    "if __name__ == \"__main__\":\n",
    "    try:\n",
    "        divide_lista(5, 2)\n",
    "    except ZeroDivisionError:\n",
    "        print(\"¡Error, el divisor vale 0!\")\n",
    "    finally:\n",
    "        print(\"Fin del programa\")"
   ]
  },
  {
   "cell_type": "code",
   "execution_count": null,
   "metadata": {},
   "outputs": [],
   "source": [
    "def divide_lista(dividendo, divisor):\n",
    "    \"\"\"Divide dos números.\"\"\"\n",
    "    try:\n",
    "        print(dividendo // divisor)\n",
    "    except Exception as excepcion:\n",
    "        raise excepcion\n",
    "\n",
    "\n",
    "if __name__ == \"__main__\":\n",
    "    try:\n",
    "        divide_lista(5, \"2\")\n",
    "    except ZeroDivisionError:\n",
    "        print(\"¡Error, el divisor vale 0!\")\n",
    "    finally:\n",
    "        print(\"Fin del programa\")\n",
    " \n"
   ]
  },
  {
   "cell_type": "code",
   "execution_count": null,
   "metadata": {},
   "outputs": [],
   "source": []
  }
 ],
 "metadata": {
  "interpreter": {
   "hash": "aee8b7b246df8f9039afb4144a1f6fd8d2ca17a180786b69acc140d282b71a49"
  },
  "kernelspec": {
   "display_name": "Python 3",
   "language": "python",
   "name": "python3"
  },
  "language_info": {
   "codemirror_mode": {
    "name": "ipython",
    "version": 3
   },
   "file_extension": ".py",
   "mimetype": "text/x-python",
   "name": "python",
   "nbconvert_exporter": "python",
   "pygments_lexer": "ipython3",
   "version": "3.10.13"
  }
 },
 "nbformat": 4,
 "nbformat_minor": 4
}
