{
 "cells": [
  {
   "cell_type": "markdown",
   "metadata": {},
   "source": [
    "<center>\n",
    "<h1 style=\"color: #007BC4;\">Curso de programación con Python</h1> \n",
    "<h3 style=\"color: #333333;\">Tema 3 - Control de flujo</h3> \n",
    "</center>\n",
    "\n",
    "<br>"
   ]
  },
  {
   "cell_type": "markdown",
   "metadata": {},
   "source": [
    "<h2>Contenidos</h2>\n",
    "<div class=\"alert alert-block alert-info\" \n",
    "     style=\"margin-top: 0px; padding-top:0px; border: 1px solid #007BC4; border-radius: 20px; background:transparent;\">\n",
    "    <ul>\n",
    "        <li><a href=\"#conditional\">Condicionales</a></li>\n",
    "        <li><a href=\"#while\">Bucle while</a></li>\n",
    "        <li><a href=\"#for\">Bucle for</a></li>\n",
    "        <li><a href=\"#else\">Else con bucles</a></li>\n",
    "    </ul>\n",
    "</div>"
   ]
  },
  {
   "cell_type": "markdown",
   "metadata": {},
   "source": [
    "<a name=\"conditional\"></a>\n",
    "# <font style=\"color: #007BC4;\">Condicionales: estructura</font>\n",
    "<hr style=\"border: 0.5px solid #007BC4;\">\n",
    "\n",
    "<div style=\"float:left;width:50%;text-align:center;\">\n",
    "    <img src=\"img/estructura-if-else.png\" style=\"width:90%;max-width:800px;\">\n",
    "</div>\n",
    "\n",
    "<div style=\"float:left;width:50%;text-align:center;\">\n",
    "    <img src=\"img/estructura-elif.png\" style=\"width:90%;max-width:800px;\">\n",
    "</div>\n"
   ]
  },
  {
   "cell_type": "markdown",
   "metadata": {},
   "source": [
    "### <font style=\"color: #007BC4;\">Recuerda</font>\n",
    "\n",
    "- El código de cada bloque tiene la misma indentación\n",
    "- Sólo es obligatorio el bloque **if**\n",
    "\n",
    "<br>"
   ]
  },
  {
   "cell_type": "markdown",
   "metadata": {},
   "source": [
    "<a name=\"boolean\"></a>\n",
    "## <font style=\"color: #007BC4;\">Variables booleanas y expresiones lógicas</font>\n",
    "<hr style=\"border: 0.5px solid #007BC4;\">"
   ]
  },
  {
   "cell_type": "markdown",
   "metadata": {},
   "source": [
    "### <font style=\"color:#007BC4\">Variables booleanas</font>"
   ]
  },
  {
   "cell_type": "code",
   "execution_count": null,
   "metadata": {},
   "outputs": [],
   "source": [
    "mi_var_booleana = True"
   ]
  },
  {
   "cell_type": "code",
   "execution_count": null,
   "metadata": {},
   "outputs": [],
   "source": [
    "print(mi_var_booleana)"
   ]
  },
  {
   "cell_type": "code",
   "execution_count": null,
   "metadata": {},
   "outputs": [],
   "source": [
    "print(not mi_var_booleana)"
   ]
  },
  {
   "cell_type": "code",
   "execution_count": null,
   "metadata": {},
   "outputs": [],
   "source": [
    "if mi_var_booleana:\n",
    "    print(\"Es True\")\n",
    "else:\n",
    "    print(\"Es False\")"
   ]
  },
  {
   "cell_type": "markdown",
   "metadata": {},
   "source": [
    "### <font style=\"color:#007BC4\">Operadores lógicos</font>"
   ]
  },
  {
   "cell_type": "markdown",
   "metadata": {},
   "source": [
    "| Símbolo    | Operación |\n",
    "| -------- | ------- |\n",
    "| ==  | Igual    |\n",
    "| !=  | Distinto     |\n",
    "|  >  | Mayor   |\n",
    "|  >=  | Mayor o igual |\n",
    "| <  | Menor |\n",
    "| <=  | Menor o igual |\n",
    "| and | And lógico |\n",
    "| or | Or lógico |\n",
    "| not | not lógico |\n",
    "\n",
    "\n",
    "Esta tabla muestra el resultado de aplicar los operadores lógicos **and, or y not** a dos variables:<br>\n",
    "\n",
    "<img src=\"img/operadores-logicos.png\" style=\"max-width:500px;\">"
   ]
  },
  {
   "cell_type": "code",
   "execution_count": null,
   "metadata": {},
   "outputs": [],
   "source": [
    "num1 = 2\n",
    "num2 = 15\n",
    "num3 = 10"
   ]
  },
  {
   "cell_type": "code",
   "execution_count": null,
   "metadata": {},
   "outputs": [],
   "source": [
    "num1 == num2"
   ]
  },
  {
   "cell_type": "code",
   "execution_count": null,
   "metadata": {},
   "outputs": [],
   "source": [
    "num1 != num2"
   ]
  },
  {
   "cell_type": "code",
   "execution_count": null,
   "metadata": {},
   "outputs": [],
   "source": [
    "num1 < num2"
   ]
  },
  {
   "cell_type": "code",
   "execution_count": null,
   "metadata": {},
   "outputs": [],
   "source": [
    "num1 <= 2"
   ]
  },
  {
   "cell_type": "code",
   "execution_count": null,
   "metadata": {},
   "outputs": [],
   "source": [
    "num3 > num1 and num3 < num2"
   ]
  },
  {
   "cell_type": "code",
   "execution_count": null,
   "metadata": {},
   "outputs": [],
   "source": [
    "num1 < num3 < num2  # Es un and"
   ]
  },
  {
   "cell_type": "code",
   "execution_count": null,
   "metadata": {},
   "outputs": [],
   "source": [
    "not (num3 > num1 and num3 < num2)"
   ]
  },
  {
   "cell_type": "markdown",
   "metadata": {},
   "source": [
    "## <font style=\"color:#007BC4\">Uso básico del condicional</font>\n",
    "<hr style=\"border: 0.5px solid #007BC4;\">"
   ]
  },
  {
   "cell_type": "markdown",
   "metadata": {},
   "source": [
    "El siguiente programa pide al usuario por teclado su edad y muestra un mensaje indicando si es mayor de edad o no:"
   ]
  },
  {
   "cell_type": "code",
   "execution_count": null,
   "metadata": {},
   "outputs": [],
   "source": [
    "edad = int(input(\"¿Qué edad tiene? \"))\n",
    "\n",
    "if edad < 0 or edad > 120:\n",
    "    print(\"No es una edad válida\")\n",
    "elif edad < 18:\n",
    "    print(\"Es usted menor de edad\")\n",
    "else:\n",
    "    print(\"Es usted mayor de edad\")\n",
    "    \n",
    "print(\"¡Fin del programa!\")"
   ]
  },
  {
   "cell_type": "markdown",
   "metadata": {},
   "source": [
    "<a name=\"while\"></a>\n",
    "\n",
    "# <font style=\"color:#007BC4\">Bucles while</font>\n",
    "<hr style=\"border: 0.5px solid #007BC4;\">\n",
    "\n",
    "<div style=\"float:left;width:50%;text-align:center;\">\n",
    "        <img src=\"img/bucle-while.png\" style=\"width:90%;max-width:800px;\">\n",
    "</div>"
   ]
  },
  {
   "cell_type": "markdown",
   "metadata": {},
   "source": [
    "## <font style=\"color:#007BC4\">Ejemplo 1</font>\n",
    "\n",
    "Imprime por pantalla los números del 1 al 10"
   ]
  },
  {
   "cell_type": "code",
   "execution_count": null,
   "metadata": {},
   "outputs": [],
   "source": [
    "valor = 1\n",
    "while valor <= 10: \n",
    "    print(valor)\n",
    "    valor = valor + 1"
   ]
  },
  {
   "cell_type": "markdown",
   "metadata": {},
   "source": [
    "## <font style=\"color:#007BC4\">Ejemplo 2</font>\n",
    "\n",
    "Imprime la tabla de multiplicar de un número que se pide al usuario."
   ]
  },
  {
   "cell_type": "code",
   "execution_count": null,
   "metadata": {},
   "outputs": [],
   "source": [
    "n = int(input(\"Introduce el número: \"))\n",
    "while n<1 or n>10:\n",
    "    n = int(input(\"Error en el rango. Introduce el número: \"))\n",
    "\n",
    "indice=1\n",
    "while indice<=10:\n",
    "    mult=indice*n\n",
    "    print(f\"{n}x{indice} = {mult}\")\n",
    "    indice=indice+1"
   ]
  },
  {
   "cell_type": "markdown",
   "metadata": {},
   "source": [
    "<a name=\"for\"></a>\n",
    "\n",
    "# <font style=\"color:#007BC4\">Bucles for</font>\n",
    "<hr style=\"border: 0.5px solid #007BC4;\">\n",
    "\n",
    "<div style=\"float:left;width:50%;text-align:center;\">\n",
    "        <img src=\"img/bucle-for.png\" style=\"width:90%;max-width:700px;\">\n",
    "</div>"
   ]
  },
  {
   "cell_type": "markdown",
   "metadata": {},
   "source": [
    "## <font style=\"color:#007BC4\">Ejemplo 1</font>\n",
    "\n",
    "Imprime las letras de la palabra."
   ]
  },
  {
   "cell_type": "code",
   "execution_count": null,
   "metadata": {},
   "outputs": [],
   "source": [
    "for caracter in \"Hello World\":\n",
    "    print(caracter)"
   ]
  },
  {
   "cell_type": "markdown",
   "metadata": {},
   "source": [
    "## <font style=\"color:#007BC4\">Función range </font>\n",
    "\n",
    "La función range(), toma un entero como parámetro y, al ser iterada, devuelve una secuencia de números del cero a uno antes del número que recibió.\n"
   ]
  },
  {
   "cell_type": "markdown",
   "metadata": {},
   "source": [
    "### <font style=\"color:#007BC4\">Ejemplo 1</font>\n",
    "\n",
    "Itera del 0 al 4 de uno en uno"
   ]
  },
  {
   "cell_type": "code",
   "execution_count": null,
   "metadata": {},
   "outputs": [],
   "source": [
    "for x in range(5): \n",
    "    print (x)"
   ]
  },
  {
   "cell_type": "markdown",
   "metadata": {},
   "source": [
    "### <font style=\"color:#007BC4\">Ejemplo 2</font>\n",
    "Itera del 2 al 4 de uno en uno"
   ]
  },
  {
   "cell_type": "code",
   "execution_count": null,
   "metadata": {},
   "outputs": [],
   "source": [
    "for x in range(2,5): \n",
    "    print (x)"
   ]
  },
  {
   "cell_type": "markdown",
   "metadata": {},
   "source": [
    "### <font style=\"color:#007BC4\">Ejemplo 3</font>\n",
    "\n",
    "Itera del 3 al 9 de dos en dos"
   ]
  },
  {
   "cell_type": "code",
   "execution_count": null,
   "metadata": {},
   "outputs": [],
   "source": [
    "for x in range(3,10,2): \n",
    "    print (x)"
   ]
  },
  {
   "cell_type": "markdown",
   "metadata": {},
   "source": [
    "### <font style=\"color:#007BC4\">Ejemplo 4</font>\n",
    "\n",
    "También se puede contar hacia atrás con pasos negativos. El siguiente código, itera del 5 al 1, de uno en uno. "
   ]
  },
  {
   "cell_type": "code",
   "execution_count": null,
   "metadata": {},
   "outputs": [],
   "source": [
    "for x in range(5,0,-1): \n",
    "    print (x)"
   ]
  },
  {
   "cell_type": "markdown",
   "metadata": {},
   "source": [
    "## <font style=\"color:#007BC4\">Ejemplo con for y range</font>\n",
    "\n",
    "\n",
    "El siguiente ejemplo imprime la tabla de multiplicar de un número pedido al usuario utilizando un bucle for:"
   ]
  },
  {
   "cell_type": "code",
   "execution_count": null,
   "metadata": {},
   "outputs": [],
   "source": [
    "n = int(input(\"Introduce el número: \"))\n",
    "while n<0 or n>10:\n",
    "    n = int(input(\"Error en el rango. Introduce el número: \"))\n",
    "\n",
    "for indice in range(1,11):\n",
    "     mult=indice*n\n",
    "     print(f\"{n}x{indice} = {mult}\")\n",
    "    "
   ]
  },
  {
   "cell_type": "markdown",
   "metadata": {},
   "source": [
    "<a name=\"else\"></a>\n",
    "\n",
    "# <font style=\"color:#007BC4\">Else con bucles</font>\n",
    "<hr style=\"border: 0.5px solid #007BC4;\">"
   ]
  },
  {
   "cell_type": "markdown",
   "metadata": {},
   "source": [
    "## <font style=\"color:#007BC4\">Ejemplo con for</font>\n",
    "\n",
    "\n",
    "El siguiente programa busca el primer múltiplo de 5 y 7 entre dos números:"
   ]
  },
  {
   "cell_type": "code",
   "execution_count": null,
   "metadata": {},
   "outputs": [],
   "source": [
    "min = int(input(\"Introduce el límite mínimo (>0): \"))\n",
    "while min <=0:\n",
    "    min = int(input(\"Introduce el límite mínimo (>0): \"))\n",
    "    \n",
    "max = int(input(f\"Introduce el límite máximo (> {min}): \"))\n",
    "while max <=min:\n",
    "    max = int(input(\"Introduce el límite máximo (>0): \"))\n",
    "\n",
    "for num in range(min, max+1):\n",
    "    if num % 5 == 0 and num % 7 == 0: \n",
    "        print(f\"{num} es el primer múltiplo de 5 y 7 entre {min} y {max}\")\n",
    "        break\n",
    "else:\n",
    "    print(f\"No hay múltiplos de 5 y 7 entre {min} y {max}\")"
   ]
  },
  {
   "cell_type": "markdown",
   "metadata": {},
   "source": [
    "## <font style=\"color:#007BC4\">Ejemplo con while</font>\n",
    "\n",
    "\n",
    "El siguiente programa busca el primer múltiplo de 5 y 7 entre dos números:"
   ]
  },
  {
   "cell_type": "code",
   "execution_count": null,
   "metadata": {},
   "outputs": [],
   "source": [
    "min = int(input(\"Introduce el límite mínimo (>0): \"))\n",
    "while min <=0:\n",
    "    min = int(input(\"Introduce el límite mínimo (>0): \"))\n",
    "    \n",
    "max = int(input(f\"Introduce el límite máximo (> {min}): \"))\n",
    "while max <=min:\n",
    "    max = int(input(\"Introduce el límite máximo (>0): \"))\n",
    "\n",
    "num = min\n",
    "while num<=max:\n",
    "    if num % 5 == 0 and num % 7 == 0: \n",
    "        print(f\"{num} es el primer múltiplo de 5 y 7 entre {min} y {max}\")\n",
    "        break\n",
    "    num = num + 1\n",
    "else:\n",
    "    print(f\"No hay múltiplos de 5 y 7 entre {min} y {max}\")"
   ]
  }
 ],
 "metadata": {
  "interpreter": {
   "hash": "dca0ade3e726a953b501b15e8e990130d2b7799f14cfd9f4271676035ebe5511"
  },
  "kernelspec": {
   "display_name": "Python 3 (ipykernel)",
   "language": "python",
   "name": "python3"
  },
  "language_info": {
   "codemirror_mode": {
    "name": "ipython",
    "version": 3
   },
   "file_extension": ".py",
   "mimetype": "text/x-python",
   "name": "python",
   "nbconvert_exporter": "python",
   "pygments_lexer": "ipython3",
   "version": "3.11.13"
  }
 },
 "nbformat": 4,
 "nbformat_minor": 4
}
