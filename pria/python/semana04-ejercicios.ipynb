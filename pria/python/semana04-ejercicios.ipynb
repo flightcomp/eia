{
 "cells": [
  {
   "attachments": {},
   "cell_type": "markdown",
   "metadata": {},
   "source": [
    "<center>\n",
    "<h1 style=\"color: #007BC4;\">Curso de programación con Python</h1> \n",
    "<h3 style=\"color: #333333;\">SEMANA 4 - EJERCICIOS</h3> \n",
    "</center>\n",
    "\n",
    "<br>\n",
    "\n"
   ]
  },
  {
   "cell_type": "markdown",
   "metadata": {},
   "source": [
    "#### **Autor**: escribir aquí el nombre del autor"
   ]
  },
  {
   "cell_type": "markdown",
   "metadata": {},
   "source": [
    "#### **<font style=\"color: red;\">Importante: </font>** Todos los ejercicios de esta semana deben de realizarse de forma estructurada con funciones."
   ]
  },
  {
   "attachments": {},
   "cell_type": "markdown",
   "metadata": {},
   "source": [
    "<h2 style=\"color: #007BC4;\">Ejercicio 1</h2>\n",
    "<hr style=\"border: 0.5px solid #007BC4;\">\n",
    "\n",
    "Realizar un programa en Python que lea datos meteorológicos de una cierta ciudad contenidos en un archivo y muestre\n",
    "un menú con las siguientes opciones:\n",
    "1. **Buscar mayor**: Permite seleccionar una de las medidas contenidas en el archivo y muestra por pantalla el año y el mes de mayor valor\n",
    "2. **Calcular media por año**: Permite seleccionar una de las medidas contenidas en el archivo y almacena en otro archivo, la media por año.\n",
    "3. **Salir**: Termina la ejecución del programa\n",
    "\n",
    "\n",
    "El formato del archivo es el siguiente:\n",
    "\n",
    "- Primera línea: contiene las cabeceras que indican los datos meteorológicos del archivo\n",
    "    - La primera columna es siempre el año (no tienen por qué estar todos lo años)\n",
    "    - La segunda columna es siempre el mes (no tienen por qué estar todos los meses)\n",
    "    - A partir de la segunda columna, puede haber cualquier número de columnas\n",
    "\n",
    "\n",
    "Archivos para probar el programa:\n",
    "- En la carpeta **data** se incluyen tres archivos para realizar el ejercicio: ferrol1.txt, ferrol2.txt, ferrol3.txt\n",
    "\n",
    "#### Ejemplo de ejecución:\n",
    "\n",
    "<pre>\n",
    "Dime el nombre del archivo con los datos: hola\n",
    "[Errno 2] No such file or directory: 'hola'\n",
    "Dime el nombre del archivo con los datos: ferrol1.txt\n",
    "\n",
    "Menú de opciones\n",
    "(1) Buscar mayor\n",
    "(2) Calcular media anual\n",
    "(3) Salir\n",
    "Elige una opción: 1\n",
    "\n",
    "Estas son las medidas contenidas en el archivo:\n",
    "humedad irradiacion lluvia temperatura vel_viento\n",
    "¿Que medida deseas conocer?: presion\n",
    "Esa medida no está en el archivo. Inténtalo de nuevo: lluvia\n",
    "\n",
    "El mes con mayor lluvia fue el 1 del año 2016, con un valor de 380.7\n",
    "\n",
    "Menú de opciones\n",
    "(1) Buscar mayor\n",
    "(2) Calcular media anual\n",
    "(3) Salir\n",
    "Elige una opción: 3\n",
    "Saliendo...\n",
    "\n",
    "--------------------------------------------------------------------\n",
    "\n",
    "Dime el nombre del archivo con los datos: ferrol2.txt\n",
    "Menú de opciones\n",
    "(1) Buscar mayor\n",
    "(2) Calcular media anual\n",
    "(3) Salir\n",
    "Elige una opción: 2\n",
    "\n",
    "Estas son las medidas contenidas en el archivo:\n",
    "horas_frio horas_sol presion\n",
    "¿Que medida deseas conocer?: horas_sol\n",
    "Dime el nombre del archivo para guardar los datos de horas_sol: salida.txt\n",
    "Archivo creado\n",
    "\n",
    "Menú de opciones\n",
    "(1) Buscar mayor\n",
    "(2) Calcular media anual\n",
    "(3) Salir\n",
    "Elige una opción: 3\n",
    "Saliendo...\n",
    "\n",
    "\n",
    "=============================================\n",
    "=== Contenido de salida.txt ==========\n",
    "Valores medios de horas_sol:\n",
    "Año 2009 = 176.63\n",
    "Año 2010 = 174.87\n",
    "Año 2011 = 179.57\n",
    "Año 2012 = 175.84\n",
    "Año 2013 = 171.65\n",
    "Año 2014 = 163.85\n",
    "Año 2015 = 172.28\n",
    "Año 2016 = 180.42\n",
    "Año 2017 = 190.80\n",
    "Año 2018 = 173.25\n",
    "=============================================\n",
    "\n",
    "\n",
    "</pre>"
   ]
  },
  {
   "cell_type": "code",
   "execution_count": 43,
   "metadata": {
    "collapsed": false,
    "jupyter": {
     "outputs_hidden": false
    }
   },
   "outputs": [
    {
     "name": "stdout",
     "output_type": "stream",
     "text": [
      "Menú de opciones\n",
      "(1) Buscar mayor\n",
      "(2) Calcular media anual\n",
      "(3) Salir\n",
      "Estas son las medidas contenidas en el archivo: \n",
      "año mes humedad irradiacion lluvia temperatura vel_viento\n",
      "El mes con mayor lluvia fue el 1 del año 2016, con un valor de 380.7\n",
      "Menú de opciones\n",
      "(1) Buscar mayor\n",
      "(2) Calcular media anual\n",
      "(3) Salir\n",
      "Estas son las medidas contenidas en el archivo: \n",
      "año mes humedad irradiacion lluvia temperatura vel_viento\n",
      "El mes con mayor humedad fue el 1 del año 2013, con un valor de 90.0\n",
      "Menú de opciones\n",
      "(1) Buscar mayor\n",
      "(2) Calcular media anual\n",
      "(3) Salir\n",
      "Estas son las medidas contenidas en el archivo: \n",
      "año mes humedad irradiacion lluvia temperatura vel_viento\n",
      "Archivo creado\n",
      "Menú de opciones\n",
      "(1) Buscar mayor\n",
      "(2) Calcular media anual\n",
      "(3) Salir\n",
      "Saliendo...\n",
      "=============================================\n",
      "=== Contenido de {filename} ==========\n",
      "Año 2011 = 81.5\n",
      "Año 2012 = 82.66666666666667\n",
      "Año 2013 = 83.25\n",
      "Año 2014 = 82.85833333333333\n",
      "Año 2015 = 81.83333333333333\n",
      "Año 2016 = 82.83333333333333\n",
      "Año 2017 = 80.58333333333333\n",
      "Año 2018 = 81.75\n",
      "Año 2019 = 77.41666666666667\n",
      "=============================================\n"
     ]
    }
   ],
   "source": [
    "# Escribe aquí el código de tu solución o en un archivo .py \n"
   ]
  },
  {
   "cell_type": "markdown",
   "metadata": {},
   "source": [
    "<h2 style=\"color: #007BC4;\">Ejercicio 2 </h2>\n",
    "<hr style=\"border: 0.5px solid #007BC4;\">\n",
    "\n",
    "Desarrollar un programa en Python que permita comprobar si una matriz de números resuelve correctamente el juego del Sudoku.\n",
    "\n",
    "- El juego del Sudoku consiste en un tablero de juego de 9 x 9 posiciones el cual está subdividido en 9 \n",
    "subtableros cuadrados, todos ellos de tamaño 3 x 3. En cada posición del tablero se puede colocar un\n",
    "número entero positivo entre 1 y 9 de modo que no se repita ninguna cifra en cada fila, ni en cada columna,\n",
    "ni dentro de cada subtablero 3 x 3. La siguiente figura muestra un ejemplo de Sudoku ya resuelto: \n",
    "\n",
    "<center>\n",
    "<img src=\"img/sudoku.png\" style=\"max-width: 300px\">\n",
    "</center>\n",
    "\n",
    "- Se entregan dos ficheros denominados “sudoku_ok.txt” y “sudoku_err.txt” que contienen 9 filas y 9 columnas de números enteros separados por tabulaciones y que representan una solución correcta y otra incorrecta al juego del sudoku. Se asume que los datos de los archivos están en formato correcto (están en el rango 1-9, no faltan ni sobran datos, etc).\n",
    "\n",
    "- El programa implementado deberá leer los datos, almacenarlos en una matriz y mostrar por pantalla un mensaje indicando si dichos datos cumplen las reglas de solución del juego anteriores o no.  \n",
    "\n",
    "\n",
    "\n",
    "\n",
    "#### Ejemplos de ejecución:\n",
    "<pre>\n",
    "\n",
    "Dime el nombre del fichero con el sudoku: data/sudoku_ok.txt\n",
    "El contenido del fichero es un sudoku válido\n",
    "-------------------------------------------------------\n",
    "Dime el nombre del fichero con el sudoku: data/sudoku_err.txt\n",
    "El contenido del fichero NO es un sudoku válido\n",
    "</pre>\n"
   ]
  },
  {
   "cell_type": "code",
   "execution_count": 4,
   "metadata": {},
   "outputs": [
    {
     "name": "stdout",
     "output_type": "stream",
     "text": [
      "El contenido del fichero es un sudoku válido\n"
     ]
    }
   ],
   "source": [
    "# Escribe aquí el código de tu solución o en un fichero .py independiente\n"
   ]
  },
  {
   "attachments": {},
   "cell_type": "markdown",
   "metadata": {},
   "source": [
    "<h2 style=\"color: #007BC4;\">Ejercicio 3</h2>\n",
    "<hr style=\"border: 0.5px solid #007BC4;\">\n",
    "\n",
    "Modifica el programa del ejercicio 5 de la pasada semana (plataformas de entrenimiento) para que, lea el diccionario de un archivo y sobreescriba dicho archivo al terminar el programa con los cambios realizados.\n",
    "\n",
    "- Selecciona el formato de archivo que prefieras entre: arhivo de texto estilo csv, YAML o JSON. Crea el archivo inicial en el formato seleccionado.\n",
    "\n",
    "- Los datos leídos del archivo se almacenarán durante la ejecución del programa en un diccionario con el mismo formato que el ejercicio de la pasada semana: diccionario con el nombre y precio mensual de las subscripciones, formado por la clave (nombre de la plataforma) y el valor (precio mensual):\n",
    "\n",
    "<pre>\n",
    "        plataformas = {\n",
    "        \"Netflix\": 11.99,\n",
    "        \"HBO\": 8.99,       \n",
    "        \"Disney+\": 7,\n",
    "        \"DAZN\": 9.99,\n",
    "        \"Spotify\": 9.99,\n",
    "        \"Apple Music\": 9.99,\n",
    "        \"Amazon Prime\": 3.99,\n",
    "        }\n",
    "</pre>"
   ]
  },
  {
   "cell_type": "code",
   "execution_count": 1,
   "metadata": {},
   "outputs": [
    {
     "name": "stdout",
     "output_type": "stream",
     "text": [
      "(1) Añadir plataforma\n",
      "(2) Eliminar plataforma\n",
      "(3) Mostrar plataforma\n",
      "(4) Listar plataformas\n",
      "(5) Subscribirse n meses a una plataforma\n",
      "(6) Terminar\n",
      "Precios mensuales de subscripción\n",
      "Netflix 11.99\n",
      "HBO 8.99\n",
      "Disney+ 7\n",
      "DAZN 9.99\n",
      "Spotify 9.99\n",
      "Apple Music 9.99\n",
      "Amazon Prime 3.99\n",
      "(1) Añadir plataforma\n",
      "(2) Eliminar plataforma\n",
      "(3) Mostrar plataforma\n",
      "(4) Listar plataformas\n",
      "(5) Subscribirse n meses a una plataforma\n",
      "(6) Terminar\n",
      "Precios mensuales de subscripción\n",
      "Netflix 11.99\n",
      "HBO 8.99\n",
      "Disney+ 7\n",
      "DAZN 9.99\n",
      "Spotify 9.99\n",
      "Apple Music 9.99\n",
      "Amazon Prime 3.99\n",
      "(1) Añadir plataforma\n",
      "(2) Eliminar plataforma\n",
      "(3) Mostrar plataforma\n",
      "(4) Listar plataformas\n",
      "(5) Subscribirse n meses a una plataforma\n",
      "(6) Terminar\n"
     ]
    }
   ],
   "source": [
    "# Realiza tu solución en un archivo .py independiente\n"
   ]
  },
  {
   "cell_type": "markdown",
   "metadata": {},
   "source": [
    "<h2 style=\"color: #007BC4;\">Ejercicio 4</h2>\n",
    "<hr style=\"border: 0.5px solid #007BC4;\">\n",
    "\n",
    "El **dataset** que vamos a a utilizar para realizar este ejercicio practicos se denomina **\"tips\"** y contiene los datos que un camarero registró sobre cada propina que recibió durante un período de unos meses trabajando en un restaurante.\n"
   ]
  },
  {
   "cell_type": "markdown",
   "metadata": {},
   "source": [
    "### 1. Lee el dataset data/tips.csv con pandas y cárgalo en un DataFrame."
   ]
  },
  {
   "cell_type": "code",
   "execution_count": 1,
   "metadata": {},
   "outputs": [],
   "source": []
  },
  {
   "cell_type": "markdown",
   "metadata": {},
   "source": [
    "### 2. Muestra por pantalla las primeras filas del DataFrame."
   ]
  },
  {
   "cell_type": "code",
   "execution_count": 2,
   "metadata": {},
   "outputs": [
    {
     "data": {
      "text/html": [
       "<div>\n",
       "<style scoped>\n",
       "    .dataframe tbody tr th:only-of-type {\n",
       "        vertical-align: middle;\n",
       "    }\n",
       "\n",
       "    .dataframe tbody tr th {\n",
       "        vertical-align: top;\n",
       "    }\n",
       "\n",
       "    .dataframe thead th {\n",
       "        text-align: right;\n",
       "    }\n",
       "</style>\n",
       "<table border=\"1\" class=\"dataframe\">\n",
       "  <thead>\n",
       "    <tr style=\"text-align: right;\">\n",
       "      <th></th>\n",
       "      <th>total_bill</th>\n",
       "      <th>tip</th>\n",
       "      <th>sex</th>\n",
       "      <th>smoker</th>\n",
       "      <th>day</th>\n",
       "      <th>time</th>\n",
       "      <th>size</th>\n",
       "    </tr>\n",
       "  </thead>\n",
       "  <tbody>\n",
       "    <tr>\n",
       "      <th>0</th>\n",
       "      <td>16.99</td>\n",
       "      <td>1.01</td>\n",
       "      <td>Female</td>\n",
       "      <td>No</td>\n",
       "      <td>Sun</td>\n",
       "      <td>Dinner</td>\n",
       "      <td>2</td>\n",
       "    </tr>\n",
       "    <tr>\n",
       "      <th>1</th>\n",
       "      <td>10.34</td>\n",
       "      <td>1.66</td>\n",
       "      <td>Male</td>\n",
       "      <td>No</td>\n",
       "      <td>Sun</td>\n",
       "      <td>Dinner</td>\n",
       "      <td>3</td>\n",
       "    </tr>\n",
       "    <tr>\n",
       "      <th>2</th>\n",
       "      <td>21.01</td>\n",
       "      <td>3.50</td>\n",
       "      <td>Male</td>\n",
       "      <td>No</td>\n",
       "      <td>Sun</td>\n",
       "      <td>Dinner</td>\n",
       "      <td>3</td>\n",
       "    </tr>\n",
       "    <tr>\n",
       "      <th>3</th>\n",
       "      <td>23.68</td>\n",
       "      <td>3.31</td>\n",
       "      <td>Male</td>\n",
       "      <td>No</td>\n",
       "      <td>Sun</td>\n",
       "      <td>Dinner</td>\n",
       "      <td>2</td>\n",
       "    </tr>\n",
       "    <tr>\n",
       "      <th>4</th>\n",
       "      <td>24.59</td>\n",
       "      <td>3.61</td>\n",
       "      <td>Female</td>\n",
       "      <td>No</td>\n",
       "      <td>Sun</td>\n",
       "      <td>Dinner</td>\n",
       "      <td>4</td>\n",
       "    </tr>\n",
       "  </tbody>\n",
       "</table>\n",
       "</div>"
      ],
      "text/plain": [
       "   total_bill   tip     sex smoker  day    time  size\n",
       "0       16.99  1.01  Female     No  Sun  Dinner     2\n",
       "1       10.34  1.66    Male     No  Sun  Dinner     3\n",
       "2       21.01  3.50    Male     No  Sun  Dinner     3\n",
       "3       23.68  3.31    Male     No  Sun  Dinner     2\n",
       "4       24.59  3.61  Female     No  Sun  Dinner     4"
      ]
     },
     "execution_count": 2,
     "metadata": {},
     "output_type": "execute_result"
    }
   ],
   "source": []
  },
  {
   "cell_type": "markdown",
   "metadata": {},
   "source": [
    "### 3. Muestra la forma del DataFrame."
   ]
  },
  {
   "cell_type": "code",
   "execution_count": 4,
   "metadata": {},
   "outputs": [
    {
     "data": {
      "text/plain": [
       "(244, 7)"
      ]
     },
     "execution_count": 4,
     "metadata": {},
     "output_type": "execute_result"
    }
   ],
   "source": []
  },
  {
   "cell_type": "markdown",
   "metadata": {},
   "source": [
    "### 4. Obtén los datos de la columna **total_bill**."
   ]
  },
  {
   "cell_type": "code",
   "execution_count": 5,
   "metadata": {},
   "outputs": [
    {
     "data": {
      "text/plain": [
       "0      16.99\n",
       "1      10.34\n",
       "2      21.01\n",
       "3      23.68\n",
       "4      24.59\n",
       "       ...  \n",
       "239    29.03\n",
       "240    27.18\n",
       "241    22.67\n",
       "242    17.82\n",
       "243    18.78\n",
       "Name: total_bill, Length: 244, dtype: float64"
      ]
     },
     "execution_count": 5,
     "metadata": {},
     "output_type": "execute_result"
    }
   ],
   "source": []
  },
  {
   "cell_type": "markdown",
   "metadata": {},
   "source": [
    "### 5. Genera una gráfica de barras donde se muestren el número propinas por día (con matplotlib o seaborn). "
   ]
  },
  {
   "cell_type": "code",
   "execution_count": 43,
   "metadata": {},
   "outputs": [
    {
     "data": {
      "image/png": "[encoded data removed]",
      "text/plain": [
       "<Figure size 700x400 with 1 Axes>"
      ]
     },
     "metadata": {},
     "output_type": "display_data"
    }
   ],
   "source": []
  },
  {
   "cell_type": "markdown",
   "metadata": {},
   "source": [
    "### 6. Crea una gráfica **scatter** entre **total_bill** y **tip** utilizando matplotlib o seaborn. "
   ]
  },
  {
   "cell_type": "code",
   "execution_count": 41,
   "metadata": {},
   "outputs": [
    {
     "data": {
      "image/png": "[encoded data removed]",
      "text/plain": [
       "<Figure size 700x400 with 1 Axes>"
      ]
     },
     "metadata": {},
     "output_type": "display_data"
    }
   ],
   "source": []
  },
  {
   "cell_type": "markdown",
   "metadata": {},
   "source": [
    "### 7. Asignar un color a los puntos en base a la variable \"sex\" (muéstralo en la leyenda)"
   ]
  },
  {
   "cell_type": "code",
   "execution_count": 39,
   "metadata": {},
   "outputs": [
    {
     "data": {
      "image/png": "[encoded data removed]",
      "text/plain": [
       "<Figure size 700x400 with 2 Axes>"
      ]
     },
     "metadata": {},
     "output_type": "display_data"
    }
   ],
   "source": []
  },
  {
   "cell_type": "markdown",
   "metadata": {},
   "source": [
    "### 8. Muestra ambas gráficas en una única figura con subplots.\n",
    "\n",
    "Ejemplo de resultado (es orientativo, no tiene que ser exactamente igual):\n",
    "\n",
    "<img src=\"img/graficas.png\" style=\"max-width: 600px\">\n"
   ]
  },
  {
   "cell_type": "code",
   "execution_count": null,
   "metadata": {},
   "outputs": [],
   "source": []
  }
 ],
 "metadata": {
  "kernelspec": {
   "display_name": "Python 3 (ipykernel)",
   "language": "python",
   "name": "python3"
  },
  "language_info": {
   "codemirror_mode": {
    "name": "ipython",
    "version": 3
   },
   "file_extension": ".py",
   "mimetype": "text/x-python",
   "name": "python",
   "nbconvert_exporter": "python",
   "pygments_lexer": "ipython3",
   "version": "3.11.13"
  },
  "vscode": {
   "interpreter": {
    "hash": "aee8b7b246df8f9039afb4144a1f6fd8d2ca17a180786b69acc140d282b71a49"
   }
  }
 },
 "nbformat": 4,
 "nbformat_minor": 4
}
