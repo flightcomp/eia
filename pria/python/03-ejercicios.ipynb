{
 "cells": [
  {
   "cell_type": "markdown",
   "id": "b65d6874-731c-454b-a325-86fce28f7b82",
   "metadata": {},
   "source": [
    "# Cuaderno de Ejercicios en Python\n",
    "\n",
    "## Introducción\n",
    "\n",
    "Este cuaderno contiene dos ejercicios simples en Python para que los estudiantes practiquen conceptos básicos de programación. Cada ejercicio incluye una descripción y un ejemplo de ejecución. ¡Diviértete resolviéndolos!\n",
    "\n",
    "## Ejercicios\n",
    "\n",
    "### Ejercicio 1: Suma de dos números\n",
    "\n",
    "#### Descripción\n",
    "\n",
    "Escribe una función llamada `suma_dos_numeros` que tome dos números como parámetros y devuelva su suma.\n",
    "\n",
    "#### Ejemplo de ejecución\n",
    "\n",
    "```python\n",
    ">>> suma_dos_numeros(3, 5)\n",
    "8\n",
    "```\n",
    "\n",
    "#### Solución"
   ]
  },
  {
   "cell_type": "code",
   "execution_count": 3,
   "id": "805189ab-6ba2-4c01-976d-b231af4646e6",
   "metadata": {},
   "outputs": [
    {
     "name": "stdout",
     "output_type": "stream",
     "text": [
      "None\n"
     ]
    }
   ],
   "source": [
    "# Completa la siguiente función\n",
    "def suma_dos_numeros(num1, num2):\n",
    "    # Tu código aquí\n",
    "    pass\n",
    "\n",
    "# Prueba\n",
    "resultado = suma_dos_numeros(3, 5)\n",
    "print(resultado)"
   ]
  },
  {
   "cell_type": "markdown",
   "id": "49f158fc",
   "metadata": {},
   "source": [
    "### Ejercicio 2: Factorial de un número\n",
    "\n",
    "#### Descripción\n",
    "\n",
    "Escribe una función llamada `factorial` que tome un número entero como parámetro y devuelva su factorial.\n",
    "\n",
    "#### Ejemplo de ejecución\n",
    "\n",
    "```python\n",
    ">>> factorial(4)\n",
    "24\n",
    "```\n",
    "\n",
    "#### Solución"
   ]
  },
  {
   "cell_type": "code",
   "execution_count": 1,
   "id": "15c8ff95-859d-4bd8-ad40-bed03abdbcbe",
   "metadata": {},
   "outputs": [
    {
     "name": "stdout",
     "output_type": "stream",
     "text": [
      "None\n"
     ]
    }
   ],
   "source": [
    "# Completa la siguiente función\n",
    "def factorial(n):\n",
    "    # Tu código aquí\n",
    "    pass\n",
    "\n",
    "# Prueba\n",
    "resultado = factorial(4)\n",
    "print(resultado)"
   ]
  }
 ],
 "metadata": {
  "kernelspec": {
   "display_name": "Python 3 (ipykernel)",
   "language": "python",
   "name": "python3"
  },
  "language_info": {
   "codemirror_mode": {
    "name": "ipython",
    "version": 3
   },
   "file_extension": ".py",
   "mimetype": "text/x-python",
   "name": "python",
   "nbconvert_exporter": "python",
   "pygments_lexer": "ipython3",
   "version": "3.11.13"
  }
 },
 "nbformat": 4,
 "nbformat_minor": 5
}
