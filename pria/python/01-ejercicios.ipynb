{
 "cells": [
  {
   "cell_type": "markdown",
   "metadata": {},
   "source": [
    "<center>\n",
    "<h1 style=\"color: #007BC4;\">Curso de programación con Python</h1> \n",
    "<h3 style=\"color: #333333;\">SEMANA 1 - EJERCICIOS</h3> \n",
    "</center>"
   ]
  },
  {
   "cell_type": "markdown",
   "metadata": {},
   "source": [
    "\n",
    "\n",
    "<div class=\"alert alert-block\" style=\"border: 1px solid #007BC4; border-radius: 20px;\">\n",
    "    <ul>\n",
    "        <li>Autor: </li>\n",
    "        <li>Fecha: </li>\n",
    "    </ul>\n",
    "</div>\n",
    "\n"
   ]
  },
  {
   "cell_type": "markdown",
   "metadata": {},
   "source": [
    "<h2 style=\"color: #007BC4;\">Ejercicio 1</h2>\n",
    "<hr style=\"border: 0.5px solid #007BC4;\">\n",
    "\n",
    "Escribir un programa que lea un entero porsitivo, $n$, introducido por el usuario y después muestre en pantalla la suma de todos los enteros desde 1 hasta $n$. La suma de los $n$ primeros enteros positivos puede ser calculada de la siguiente forma: \n",
    "\n",
    "$$suma=\\frac{n(n+1)}{2}$$\n",
    "\n",
    "**Nota**: No es necesario comprobar que el número es positivo, se asume que se introducen los datos correctamente\n",
    "\n",
    "\n",
    "\n",
    "#### Ejemplo de ejecución:\n",
    "\n",
    "<pre>\n",
    "Introduce un número positivo: 5\n",
    "La suma de los primeros número enteros desde 1 hasta 5 en 15.\n",
    "\n",
    "--------------------------------------------------------------\n",
    "\n",
    "Introduce un número positivo: 20\n",
    "La suma de los primeros números enteros desde 1 hasta 20 es 210\n",
    "</pre>"
   ]
  },
  {
   "cell_type": "code",
   "execution_count": null,
   "metadata": {
    "collapsed": false,
    "jupyter": {
     "outputs_hidden": false
    }
   },
   "outputs": [],
   "source": [
    "#Escribe aquí el código de tu solución\n",
    "\n",
    "\n"
   ]
  },
  {
   "cell_type": "markdown",
   "metadata": {},
   "source": [
    "<h2 style=\"color: #007BC4;\">Ejercicio 2</h2>\n",
    "<hr style=\"border: 0.5px solid #007BC4;\">\n",
    "\n",
    "Escribir un programa que pida al usuario su peso (en kg) y estatura (en metros), calcule el índice de masa corporal y lo almacene en una variable, e imprima por pantalla la frase Tu índice de masa corporal es <imc> donde <imc> es el índice de masa corporal calculado redondeado con dos decimales.\n",
    "\n",
    "$$imc=\\frac{peso}{altura^2}$$\n",
    " \n",
    "    \n",
    "#### Ejemplo de ejecución:\n",
    "\n",
    "<pre>\n",
    "¿Cuál es tu peso en kg?: 72\n",
    "¿Cuál es tu estatura en metros?: 1.76\n",
    "Tu índice de masa corporal es 23\n",
    "\n",
    "----------------------------------------\n",
    "\n",
    "¿Cuál es tu peso en kg?: 85\n",
    "¿Cuál es tu estatura en metros?: 1.68\n",
    "Tu índice de masa corporal es 30\n",
    "\n",
    "----------------------------------------\n",
    "\n",
    "¿Cuál es tu peso en kg?: 56\n",
    "¿Cuál es tu estatura en metros?: 1.79\n",
    "Tu índice de masa corporal es 17\n",
    "\n",
    "<pre>\n"
   ]
  },
  {
   "cell_type": "code",
   "execution_count": null,
   "metadata": {
    "collapsed": false,
    "jupyter": {
     "outputs_hidden": false
    }
   },
   "outputs": [],
   "source": [
    "\n",
    "#Escribe aquí el código de tu solución\n",
    "\n",
    "\n",
    "\n",
    "\n"
   ]
  },
  {
   "cell_type": "markdown",
   "metadata": {},
   "source": [
    "<h2 style=\"color: #007BC4;\">Ejercicio 3</h2>\n",
    "<hr style=\"border: 0.5px solid #007BC4;\">\n",
    "\n",
    "Escribir un programa en Python que pida al usuario un tiempo en segundos (entero) y descomponga el valor en días, horas, minutos y\n",
    "segundos transcurridos. Si algún valor es igual a cero se mostrará igualmente.\n",
    "  \n",
    "    \n",
    "#### Ejemplo de ejecución:\n",
    "\n",
    "<pre>\n",
    "Introduce la cantidad de segundos: 86465\n",
    "Días:        1\n",
    "Horas:       0\n",
    "Minutos:     1\n",
    "Segundos:    0\n",
    "<pre>\n"
   ]
  },
  {
   "cell_type": "code",
   "execution_count": null,
   "metadata": {},
   "outputs": [],
   "source": [
    "# Escribe aquí la solución de tu programa\n",
    "\n",
    "\n",
    "\n",
    "\n",
    "\n"
   ]
  },
  {
   "cell_type": "markdown",
   "metadata": {},
   "source": [
    "<h2 style=\"color: #007BC4;\">Ejercicio 4</h2>\n",
    "<hr style=\"border: 0.5px solid #007BC4;\">\n",
    "\n",
    "Escribir un programa en Python que:\n",
    "1. Pida por teclado de forma consecutiva la hora, minutos, segundos.\n",
    "2. Guarde los valores introducidos en tres variables.\n",
    "3. Pida al usuario por teclado un carácter separador (e.j. ’:’).\n",
    "4. Escriba por pantalla la hora introducida en formato hh:mm:ss (el carácter separador : será sustituido por el introducido por el usuario)\n",
    "5. Escriba por pantalla la cantidad total de segundos que pasan de la hora introducida (minutos*60+segundos)\n",
    "  \n",
    "    \n",
    "#### Ejemplos de ejecución:\n",
    "\n",
    "<pre>\n",
    "Introduce las horas: 5\n",
    "Introduce los minutos: 10\n",
    "Introduce los segundos: 35\n",
    "Introduce el carácter separador: :\n",
    "La hora introducida es: 05:10:35\n",
    "Han transcurrido 635 segundos desde las 5 horas\n",
    "\n",
    "------------------------------------------------\n",
    "\n",
    "Introduce las horas: 3\n",
    "Introduce los minutos: 5\n",
    "Introduce los segundos: 22\n",
    "Introduce el carácter separador: .\n",
    "La hora introducida es: 03.05:22\n",
    "Han transcurrido 322 segundos desde las 3 \n",
    "<pre>\n"
   ]
  },
  {
   "cell_type": "code",
   "execution_count": null,
   "metadata": {},
   "outputs": [],
   "source": [
    "# Escribe aquí la solución de tu programa\n",
    "\n"
   ]
  },
  {
   "cell_type": "markdown",
   "metadata": {},
   "source": [
    "<h2 style=\"color: #007BC4;\">Ejercicio 5</h2>\n",
    "<hr style=\"border: 0.5px solid #007BC4;\">\n",
    "\n",
    "Implementar un programa en Python que calcule el número de vueltas que tendremos que darle a\n",
    "un manguera para enrollarla en un soporte circular. Para ello:\n",
    "\n",
    "- Se pedirá al usuario la longitud de la manguera y el radio del soporte en el que se enrollará, ambos en cm y números enteros.\n",
    "- Se calculará el número de vueltas enteras que la manguera podría enrollarse sobre el carrete.\n",
    "- Se calculará la longitud la longitud del trozo de manguera restante también en cm (número real).\n",
    "  \n",
    "    \n",
    "#### Ejemplos de ejecución:\n",
    "\n",
    "<pre>\n",
    "Introduce la longitud de la manguera (en cm): 100\n",
    "Introduce el radio del soporte (en cm): 5\n",
    "El numero de vueltas es 3 y sobran 5.75 cm de manguera\n",
    "\n",
    "-------------------------------------------------------\n",
    "Introduce la longitud de la manguera (en cm): 150\n",
    "Introduce el radio del soporte (en cm): 10\n",
    "El numero de vueltas es 2 y sobran 24.34 cm de manguera\n",
    "<pre>\n"
   ]
  },
  {
   "cell_type": "code",
   "execution_count": null,
   "metadata": {},
   "outputs": [],
   "source": [
    "# Escribe aquí la solución de tu programa\n",
    "\n",
    "\n",
    "\n"
   ]
  }
 ],
 "metadata": {
  "kernelspec": {
   "display_name": "Python 3 (ipykernel)",
   "language": "python",
   "name": "python3"
  },
  "language_info": {
   "codemirror_mode": {
    "name": "ipython",
    "version": 3
   },
   "file_extension": ".py",
   "mimetype": "text/x-python",
   "name": "python",
   "nbconvert_exporter": "python",
   "pygments_lexer": "ipython3",
   "version": "3.11.13"
  },
  "vscode": {
   "interpreter": {
    "hash": "7e1998ff7f8aa20ada591c520b972326324e5ea05489af9e422744c7c09f6dad"
   }
  }
 },
 "nbformat": 4,
 "nbformat_minor": 4
}
