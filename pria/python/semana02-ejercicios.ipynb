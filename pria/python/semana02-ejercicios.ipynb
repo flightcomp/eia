{
 "cells": [
  {
   "cell_type": "markdown",
   "metadata": {},
   "source": [
    "<center>\n",
    "<h1 style=\"color: #007BC4;\">Curso de programación con Python</h1> \n",
    "<h3 style=\"color: #333333;\">SEMANA 2 - EJERCICIOS</h3> \n",
    "</center>\n",
    "\n",
    "<br>\n"
   ]
  },
  {
   "cell_type": "markdown",
   "metadata": {},
   "source": [
    "#### Autor: \n"
   ]
  },
  {
   "cell_type": "markdown",
   "metadata": {},
   "source": [
    "<h2 style=\"color: #007BC4;\">Ejercicio 1</h2>\n",
    "<hr style=\"border: 0.5px solid #007BC4;\">\n",
    "\n",
    "Los tramos impositivos para la declaración de la renta en un determinado país son los siguientes:\n",
    "\n",
    "|         Renta          | Tipo impositivo |\n",
    "| :--------------------: | :-------------: |\n",
    "|    Menos de 10000€     |       5%        |\n",
    "| Entre 10000€ y 20000€  |       15%       |\n",
    "| Entre 200000€ y 35000€ |       20%       |\n",
    "| Entre 350000€ y 60000€ |       30%       |\n",
    "|     Más de 60000€      |       45%       |\n",
    "\n",
    "Escribir un programa que pregunte al usuario su renta anual y muestre por pantalla el tipo impositivo que le corresponde. \n",
    "\n",
    "\n",
    "#### Ejemplos de ejecución:\n",
    "\n",
    "<pre>\n",
    "¿Cuál es tu renta anual? 0\n",
    "Error, la renta ha de ser mayor que 0.\n",
    "\n",
    "--------------------------------------------------------------\n",
    "\n",
    "¿Cuál es tu renta anual? 40000\n",
    "Tu tipo impositivo es 30%\n",
    "</pre>"
   ]
  },
  {
   "cell_type": "code",
   "execution_count": 2,
   "metadata": {},
   "outputs": [
    {
     "name": "stdin",
     "output_type": "stream",
     "text": [
      "¿Cuál es tu renta anual?  40000\n"
     ]
    },
    {
     "name": "stdout",
     "output_type": "stream",
     "text": [
      "Tu tipo impositivo es 30%\n"
     ]
    }
   ],
   "source": [
    "#Escribe aquí el código de tu solución\n"
   ]
  },
  {
   "cell_type": "markdown",
   "metadata": {},
   "source": [
    "<h2 style=\"color: #007BC4;\">Ejercicio 2</h2>\n",
    "<hr style=\"border: 0.5px solid #007BC4;\">\n",
    "\n",
    "Escribir un programa que pida al usuario un número entero positivo y muestre por pantalla la cuenta atrás desde ese número hasta cero separados por comas.\n",
    "\n",
    "#### Ejemplo de ejecución:\n",
    "<pre>\n",
    "Introduce un número entero positivo: 20\n",
    "20, 19, 18, 17, 16, 15, 14, 13, 12, 11, 10, 9, 8, 7, 6, 5, 4, 3, 2, 1, 0\n",
    "</pre>"
   ]
  },
  {
   "cell_type": "code",
   "execution_count": 3,
   "metadata": {},
   "outputs": [
    {
     "name": "stdin",
     "output_type": "stream",
     "text": [
      "Introduce un número entero positivo:  20\n"
     ]
    },
    {
     "name": "stdout",
     "output_type": "stream",
     "text": [
      "20, 19, 18, 17, 16, 15, 14, 13, 12, 11, 10, 9, 8, 7, 6, 5, 4, 3, 2, 1, 0\n"
     ]
    }
   ],
   "source": [
    "#Escribe aquí el código de tu solución\n"
   ]
  },
  {
   "cell_type": "markdown",
   "metadata": {},
   "source": [
    "<h2 style=\"color: #007BC4;\">Ejercicio 3</h2>\n",
    "<hr style=\"border: 0.5px solid #007BC4;\">\n",
    "\n",
    "Desarrollar un programa en Python que dibuje en pantalla una figura tipo sierra haciendo uso del carácter #.\n",
    "Para ello, se preguntará al usuario:\n",
    "- El ancho de la figura (valor entre 2 y 10). \n",
    "- El número de dientes de sierra que tendrá la figura (valor entre 2 y 10)\n",
    "\n",
    "#### Ejemplo de ejecución:\n",
    "<pre>\n",
    "Introduce la longitud del diente de sierra (2<=n<=10): 5\n",
    "Introduce el número de dientes de la figura (1<=n<=10): 2\n",
    "#\n",
    "##\n",
    "###\n",
    "####\n",
    "#####\n",
    "####\n",
    "###\n",
    "##\n",
    "#\n",
    "#\n",
    "##\n",
    "###\n",
    "####\n",
    "#####\n",
    "####\n",
    "###\n",
    "##\n",
    "#\n",
    "</pre>"
   ]
  },
  {
   "cell_type": "code",
   "execution_count": 4,
   "metadata": {},
   "outputs": [
    {
     "name": "stdin",
     "output_type": "stream",
     "text": [
      "Introduce la longitud del diente de sierra (2<=n<=10):  5\n",
      "Introduce el número de dientes de la figura (1<=n<=10):  2\n"
     ]
    },
    {
     "name": "stdout",
     "output_type": "stream",
     "text": [
      "#\n",
      "##\n",
      "###\n",
      "####\n",
      "#####\n",
      "####\n",
      "###\n",
      "##\n",
      "#\n",
      "#\n",
      "##\n",
      "###\n",
      "####\n",
      "#####\n",
      "####\n",
      "###\n",
      "##\n",
      "#\n"
     ]
    }
   ],
   "source": [
    "#Escribe aquí el código de tu solución\n"
   ]
  },
  {
   "cell_type": "markdown",
   "metadata": {},
   "source": [
    "<h2 style=\"color: #007BC4;\">Ejercicio 4</h2>\n",
    "<hr style=\"border: 0.5px solid #007BC4;\">\n",
    "\n",
    "Implementar un programa en Python que calcule el producto escalar de dos vectores:<br>\n",
    "\n",
    "$$\\vec{\\mathbf{x}} \\cdot \\vec{\\mathbf{y}} = \\sum_{i=0}^{n-1}x_i y_i $$\n",
    " \n",
    "\n",
    "El programa debe hacer lo siguiente:\n",
    "- Leer por teclado un número entero positivo (n). Este número representará la dimensión de los vectores.\n",
    "- Leer por teclado n números reales y almacenarlos en una lista. Estos números representarán los elementos del primer vector.\n",
    "- Leer por teclado n números reales y almacenarlos en otra lista. Estos números representarán los elementos del segundo vector.\n",
    "- Muestre por pantalla el resultado del producto escalar de los dos vectores con dos decimales.\n",
    "\n",
    "\n",
    "#### Ejemplo de ejecución:\n",
    "<pre>\n",
    "Introduce la dimensión de los vectores: 4 \n",
    "Introduce los valores del primer vector:\n",
    "Dato 0: 1.2 \n",
    "Dato 1: 3.5 \n",
    "Dato 2: -2.1 \n",
    "Dato 3: 6.6 \n",
    "Introduce los valores del segundo vector:\n",
    "Dato 0: 3.3 \n",
    "Dato 1: -0.9 \n",
    "Dato 2: 1.8 \n",
    "Dato 3: 7.5 \n",
    "El producto escalar vale 46.53\n",
    "\n",
    "--------------------------------------------\n",
    "\n",
    "Introduce la dimensión de los vectores : 2\n",
    "Introduce los valores del primer vector:\n",
    "Dato 0: 2.3\n",
    "Dato 1: 1.5\n",
    "Introduce los valores del segundo vector:\n",
    "Dato 0: 2.0\n",
    "Dato 1: -2.0\n",
    "El producto escalar vale 1.60\n",
    "</pre>\n"
   ]
  },
  {
   "cell_type": "code",
   "execution_count": 5,
   "metadata": {},
   "outputs": [
    {
     "name": "stdin",
     "output_type": "stream",
     "text": [
      "Introduce la dimensión de los vectores:  2\n"
     ]
    },
    {
     "name": "stdout",
     "output_type": "stream",
     "text": [
      "Introduce los valores del primer vector:\n"
     ]
    },
    {
     "name": "stdin",
     "output_type": "stream",
     "text": [
      "Dato 0:  2.3\n",
      "Dato 1:  1.5\n"
     ]
    },
    {
     "name": "stdout",
     "output_type": "stream",
     "text": [
      "Introduce los valores del segundo vector:\n"
     ]
    },
    {
     "name": "stdin",
     "output_type": "stream",
     "text": [
      "Dato 0:  2.0\n",
      "Dato 1:  -2.0\n"
     ]
    },
    {
     "name": "stdout",
     "output_type": "stream",
     "text": [
      "El producto escalar vale 1.60\n"
     ]
    }
   ],
   "source": [
    "#Escribe aquí el código de tu solución\n"
   ]
  },
  {
   "cell_type": "markdown",
   "metadata": {},
   "source": [
    "<h2 style=\"color: #007BC4;\">Ejercicio 5</h2>\n",
    "<hr style=\"border: 0.5px solid #007BC4;\">\n",
    "\n",
    "Realizar un programa en Python que pida al usuario la dimensión y los elementos de dos listas de números enteros (pueden tener distinta dimensión):\n",
    "\n",
    "- Una vez leídos los datos y almacenados en las listas, se generará una nueva lista que será la intersección de ambas, es decir, contendrá aquellos elementos que se encuentren en ambas listas.\n",
    "- El vector intersección se mostrará por pantalla siempre que existan elementos comunes.\n",
    "\n",
    "NOTA: se asume que el usuario no introduce elementos repetidos dentro del mismo vector.\n",
    "\n",
    "\n",
    "#### Ejemplo de ejecución:\n",
    "\n",
    "<pre>\n",
    "Introduce el numero de elementos de la lista 1 (>0):  3\n",
    "Introduce los números:\n",
    "Dato 1: 2\n",
    "Dato 2: 4\n",
    "Dato 3: 1\n",
    "\n",
    "Introduce el numero de elementos de la lista 2 (>0):  5\n",
    "Introduce los números:\n",
    "Dato 1: 3\n",
    "Dato 2: 3\n",
    "Error, elemento repetido. Dato 2: 2\n",
    "Dato 3: 9\n",
    "Dato 4: 0\n",
    "Dato 5: 1\n",
    "\n",
    "La intersección de las listas es: 2 1\n",
    "\n",
    "-----------------------------------------------------------\n",
    "\n",
    "Introduce el numero de elementos de la lista 1 (>0):  2\n",
    "Introduce los números:\n",
    "Dato 0: 3\n",
    "Dato 1: -2\n",
    "\n",
    "Introduce el numero de elementos de la lista 2 (>0):  3\n",
    "Introduce los números:\n",
    "Dato 0: 0\n",
    "Dato 1: 4\n",
    "Dato 2: 5\n",
    "\n",
    "No hay elementos comunes\n",
    "</pre>\n"
   ]
  },
  {
   "cell_type": "code",
   "execution_count": 6,
   "metadata": {},
   "outputs": [
    {
     "name": "stdin",
     "output_type": "stream",
     "text": [
      "Introduce el numero de elementos de la lista 1 (>0):  2\n",
      "Dato 1:  3\n",
      "Dato 2:  -2\n",
      "Introduce el numero de elementos de la lista 2 (>0):  3\n",
      "Dato 1:  0\n",
      "Dato 2:  4\n",
      "Dato 3:  5\n"
     ]
    },
    {
     "name": "stdout",
     "output_type": "stream",
     "text": [
      "No hay elementos comunes\n"
     ]
    }
   ],
   "source": [
    "#Escribe aquí el código de tu solución\n"
   ]
  },
  {
   "cell_type": "markdown",
   "metadata": {},
   "source": [
    "<h2 style=\"color: #007BC4;\">Ejercicio 6</h2>\n",
    "<hr style=\"border: 0.5px solid #007BC4;\">\n",
    "\n",
    "Implementar un programa en Python que:\n",
    "- Lea una frase (f) por teclado.\n",
    "- Lea un caracter por teclado (c) \n",
    "- Cambie todas las vocales de f por c Muestre f\n",
    "\n",
    "#### Ejemplo de ejecución:\n",
    "\n",
    "Dime una frase: Programar en python es muy divertido<br>\n",
    "Dime un caracter: o<br>\n",
    "La nueva frase es: Progromor on python os moy dovortodo<br>\n",
    "\n",
    "================================================================\n",
    "\n",
    "Dime una frase: Estamos trabajando con listas<br>\n",
    "Dime un caracter: ?<br>\n",
    "La nueva frase es: ?st?m?s tr?b?j?nd? c?n l?st?s<br>"
   ]
  },
  {
   "cell_type": "code",
   "execution_count": 8,
   "metadata": {},
   "outputs": [
    {
     "name": "stdin",
     "output_type": "stream",
     "text": [
      "Dime una frase:  Estamos trabajando con listas\n",
      "Dime un caracter:  ?\n"
     ]
    },
    {
     "name": "stdout",
     "output_type": "stream",
     "text": [
      "La nueva frase es:  Est?m?s tr?b?j?nd? c?n l?st?s\n"
     ]
    }
   ],
   "source": []
  }
 ],
 "metadata": {
  "kernelspec": {
   "display_name": "Python 3 (ipykernel)",
   "language": "python",
   "name": "python3"
  },
  "language_info": {
   "codemirror_mode": {
    "name": "ipython",
    "version": 3
   },
   "file_extension": ".py",
   "mimetype": "text/x-python",
   "name": "python",
   "nbconvert_exporter": "python",
   "pygments_lexer": "ipython3",
   "version": "3.11.13"
  },
  "vscode": {
   "interpreter": {
    "hash": "7e1998ff7f8aa20ada591c520b972326324e5ea05489af9e422744c7c09f6dad"
   }
  }
 },
 "nbformat": 4,
 "nbformat_minor": 4
}
