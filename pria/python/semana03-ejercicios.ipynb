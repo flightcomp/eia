{
 "cells": [
  {
   "attachments": {},
   "cell_type": "markdown",
   "metadata": {},
   "source": [
    "<center>\n",
    "<h1 style=\"color: #√;\">Curso de programación con Python</h1> \n",
    "<h3 style=\"color: #333333;\">SEMANA 3 - EJERCICIOS</h3> \n",
    "</center>\n",
    "\n",
    "<br>\n"
   ]
  },
  {
   "cell_type": "markdown",
   "metadata": {},
   "source": [
    "#### Autor: escribir aquí el nombre del autor\n"
   ]
  },
  {
   "cell_type": "markdown",
   "metadata": {},
   "source": [
    "#### <font style=\"color: red;\">**IMPORTANTE**: Los ejercicios (excepto el último) deben ser realizados con funciones.</font>"
   ]
  },
  {
   "attachments": {},
   "cell_type": "markdown",
   "metadata": {},
   "source": [
    "<h2 style=\"color: #007BC4;\">Ejercicio 1 </h2>\n",
    "<hr style=\"border: 0.5px solid #007BC4;\">\n",
    "\n",
    "Dada una tabla de precios de fruta almacenada en un diccionario ({nombre_fruta:precio}), escribir un programa que pregunte al usuario por una fruta y por el número de kilos qué desea comprar y muestre por pantalla el precio resultante. Debe tenerse en cuenta lo siguiente:\n",
    "\n",
    "\n",
    "- El listado de precios se definirá en el programa de forma estática, guardándose en un diccionario:\n",
    "        \n",
    "|  Fruta          |   Precio     | \n",
    "| :-------------: | :----------: |\n",
    "|    pera         |    1.25      |\n",
    "|    manzana      |    1.70      |\n",
    "|    kiwi         |    2.90      |\n",
    "|    mandarina    |    1.19      |\n",
    "|    fresa        |    3.75      |\n",
    "\n",
    "- En primer lugar se mostrará por pantalla el listado actual de precios.\n",
    "- Si la fruta que pide el usuario no está en el diccionario de precios, debe mostrarse un mensaje informando de ello.\n",
    "\n",
    "\n",
    "#### Ejemplos de ejecución:\n",
    "\n",
    "<pre>\n",
    "--- Precios para hoy ---\n",
    "pera              1.25\n",
    "naranja           1.70\n",
    "manzana           1.55\n",
    "kiwi              2.90\n",
    "mandarina         1.19\n",
    "fresa             3.75\n",
    "------------------------\n",
    "\n",
    "¿Qué fruta quieres? kiwwi\n",
    "La fruta kiwwi no está disponible.\n",
    "\n",
    "----------------------------------\n",
    "\n",
    "--- Precios para hoy ---\n",
    "pera              1.25\n",
    "naranja           1.70\n",
    "manzana           1.55\n",
    "kiwi              2.90\n",
    "mandarina         1.19\n",
    "fresa             3.75\n",
    "------------------------\n",
    "\n",
    "¿Qué fruta quieres? kiwi\n",
    "¿Cuántos kilos? 0.5\n",
    "0.5 kg de kiwi cuestan 1.45 euros\n",
    "\n",
    "</pre>\n",
    "\n"
   ]
  },
  {
   "cell_type": "code",
   "execution_count": null,
   "metadata": {},
   "outputs": [],
   "source": [
    "#Escribe aquí el código de tu solución\n"
   ]
  },
  {
   "attachments": {},
   "cell_type": "markdown",
   "metadata": {},
   "source": [
    "<h2 style=\"color: #007BC4;\">Ejercicio 2</h2>\n",
    "<hr style=\"border: 0.5px solid #007BC4;\">\n",
    "\n",
    "\n",
    "Escribir un programa que cree conjunto simulando una lista de la compra. El programa debe preguntar el artículo y añadirlo al conjunto, mostrando un mensaje de aviso en caso de que el artículo ya existiese.\n",
    "\n",
    "\n",
    "\n",
    "#### Ejemplo de ejecución:\n",
    "\n",
    "<pre>\n",
    "Introduce un artículo: pan\n",
    "¿Quieres añadir artículos a la lista (Si/No)? Si\n",
    "Introduce un artículo: agua\n",
    "¿Quieres añadir artículos a la lista (Si/No)? Si\n",
    "Introduce un artículo: leche\n",
    "¿Quieres añadir artículos a la lista (Si/No)? Si\n",
    "Introduce un artículo: café\n",
    "¿Quieres añadir artículos a la lista (Si/No)? No\n",
    "Artículos añadidos:\n",
    "leche\n",
    "agua\n",
    "pan\n",
    "café\n",
    "Número de artículos:  4\n",
    "</pre>"
   ]
  },
  {
   "cell_type": "code",
   "execution_count": null,
   "metadata": {},
   "outputs": [
    {
     "name": "stdout",
     "output_type": "stream",
     "text": [
      "Artículos añadidos:\n",
      "huevos\n",
      "pan\n",
      "leche\n",
      "Número de artículos: 3\n"
     ]
    }
   ],
   "source": [
    "#Escribe aquí el código de tu solución\n",
    "\n"
   ]
  },
  {
   "cell_type": "markdown",
   "metadata": {},
   "source": [
    "<h2 style=\"color: #007BC4;\">Ejercicio 3</h2>\n",
    "<hr style=\"border: 0.5px solid #007BC4;\">\n",
    "\n",
    "Desarrollar un programa en Python que permita adivinar un número (en 10 intentos). \n",
    "\n",
    "- El programa generará un número aleatorio entre dos números que pide al usuario:\n",
    "    - El primer número debe ser mayor que 0 y menor que 50.\n",
    "    - El segundo número debe ser mayor que el primer número y menor que 500.\n",
    "\n",
    "A continuación, el programa pedirá números al usuario, y, si el usuario no acierta:\n",
    "- Indicará si el número a adivinar es mayor o menor que el introducido. \n",
    "- Mostrará también el número de intentos restantes. \n",
    "\n",
    "El programa termina cuando:\n",
    " - El usuario acierta el número: en este caso se indicará en cuantos intentos lo ha acertado\n",
    " - Alcanza el limite de intentos sin acertarlo: en este caso se indica al usuario que no lo ha acertado y se muestra el número que se había generado.\n",
    "\n",
    "\n",
    "Ejemplo de ejecución:\n",
    "\n",
    "<pre>\n",
    "Juego de adivinar\n",
    "-----------------\n",
    "Introduce dos números y generaré un número al azar entre ellos que tendrás que adivinar. \n",
    " \n",
    "Introduce el primer número (entre 1 y 50): 1\n",
    "Introduce el segundo número (entre 2 y 500): 20\n",
    "\n",
    "He generado un número al azar entre 2 y 20, ver si lo aciertas, tienes 10 intentos.\n",
    " \n",
    "Introduce un número (entre 2 y 20): 10\n",
    "¡Ohhh! No has acertado. El número es menor que el número que has introducido.\n",
    "Inténtalo de nuevo, te quedan 9 intentos.\n",
    "\n",
    "Introduce un número (entre 2 y 20): 5\n",
    "¡Ohhh! No has acertado. El número es menor que el número que has introducido.\n",
    "Inténtalo de nuevo, te quedan 8 intentos.\n",
    "\n",
    "Introduce un número (entre 2 y 20): 3\n",
    "¡Ohhh! No has acertado. El número es menor que el número que has introducido.\n",
    "Inténtalo de nuevo, te quedan 7 intentos.\n",
    "\n",
    "Introduce un número (entre 2 y 20): 2\n",
    "¡Muy bien! Has acertado el número en 4 intentos.\n",
    "</pre>"
   ]
  },
  {
   "cell_type": "code",
   "execution_count": 5,
   "metadata": {},
   "outputs": [
    {
     "name": "stdout",
     "output_type": "stream",
     "text": [
      "Juego de adivinar\n",
      "-----------------\n",
      "Introduce dos números y generaré un número al azar entre ellos que tendrás que adivinar.\n",
      "He generado un número al azar entre 4 y 5, ver si lo aciertas, tienes 10 intentos.\n",
      "¡Muy bien! Has acertado el número en 1 intentos.\n"
     ]
    }
   ],
   "source": [
    "# Realiza tu solución aquí o en un archivo .py independiente\n"
   ]
  },
  {
   "cell_type": "markdown",
   "metadata": {},
   "source": [
    "<h2 style=\"color: #007BC4;\">Ejercicio 4</h2>\n",
    "<hr style=\"border: 0.5px solid #007BC4;\">\n",
    "\n",
    "Realizar un programa en Python que permita gestionar las subscripciones de un usuario a diversas plataformas de entretenimiento, utilizando para ello un diccionario.\n",
    "\n",
    "- El ejercicio parte de un diccionario que contiene el nombre y precio mensual de las subscripciones, formado por la clave (nombre de la plataforma) y el valor (precio mensual):\n",
    "\n",
    "\n",
    "<pre>\n",
    "        plataformas = {\n",
    "        \"Netflix\": 11.99,\n",
    "        \"HBO\": 8.99,       \n",
    "        \"Disney+\": 7,\n",
    "        \"DAZN\": 9.99,\n",
    "        \"Spotify\": 9.99,\n",
    "        \"Apple Music\": 9.99,\n",
    "        \"Amazon Prime\": 3.99,\n",
    "        }\n",
    "</pre>\n",
    "\n",
    "\n",
    "A continuación, deberá mostrar repetidamente un menú con las siguientes 6 opciones: \n",
    "\n",
    "1. Añadir plataforma (permite añadir una nueva plataforma al diccionario)\n",
    "2. Eliminar plataforma (elimina una plataforma del diccionario)\n",
    "3. Mostrar plataforma (muestra el precio de una plataforma a partir de su nombre)\n",
    "4. Listar plataformas (muestra la lista de plataformas y sus precios)\n",
    "5. Subscribirse n meses a una plataforma (muestra el precio total de la subscripción) 6. Terminar (sale del programa)\n",
    "\n",
    "\n",
    "\n",
    "#### Ejemplo de ejecución:\n",
    "\n",
    "<img src=\"data/ej4_ejecucion.png\">"
   ]
  },
  {
   "cell_type": "code",
   "execution_count": 8,
   "metadata": {},
   "outputs": [
    {
     "name": "stdout",
     "output_type": "stream",
     "text": [
      "(1) Añadir plataforma\n",
      "(2) Eliminar plataforma\n",
      "(3) Mostrar plataforma\n",
      "(4) Listar plataformas\n",
      "(5) Subscribirse n meses a una plataforma\n",
      "(6) Terminar\n"
     ]
    },
    {
     "name": "stdout",
     "output_type": "stream",
     "text": [
      "No existe esa plataforma\n",
      "(1) Añadir plataforma\n",
      "(2) Eliminar plataforma\n",
      "(3) Mostrar plataforma\n",
      "(4) Listar plataformas\n",
      "(5) Subscribirse n meses a una plataforma\n",
      "(6) Terminar\n",
      "El precio mensual de HBO es: 8.99 €\n",
      "(1) Añadir plataforma\n",
      "(2) Eliminar plataforma\n",
      "(3) Mostrar plataforma\n",
      "(4) Listar plataformas\n",
      "(5) Subscribirse n meses a una plataforma\n",
      "(6) Terminar\n",
      "El precio de suscripción de 2 meses a HBO es 17.98 €\n",
      "(1) Añadir plataforma\n",
      "(2) Eliminar plataforma\n",
      "(3) Mostrar plataforma\n",
      "(4) Listar plataformas\n",
      "(5) Subscribirse n meses a una plataforma\n",
      "(6) Terminar\n",
      "Precios mensuales de subscripción\n",
      "Netflix 11.99\n",
      "HBO 8.99\n",
      "Disney+ 7\n",
      "DAZN 9.99\n",
      "Spotify 9.99\n",
      "Apple Music 9.99\n",
      "Amazon Prime 3.99\n",
      "(1) Añadir plataforma\n",
      "(2) Eliminar plataforma\n",
      "(3) Mostrar plataforma\n",
      "(4) Listar plataformas\n",
      "(5) Subscribirse n meses a una plataforma\n",
      "(6) Terminar\n"
     ]
    }
   ],
   "source": [
    "# Realiza tu solución aquí o en un archivo .py independiente\n",
    "\n"
   ]
  },
  {
   "cell_type": "markdown",
   "metadata": {},
   "source": [
    "<h2 style=\"color: #007BC4;\">Ejercicio 5</h2>\n",
    "<hr style=\"border: 0.5px solid #007BC4;\">\n",
    "\n",
    "El array de numpy <code>gdp_2016</code> contiene el producto interior bruto de países del mundo en el año 2016 en dólares. \n",
    "\n"
   ]
  },
  {
   "cell_type": "code",
   "execution_count": 2,
   "metadata": {},
   "outputs": [
    {
     "data": {
      "text/plain": [
       "array([           nan,  1944.11700491,  6454.13537039, 11540.02556108,\n",
       "                  nan, 16726.72218488, 72399.65347339, 19939.93077479,\n",
       "        8832.76343477,            nan])"
      ]
     },
     "execution_count": 2,
     "metadata": {},
     "output_type": "execute_result"
    }
   ],
   "source": [
    "import numpy as np\n",
    "import pandas as pd\n",
    "\n",
    "# No hemos visto aún pandas pero no es necesario para el ejercicio,\n",
    "# tras la siguiente línea, gdp_2016 es un array de numpy \n",
    "gdp_2016 = pd.read_csv(\"data/gdp_pc.csv\")[\"2016\"].values\n",
    "\n",
    "gdp_2016[0:10] # visualizamos los 10 primero valores del array"
   ]
  },
  {
   "cell_type": "markdown",
   "metadata": {},
   "source": [
    "#### Utilizando operaciones lógicas sobre este array, realiza los siguientes ejercicios:\n",
    "\n",
    "\n",
    "#### 1 -  Crea un nuevo array sin los elementos que son NaN"
   ]
  },
  {
   "cell_type": "code",
   "execution_count": 12,
   "metadata": {},
   "outputs": [],
   "source": []
  },
  {
   "cell_type": "markdown",
   "metadata": {},
   "source": [
    "#### 2 -  Selecciona aquellos PIB que son mayores que 50.000$"
   ]
  },
  {
   "cell_type": "code",
   "execution_count": 8,
   "metadata": {},
   "outputs": [
    {
     "data": {
      "text/plain": [
       "array([ 72399.65347339,  50551.5531752 ,  77420.61217204,  63888.73238665,\n",
       "        58617.97062639,  71472.29596487,  50745.68297711,  74263.99862606,\n",
       "       102389.43772763, 105420.41423718,  56344.96375629,  50538.6065696 ,\n",
       "        58790.06140389, 127480.48251099,  54416.61249319,  87832.58651422,\n",
       "        60932.93003722,  57638.15908799])"
      ]
     },
     "execution_count": 8,
     "metadata": {},
     "output_type": "execute_result"
    }
   ],
   "source": []
  },
  {
   "cell_type": "markdown",
   "metadata": {},
   "source": [
    "#### 3 -  Selecciona aquellos PIB que son menores que 5.000$"
   ]
  },
  {
   "cell_type": "code",
   "execution_count": 9,
   "metadata": {},
   "outputs": [
    {
     "data": {
      "text/plain": [
       "array([ 1944.11700491,  6454.13537039, 11540.02556108, 16726.72218488,\n",
       "       19939.93077479,  8832.76343477, 22661.48853616, 46012.32845157,\n",
       "       17256.62697044,   777.75285166, 46428.67142458,  2167.64282343,\n",
       "        1771.01528722,  3579.75679135, 19242.62261574, 22516.81648228,\n",
       "       12172.06646607, 18066.3006624 ,  8461.53565294,  7234.19524335,\n",
       "       15123.85001428, 18064.60442722,  8900.76455309, 16956.72477025,\n",
       "         698.70665573, 44819.48360027, 26851.1685408 , 23193.97411052,\n",
       "       15529.08410645,  3693.43690912,  3609.37559695,   801.63011974,\n",
       "        5717.29037095, 14153.92792519,  1521.85721808,  6551.31894829,\n",
       "       16609.73935418, 15370.63489842, 32707.872887  , 34749.21236327,\n",
       "       48860.52529211, 10947.71518781, 49029.01483891, 15204.93246446,\n",
       "       15013.29637986, 13839.96863584,  9175.64442097, 17025.39067931,\n",
       "       19516.08298373, 31366.86706838, 11242.04751604, 11128.80247428,\n",
       "       42063.79406454, 36304.85427275, 29743.33742802,  1734.46407452,\n",
       "       39610.86680734,  4254.34870787, 43378.14602882,  9109.95196333,\n",
       "       41343.29253554,  3508.71519196, 18102.86221919, 42656.2166022 ,\n",
       "       10004.5284119 ,  4292.44889992,  1966.37968826,  1676.86477284,\n",
       "        1608.70437903, 26058.077443  , 26778.50496589, 14200.00719381,\n",
       "        7944.69135314,  7836.3791763 , 46864.95679091,  4736.83914255,\n",
       "        2270.13030428, 23422.41797653,  1783.71512959, 26700.75608264,\n",
       "       12933.94330355, 10588.17884122,  3627.9834637 ,  5201.03397093,\n",
       "       11609.02662172,  2834.05481866,  6570.61624581, 19948.81948407,\n",
       "       17348.93653235, 37258.22359457, 38380.17241178,  8821.31142953,\n",
       "        9047.7689234 , 42281.18818958, 25285.94773126,  3155.11426394,\n",
       "        3552.09178948,  3736.96461203,  2108.53722771, 26382.78803193,\n",
       "       36532.47268398, 14732.95458354,  6549.66799975, 14308.75112714,\n",
       "         812.67394381, 12952.72516857, 15210.95079266,  2622.06907623,\n",
       "        1701.37258736, 12312.94005099,  6801.29184829, 10414.49383242,\n",
       "        2951.02189398, 16689.09756884, 29862.31889041, 25587.38808847,\n",
       "        7857.4877165 ,  5332.28777311,  1506.23832521, 15347.99776172,\n",
       "       19515.40260527, 17274.82307137,  4022.97863242, 11442.8331081 ,\n",
       "       14942.19764347,  2125.71602653, 37928.34126866,  5721.22800363,\n",
       "       13113.97108338, 17633.13298468, 12252.27719639,  1216.79278744,\n",
       "        3852.52590437, 21102.5589232 ,  1168.82562558, 27682.6079403 ,\n",
       "       10624.92711311,   986.20696062,  5861.08965603,  5539.82671595,\n",
       "        2477.9033451 , 13966.49778022, 38565.40345261, 41885.92611335,\n",
       "       25029.76382064,  5235.47808502, 23008.66536715, 13018.60861238,\n",
       "        7804.16780147, 16305.48534045,  4182.53934131, 27383.254937  ,\n",
       "        3775.07502387, 37740.88825606, 30658.63199533,  9567.33912818,\n",
       "        5700.08893902, 44804.46017271, 23027.28926439, 24788.67927912,\n",
       "        1912.90118206,  6062.85581457,  4730.46186883,  2566.11917856,\n",
       "        2235.3146905 ,  1476.21371969,  8616.81241755, 14514.96055305,\n",
       "        3721.66067336,  3723.92091102, 22092.44125736,  3237.3925436 ,\n",
       "       14966.7137949 , 30460.38408107, 32723.07195376, 48904.55437072,\n",
       "        8329.56058149, 28383.89621333,  1990.72665731, 13986.6283938 ,\n",
       "       20172.0612279 ,  1490.53623573, 16913.36607526,  2979.31023902,\n",
       "       16875.9877489 , 15126.46133663,  2140.35737389, 13214.12254515,\n",
       "        5745.19122926,  6062.85581457,  3723.92091102, 32854.71905846,\n",
       "       11595.51237921, 25247.2017505 ,  3651.02148404,  2786.2722427 ,\n",
       "        1819.43435088,  8269.61463355, 16884.35346567, 21619.60793375,\n",
       "        6512.68213067, 11456.78995224,  6295.59058534,  3080.56575434,\n",
       "       16216.92698557,  6378.25656692, 10063.75847519,  2507.47166249,\n",
       "       13196.81122696,  3933.06646044,  2027.08491653])"
      ]
     },
     "execution_count": 9,
     "metadata": {},
     "output_type": "execute_result"
    }
   ],
   "source": []
  },
  {
   "cell_type": "markdown",
   "metadata": {},
   "source": [
    "#### 4 -  Selecciona aquellos PIB que se encuentran entre 40.000 y 50.000"
   ]
  },
  {
   "cell_type": "code",
   "execution_count": 13,
   "metadata": {},
   "outputs": [
    {
     "data": {
      "text/plain": [
       "array([46012.32845157, 46428.67142458, 44819.48360027, 48860.52529211,\n",
       "       49029.01483891, 42063.79406454, 43378.14602882, 41343.29253554,\n",
       "       42656.2166022 , 46864.95679091, 42281.18818958, 41885.92611335,\n",
       "       44804.46017271, 48904.55437072])"
      ]
     },
     "execution_count": 13,
     "metadata": {},
     "output_type": "execute_result"
    }
   ],
   "source": []
  }
 ],
 "metadata": {
  "kernelspec": {
   "display_name": "Python (transformers)",
   "language": "python",
   "name": "transformers"
  },
  "language_info": {
   "codemirror_mode": {
    "name": "ipython",
    "version": 3
   },
   "file_extension": ".py",
   "mimetype": "text/x-python",
   "name": "python",
   "nbconvert_exporter": "python",
   "pygments_lexer": "ipython3",
   "version": "3.12.3"
  },
  "vscode": {
   "interpreter": {
    "hash": "aee8b7b246df8f9039afb4144a1f6fd8d2ca17a180786b69acc140d282b71a49"
   }
  }
 },
 "nbformat": 4,
 "nbformat_minor": 4
}
