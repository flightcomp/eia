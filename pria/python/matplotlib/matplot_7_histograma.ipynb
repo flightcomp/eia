{
 "cells": [
  {
   "cell_type": "code",
   "execution_count": 1,
   "metadata": {
    "colab": {
     "base_uri": "https://localhost:8080/"
    },
    "executionInfo": {
     "elapsed": 18333,
     "status": "ok",
     "timestamp": 1672340257848,
     "user": {
      "displayName": "José Juan Torre Barbeito",
      "userId": "13188761001150166618"
     },
     "user_tz": -60
    },
    "id": "P0_NbPjpz8Ya",
    "outputId": "85374f26-124c-4b25-81fb-6035e8825fbf"
   },
   "outputs": [],
   "source": [
    "import sys\n",
    "try:\n",
    "  import google.colab\n",
    "  IN_COLAB = True\n",
    "except:\n",
    "  IN_COLAB = False\n",
    "\n",
    "if IN_COLAB:\n",
    "    # montar el drive, que es donde tenemos el dataset\n",
    "    from google.colab import drive \n",
    "    drive.mount(\"/content/drive\")\n",
    "    data_dir = \"/content/drive/MyDrive/Colab Notebooks/datasets/ejemplos/\"  \n",
    "    sys.path.append(data_dir)\n",
    "else:\n",
    "    import os\n",
    "    data_dir = os.getcwd() + \"/datasets/\"\n"
   ]
  },
  {
   "cell_type": "code",
   "execution_count": 3,
   "metadata": {
    "colab": {
     "base_uri": "https://localhost:8080/",
     "height": 206
    },
    "executionInfo": {
     "elapsed": 266,
     "status": "ok",
     "timestamp": 1672340783432,
     "user": {
      "displayName": "José Juan Torre Barbeito",
      "userId": "13188761001150166618"
     },
     "user_tz": -60
    },
    "id": "PMtSvqlW0Iza",
    "outputId": "28f99f2e-68a6-476a-95dc-fd1d3ab02d8b"
   },
   "outputs": [
    {
     "data": {
      "text/html": [
       "<div>\n",
       "<style scoped>\n",
       "    .dataframe tbody tr th:only-of-type {\n",
       "        vertical-align: middle;\n",
       "    }\n",
       "\n",
       "    .dataframe tbody tr th {\n",
       "        vertical-align: top;\n",
       "    }\n",
       "\n",
       "    .dataframe thead th {\n",
       "        text-align: right;\n",
       "    }\n",
       "</style>\n",
       "<table border=\"1\" class=\"dataframe\">\n",
       "  <thead>\n",
       "    <tr style=\"text-align: right;\">\n",
       "      <th></th>\n",
       "      <th>Year</th>\n",
       "    </tr>\n",
       "  </thead>\n",
       "  <tbody>\n",
       "    <tr>\n",
       "      <th>0</th>\n",
       "      <td>1963</td>\n",
       "    </tr>\n",
       "    <tr>\n",
       "      <th>1</th>\n",
       "      <td>1963</td>\n",
       "    </tr>\n",
       "    <tr>\n",
       "      <th>2</th>\n",
       "      <td>1963</td>\n",
       "    </tr>\n",
       "    <tr>\n",
       "      <th>3</th>\n",
       "      <td>1963</td>\n",
       "    </tr>\n",
       "    <tr>\n",
       "      <th>4</th>\n",
       "      <td>1963</td>\n",
       "    </tr>\n",
       "  </tbody>\n",
       "</table>\n",
       "</div>"
      ],
      "text/plain": [
       "   Year\n",
       "0  1963\n",
       "1  1963\n",
       "2  1963\n",
       "3  1963\n",
       "4  1963"
      ]
     },
     "execution_count": 3,
     "metadata": {},
     "output_type": "execute_result"
    }
   ],
   "source": [
    "import matplotlib.pyplot as plt\n",
    "import numpy as np\n",
    "import pandas as pd\n",
    "\n",
    "filename = data_dir + \"avengers.csv\"\n",
    "df = pd.read_csv(filename , encoding='ISO-8859-1', usecols=[\"Year\"])\n",
    "\n",
    "df = df[df[\"Year\"] >= 1960]\n",
    "\n",
    "df.head()\n",
    "#df.describe()\n",
    "#df.info()\n",
    "#df.shape"
   ]
  },
  {
   "cell_type": "code",
   "execution_count": 4,
   "metadata": {
    "colab": {
     "base_uri": "https://localhost:8080/",
     "height": 441
    },
    "executionInfo": {
     "elapsed": 663,
     "status": "ok",
     "timestamp": 1672341121215,
     "user": {
      "displayName": "José Juan Torre Barbeito",
      "userId": "13188761001150166618"
     },
     "user_tz": -60
    },
    "id": "3yaxmmmg2B84",
    "outputId": "1678e759-4977-4a5b-da6d-6afb2367b2b9"
   },
   "outputs": [
    {
     "data": {
      "image/png": "[encoded data removed]",
      "text/plain": [
       "<Figure size 800x600 with 1 Axes>"
      ]
     },
     "metadata": {},
     "output_type": "display_data"
    }
   ],
   "source": [
    "\n",
    "bins = range(df[\"Year\"].min() -3, df[\"Year\"].max()+3, 5)\n",
    "\n",
    "fig, ax = plt.subplots(figsize=(8, 6))\n",
    "\n",
    "\n",
    "ax.hist(df[\"Year\"],\n",
    "  bins=bins, # intervalos de agrupación\n",
    "  rwidth=0.95, # ancho de cada barra\n",
    "  zorder=2, # barras por encima de rejilla\n",
    "  color= \"deeppink\" ,\n",
    "  alpha=0.5)\n",
    "\n",
    "\n",
    "ax.set_xticks(bins)\n",
    "ax.yaxis.grid(color=\"lightgray\", linestyle= \"--\") # rejilla\n",
    "\n",
    "\n",
    "ax.spines[\"right\"].set_visible(False) # ocultar borde derecho\n",
    "ax.spines[\"top\"].set_visible(False) # ocultar borde superior\n",
    "fig.tight_layout() # ajustar elementos al tamaño de la figura\n"
   ]
  },
  {
   "cell_type": "code",
   "execution_count": null,
   "metadata": {},
   "outputs": [],
   "source": []
  }
 ],
 "metadata": {
  "colab": {
   "authorship_tag": "ABX9TyPAjOJmUWAISpCYwxoRpe7k",
   "provenance": [
    {
     "file_id": "1G3CMVS55g9cwsk_xAnFuPAWnE-ZlflKf",
     "timestamp": 1672338439561
    },
    {
     "file_id": "1ndRE72YkDYbnN6yAemHJncT9NWakWsQ8",
     "timestamp": 1672335555314
    }
   ]
  },
  "kernelspec": {
   "display_name": "Python (transformers)",
   "language": "python",
   "name": "transformers"
  },
  "language_info": {
   "codemirror_mode": {
    "name": "ipython",
    "version": 3
   },
   "file_extension": ".py",
   "mimetype": "text/x-python",
   "name": "python",
   "nbconvert_exporter": "python",
   "pygments_lexer": "ipython3",
   "version": "3.12.3"
  }
 },
 "nbformat": 4,
 "nbformat_minor": 4
}
