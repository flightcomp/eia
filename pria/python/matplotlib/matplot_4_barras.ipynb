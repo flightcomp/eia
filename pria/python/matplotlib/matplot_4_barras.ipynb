{
 "cells": [
  {
   "cell_type": "code",
   "execution_count": 1,
   "metadata": {
    "colab": {
     "base_uri": "https://localhost:8080/"
    },
    "executionInfo": {
     "elapsed": 25775,
     "status": "ok",
     "timestamp": 1674041235757,
     "user": {
      "displayName": "José Juan Torre Barbeito",
      "userId": "13188761001150166618"
     },
     "user_tz": -60
    },
    "id": "P0_NbPjpz8Ya",
    "outputId": "59175ebb-003e-460b-91d8-229ae986cdb2"
   },
   "outputs": [],
   "source": [
    "import sys\n",
    "try:\n",
    "  import google.colab\n",
    "  IN_COLAB = True\n",
    "except:\n",
    "  IN_COLAB = False\n",
    "\n",
    "if IN_COLAB:\n",
    "    # montar el drive, que es donde tenemos el dataset\n",
    "    from google.colab import drive \n",
    "    drive.mount(\"/content/drive\")\n",
    "    data_dir = \"/content/drive/MyDrive/Colab Notebooks/datasets/ejemplos/\"  \n",
    "    sys.path.append(data_dir)\n",
    "else:\n",
    "    import os\n",
    "    data_dir = os.getcwd() + \"/datasets/\"\n"
   ]
  },
  {
   "cell_type": "code",
   "execution_count": 3,
   "metadata": {
    "colab": {
     "base_uri": "https://localhost:8080/",
     "height": 677
    },
    "executionInfo": {
     "elapsed": 373,
     "status": "ok",
     "timestamp": 1674041355811,
     "user": {
      "displayName": "José Juan Torre Barbeito",
      "userId": "13188761001150166618"
     },
     "user_tz": -60
    },
    "id": "PMtSvqlW0Iza",
    "outputId": "b75ed4ab-42bd-4914-8970-4754a8858a96"
   },
   "outputs": [
    {
     "data": {
      "text/html": [
       "<div>\n",
       "<style scoped>\n",
       "    .dataframe tbody tr th:only-of-type {\n",
       "        vertical-align: middle;\n",
       "    }\n",
       "\n",
       "    .dataframe tbody tr th {\n",
       "        vertical-align: top;\n",
       "    }\n",
       "\n",
       "    .dataframe thead th {\n",
       "        text-align: right;\n",
       "    }\n",
       "</style>\n",
       "<table border=\"1\" class=\"dataframe\">\n",
       "  <thead>\n",
       "    <tr style=\"text-align: right;\">\n",
       "      <th></th>\n",
       "      <th>Programming Language</th>\n",
       "      <th>Ratings</th>\n",
       "    </tr>\n",
       "  </thead>\n",
       "  <tbody>\n",
       "    <tr>\n",
       "      <th>0</th>\n",
       "      <td>C</td>\n",
       "      <td>17.38</td>\n",
       "    </tr>\n",
       "    <tr>\n",
       "      <th>1</th>\n",
       "      <td>Java</td>\n",
       "      <td>11.96</td>\n",
       "    </tr>\n",
       "    <tr>\n",
       "      <th>2</th>\n",
       "      <td>Python</td>\n",
       "      <td>11.72</td>\n",
       "    </tr>\n",
       "    <tr>\n",
       "      <th>3</th>\n",
       "      <td>C++</td>\n",
       "      <td>7.56</td>\n",
       "    </tr>\n",
       "    <tr>\n",
       "      <th>4</th>\n",
       "      <td>C#</td>\n",
       "      <td>3.95</td>\n",
       "    </tr>\n",
       "    <tr>\n",
       "      <th>5</th>\n",
       "      <td>Visual Basic</td>\n",
       "      <td>3.84</td>\n",
       "    </tr>\n",
       "    <tr>\n",
       "      <th>6</th>\n",
       "      <td>JavaScript</td>\n",
       "      <td>2.20</td>\n",
       "    </tr>\n",
       "    <tr>\n",
       "      <th>7</th>\n",
       "      <td>PHP</td>\n",
       "      <td>1.99</td>\n",
       "    </tr>\n",
       "    <tr>\n",
       "      <th>8</th>\n",
       "      <td>R</td>\n",
       "      <td>1.90</td>\n",
       "    </tr>\n",
       "    <tr>\n",
       "      <th>9</th>\n",
       "      <td>Groovy</td>\n",
       "      <td>1.84</td>\n",
       "    </tr>\n",
       "    <tr>\n",
       "      <th>10</th>\n",
       "      <td>Assembly language</td>\n",
       "      <td>1.64</td>\n",
       "    </tr>\n",
       "    <tr>\n",
       "      <th>11</th>\n",
       "      <td>SQL</td>\n",
       "      <td>1.61</td>\n",
       "    </tr>\n",
       "    <tr>\n",
       "      <th>12</th>\n",
       "      <td>Swift</td>\n",
       "      <td>1.43</td>\n",
       "    </tr>\n",
       "    <tr>\n",
       "      <th>13</th>\n",
       "      <td>Go</td>\n",
       "      <td>1.41</td>\n",
       "    </tr>\n",
       "    <tr>\n",
       "      <th>14</th>\n",
       "      <td>Ruby</td>\n",
       "      <td>1.30</td>\n",
       "    </tr>\n",
       "    <tr>\n",
       "      <th>15</th>\n",
       "      <td>MATLAB</td>\n",
       "      <td>1.15</td>\n",
       "    </tr>\n",
       "    <tr>\n",
       "      <th>16</th>\n",
       "      <td>Perl</td>\n",
       "      <td>1.02</td>\n",
       "    </tr>\n",
       "    <tr>\n",
       "      <th>17</th>\n",
       "      <td>Objective-C</td>\n",
       "      <td>1.00</td>\n",
       "    </tr>\n",
       "    <tr>\n",
       "      <th>18</th>\n",
       "      <td>Delphi/Object Pascal</td>\n",
       "      <td>0.79</td>\n",
       "    </tr>\n",
       "    <tr>\n",
       "      <th>19</th>\n",
       "      <td>Classic Visual Basic</td>\n",
       "      <td>0.79</td>\n",
       "    </tr>\n",
       "  </tbody>\n",
       "</table>\n",
       "</div>"
      ],
      "text/plain": [
       "    Programming Language  Ratings\n",
       "0                      C    17.38\n",
       "1                   Java    11.96\n",
       "2                 Python    11.72\n",
       "3                    C++     7.56\n",
       "4                     C#     3.95\n",
       "5           Visual Basic     3.84\n",
       "6             JavaScript     2.20\n",
       "7                    PHP     1.99\n",
       "8                      R     1.90\n",
       "9                 Groovy     1.84\n",
       "10     Assembly language     1.64\n",
       "11                   SQL     1.61\n",
       "12                 Swift     1.43\n",
       "13                    Go     1.41\n",
       "14                  Ruby     1.30\n",
       "15                MATLAB     1.15\n",
       "16                  Perl     1.02\n",
       "17           Objective-C     1.00\n",
       "18  Delphi/Object Pascal     0.79\n",
       "19  Classic Visual Basic     0.79"
      ]
     },
     "execution_count": 3,
     "metadata": {},
     "output_type": "execute_result"
    }
   ],
   "source": [
    "import matplotlib.pyplot as plt\n",
    "import numpy as np\n",
    "import pandas as pd\n",
    "\n",
    "filename = data_dir + \"Top Programming Languages 2020.csv\"\n",
    "df = pd.read_csv(filename)\n",
    "df = df[['Programming Language', 'Ratings']]\n",
    "df[\"Ratings\"] = df['Ratings'].str.rstrip('%').astype(float)\n",
    "df = df.sort_values(\"Ratings\", ascending=False)\n",
    "\n",
    "df\n",
    "#df.describe()\n",
    "#df.info()\n"
   ]
  },
  {
   "cell_type": "code",
   "execution_count": 4,
   "metadata": {
    "colab": {
     "base_uri": "https://localhost:8080/",
     "height": 369
    },
    "executionInfo": {
     "elapsed": 408,
     "status": "ok",
     "timestamp": 1674041422182,
     "user": {
      "displayName": "José Juan Torre Barbeito",
      "userId": "13188761001150166618"
     },
     "user_tz": -60
    },
    "id": "3yaxmmmg2B84",
    "outputId": "d7e4d1b9-affe-49b1-8b07-66c7ca6390c9"
   },
   "outputs": [
    {
     "data": {
      "image/png": "[encoded data removed]",
      "text/plain": [
       "<Figure size 800x500 with 1 Axes>"
      ]
     },
     "metadata": {},
     "output_type": "display_data"
    }
   ],
   "source": [
    "fig, ax = plt.subplots(figsize=(8, 5))\n",
    "\n",
    "x = np.arange(df.index.size)\n",
    "\n",
    "#x = np.arange(df.index.size)\n",
    "ax.bar(x, df[\"Ratings\"],   color=\"blue\")\n",
    "\n",
    "\n",
    "ax.set_xticks(x)\n",
    "ax.set_xticklabels(df[\"Programming Language\"], rotation=90)\n",
    "ax.grid(axis=\"y\")\n",
    "\n",
    "ax.set_ylabel(\"Rating TIOBE\")\n",
    "\n",
    "#ax.bar_label(ba1, padding=3)\n",
    "#ax.bar_label(silver_medals, padding=3)\n",
    "#ax.bar_label(bronze_medals, padding=3)\n",
    "\n",
    "#ax.bar_label(ax.containers[0])\n",
    "ax.spines[\"right\"].set_visible(False) # ocultar borde derecho\n",
    "ax.spines[\"top\"].set_visible(False) # ocultar borde superior\n",
    "fig.tight_layout() # ajustar elementos al tamaño de la figura\n"
   ]
  },
  {
   "cell_type": "code",
   "execution_count": null,
   "metadata": {},
   "outputs": [],
   "source": []
  }
 ],
 "metadata": {
  "colab": {
   "authorship_tag": "ABX9TyN91474EbfxbQAkdxHDPAyi",
   "provenance": [
    {
     "file_id": "1ndRE72YkDYbnN6yAemHJncT9NWakWsQ8",
     "timestamp": 1672335555314
    }
   ]
  },
  "kernelspec": {
   "display_name": "Python (transformers)",
   "language": "python",
   "name": "transformers"
  },
  "language_info": {
   "codemirror_mode": {
    "name": "ipython",
    "version": 3
   },
   "file_extension": ".py",
   "mimetype": "text/x-python",
   "name": "python",
   "nbconvert_exporter": "python",
   "pygments_lexer": "ipython3",
   "version": "3.12.3"
  }
 },
 "nbformat": 4,
 "nbformat_minor": 4
}
