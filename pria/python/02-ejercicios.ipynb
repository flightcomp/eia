{
 "cells": [
  {
   "cell_type": "markdown",
   "id": "8ea08d24-8d56-4faa-a949-4c3500c421eb",
   "metadata": {},
   "source": [
    "# Cuaderno de Ejercicios en Python\n",
    "\n",
    "## Introducción\n",
    "\n",
    "Este cuaderno presenta dos ejercicios prácticos en Python para que los estudiantes practiquen sus habilidades de programación.\n",
    "\n",
    "## Ejercicios\n",
    "\n",
    "### Ejercicio 1: Suma de Números\n",
    "\n",
    "#### Descripción\n",
    "\n",
    "Escribe una función que tome un número entero `n` como entrada y devuelva la suma de todos los números naturales desde 1 hasta `n`.\n",
    "\n",
    "#### Ejemplo de ejecución\n",
    "\n",
    "```python\n",
    ">>> suma_naturales(5)\n",
    "15\n",
    "```\n",
    "\n",
    "#### Solución\n"
   ]
  },
  {
   "cell_type": "code",
   "execution_count": null,
   "id": "5932e7f9-fd9c-4e15-a815-2687db882f2e",
   "metadata": {},
   "outputs": [],
   "source": [
    "# Define aquí tu función\n",
    "\n",
    "# Prueba\n",
    "resultado = suma_naturales(5)\n",
    "print(resultado)"
   ]
  },
  {
   "cell_type": "markdown",
   "id": "63b48031",
   "metadata": {},
   "source": [
    "### Ejercicio 2: Palíndromo\n",
    "\n",
    "#### Descripción\n",
    "\n",
    "Escribe una función que determine si una palabra dada es un palíndromo (se lee igual de izquierda a derecha que de derecha a izquierda).\n",
    "\n",
    "#### Ejemplo de ejecución\n",
    "\n",
    "```python\n",
    ">>> es_palindromo('reconocer')\n",
    "True\n",
    ">>> es_palindromo('python')\n",
    "False\n",
    "```\n",
    "\n",
    "#### Solución\n"
   ]
  },
  {
   "cell_type": "code",
   "execution_count": null,
   "id": "ad2bd5dd-88de-45f0-9321-08d7bd58e2f1",
   "metadata": {},
   "outputs": [],
   "source": [
    "# Define aquí tu función\n",
    "\n",
    "# Prueba\n",
    "print(es_palindromo('reconocer'))\n",
    "print(es_palindromo('python'))"
   ]
  }
 ],
 "metadata": {
  "kernelspec": {
   "display_name": "Python 3 (ipykernel)",
   "language": "python",
   "name": "python3"
  },
  "language_info": {
   "codemirror_mode": {
    "name": "ipython",
    "version": 3
   },
   "file_extension": ".py",
   "mimetype": "text/x-python",
   "name": "python",
   "nbconvert_exporter": "python",
   "pygments_lexer": "ipython3",
   "version": "3.11.13"
  }
 },
 "nbformat": 4,
 "nbformat_minor": 5
}
