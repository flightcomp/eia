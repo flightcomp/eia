{
 "cells": [
  {
   "cell_type": "markdown",
   "id": "230c297f-7421-4408-be5b-ecdde2af2b0a",
   "metadata": {},
   "source": [
    "Crea una matriz de ceros a partir de 3 listas de 6 ceros [0]*cols. No es una matriz numpy"
   ]
  },
  {
   "cell_type": "code",
   "execution_count": 2,
   "id": "662b7aa7-b503-4bf0-8727-124a9db91ba2",
   "metadata": {},
   "outputs": [
    {
     "data": {
      "text/plain": [
       "[[0, 0, 0, 0, 0, 0], [0, 0, 0, 0, 0, 0], [0, 0, 0, 0, 0, 0]]"
      ]
     },
     "execution_count": 2,
     "metadata": {},
     "output_type": "execute_result"
    }
   ],
   "source": [
    "rows, cols = 3,6\n",
    "my_matrix = [([0]*cols) for i in range(rows)]\n",
    "my_matrix"
   ]
  },
  {
   "cell_type": "markdown",
   "id": "86f7857e-08fa-4693-b838-68d9ca1c8db3",
   "metadata": {},
   "source": [
    "Crea un diccionario cuyos indices provienen de una tupla y cuyos valores son cero"
   ]
  },
  {
   "cell_type": "code",
   "execution_count": 8,
   "id": "ffe70a0c-474b-40f3-8a32-efb6ed3dbfea",
   "metadata": {},
   "outputs": [
    {
     "data": {
      "text/plain": [
       "{'plane': 0,\n",
       " 'car': 0,\n",
       " 'bird': 0,\n",
       " 'cat': 0,\n",
       " 'deer': 0,\n",
       " 'dog': 0,\n",
       " 'frog': 0,\n",
       " 'horse': 0,\n",
       " 'ship': 0,\n",
       " 'truck': 0}"
      ]
     },
     "execution_count": 8,
     "metadata": {},
     "output_type": "execute_result"
    }
   ],
   "source": [
    "labels = ('plane', 'car', 'bird', 'cat', 'deer', 'dog', 'frog', 'horse', 'ship', 'truck')\n",
    "correct_pred = {classname: 0 for classname in labels}\n",
    "correct_pred"
   ]
  }
 ],
 "metadata": {
  "kernelspec": {
   "display_name": "Python 3 (ipykernel)",
   "language": "python",
   "name": "python3"
  },
  "language_info": {
   "codemirror_mode": {
    "name": "ipython",
    "version": 3
   },
   "file_extension": ".py",
   "mimetype": "text/x-python",
   "name": "python",
   "nbconvert_exporter": "python",
   "pygments_lexer": "ipython3",
   "version": "3.11.13"
  }
 },
 "nbformat": 4,
 "nbformat_minor": 5
}
