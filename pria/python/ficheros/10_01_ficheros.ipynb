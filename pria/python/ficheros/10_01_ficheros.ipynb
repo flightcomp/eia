{
 "cells": [
  {
   "cell_type": "markdown",
   "metadata": {},
   "source": [
    "<center>\n",
    "<h1 style=\"color: #007BC4;\">Curso de programación con Python</h1> \n",
    "<h3 style=\"color: #333333;\">Tema 10: Ficheros</h3> \n",
    "</center>\n",
    "<br>"
   ]
  },
  {
   "cell_type": "markdown",
   "metadata": {},
   "source": [
    "<a name=\"intro\"></a>\n",
    "<h2 style=\"color: #007BC4;\">Ficheros de texto</h2>\n",
    "<hr style=\"border: 0.5px solid #007BC4;\">"
   ]
  },
  {
   "cell_type": "code",
   "execution_count": 36,
   "metadata": {},
   "outputs": [
    {
     "name": "stdout",
     "output_type": "stream",
     "text": [
      "Pedro 9 7 6.5 4.1\n",
      "\n",
      "Juan 0 4.5 3 6\n",
      "\n",
      "Arturo 10 8.5 6 7\n",
      "\n"
     ]
    }
   ],
   "source": [
    "file = open(\"data/fichero_2.txt\", \"r\")\n",
    "finish = False\n",
    "while not finish:\n",
    "    line = file.readline()\n",
    "    finish = len(line) == 0       \n",
    "    print(line)"
   ]
  },
  {
   "cell_type": "code",
   "execution_count": 33,
   "metadata": {},
   "outputs": [
    {
     "name": "stdout",
     "output_type": "stream",
     "text": [
      "Pedro 9 7 6.5 4.1\n",
      "\n",
      "Juan 0 4.5 3 6\n",
      "\n",
      "Arturo 10 8.5 6 7\n"
     ]
    }
   ],
   "source": [
    "with open(\"data/fichero_2.txt\", 'r') as file: \n",
    "    for linea in file:        \n",
    "        print(linea)"
   ]
  },
  {
   "cell_type": "markdown",
   "metadata": {},
   "source": [
    "<a name=\"intro\"></a>\n",
    "<h2 style=\"color: #007BC4;\">Lectura/escritura de matrices con numpy</h2>\n",
    "<hr style=\"border: 0.5px solid #007BC4;\">"
   ]
  },
  {
   "cell_type": "code",
   "execution_count": 38,
   "metadata": {},
   "outputs": [
    {
     "data": {
      "text/plain": [
       "array([[ 1,  2,  3,  4],\n",
       "       [ 7,  8,  9, 10],\n",
       "       [11, 12, 13, 14]], dtype=int32)"
      ]
     },
     "execution_count": 38,
     "metadata": {},
     "output_type": "execute_result"
    }
   ],
   "source": [
    "import numpy as np\n",
    "matriz = np.loadtxt(\"data/matriz.txt\", dtype=np.int32)\n",
    "matriz"
   ]
  },
  {
   "cell_type": "code",
   "execution_count": 40,
   "metadata": {},
   "outputs": [
    {
     "data": {
      "text/plain": [
       "array([[ 1,  2,  3,  4],\n",
       "       [ 7,  8,  9, 10],\n",
       "       [11, 12, 13, 14]], dtype=int32)"
      ]
     },
     "execution_count": 40,
     "metadata": {},
     "output_type": "execute_result"
    }
   ],
   "source": [
    "matriz2 = np.loadtxt(\"data/matriz2.txt\", dtype=np.int32, delimiter=',')\n",
    "matriz2"
   ]
  },
  {
   "cell_type": "code",
   "execution_count": 41,
   "metadata": {},
   "outputs": [],
   "source": [
    "np.savetxt(\"data/archivo_matriz.txt\", matriz+matriz2,fmt='%.2f')"
   ]
  },
  {
   "cell_type": "markdown",
   "metadata": {},
   "source": [
    "<a name=\"intro\"></a>\n",
    "<h2 style=\"color: #007BC4;\">Archivos YAML</h2>\n",
    "<hr style=\"border: 0.5px solid #007BC4;\">"
   ]
  },
  {
   "cell_type": "code",
   "execution_count": 2,
   "metadata": {},
   "outputs": [],
   "source": [
    "import yaml"
   ]
  },
  {
   "cell_type": "markdown",
   "metadata": {},
   "source": [
    "### Lectura de un archivo YAML"
   ]
  },
  {
   "cell_type": "code",
   "execution_count": 10,
   "metadata": {},
   "outputs": [
    {
     "data": {
      "text/plain": [
       "{'grandparent': {'parent': {'child': {'name': 'Bobby'},\n",
       "   'sibling': {'name': 'Molly'}}}}"
      ]
     },
     "execution_count": 10,
     "metadata": {},
     "output_type": "execute_result"
    }
   ],
   "source": [
    "filename = 'data/yaml_1.yaml'\n",
    "\n",
    "with open(filename, mode=\"rb\") as file:\n",
    "    result = yaml.safe_load(file)\n",
    "\n",
    "result"
   ]
  },
  {
   "cell_type": "code",
   "execution_count": 11,
   "metadata": {},
   "outputs": [
    {
     "data": {
      "text/plain": [
       "{'grandparent': {'parent': {'child': {'name': 'Bobby'},\n",
       "   'sibling': {'name': 'Molly'}}}}"
      ]
     },
     "execution_count": 11,
     "metadata": {},
     "output_type": "execute_result"
    }
   ],
   "source": [
    "filename = 'data/yaml_2.yaml'\n",
    "\n",
    "with open(filename, mode=\"rb\") as file:\n",
    "    result = yaml.safe_load(file)\n",
    "\n",
    "result"
   ]
  },
  {
   "cell_type": "code",
   "execution_count": 43,
   "metadata": {},
   "outputs": [
    {
     "data": {
      "text/plain": [
       "{'fruits': ['apple', 'banana', 'orange'],\n",
       " 'veggies': ['tomato', 'cucumber', 'onion'],\n",
       " 'mushrooms': ['champignon', 'truffle']}"
      ]
     },
     "execution_count": 43,
     "metadata": {},
     "output_type": "execute_result"
    }
   ],
   "source": [
    "filename = 'data/arrays.yaml'\n",
    "\n",
    "with open(filename, mode=\"rb\") as file:\n",
    "    result = yaml.safe_load(file)\n",
    "\n",
    "result"
   ]
  },
  {
   "cell_type": "code",
   "execution_count": 61,
   "metadata": {},
   "outputs": [
    {
     "data": {
      "text/plain": [
       "{'receipt': 'Factura de compra',\n",
       " 'date': datetime.date(2023, 8, 6),\n",
       " 'customer': {'first_name': 'Pedro', 'surname': 'López'},\n",
       " 'items': [{'part_no': 'A4786',\n",
       "   'descrip': 'Water Bucket (Filled)',\n",
       "   'price': 1.47,\n",
       "   'quantity': 4},\n",
       "  {'part_no': 'E1628',\n",
       "   'descrip': 'Slippers',\n",
       "   'size': 8,\n",
       "   'price': 20,\n",
       "   'quantity': 1}]}"
      ]
     },
     "execution_count": 61,
     "metadata": {},
     "output_type": "execute_result"
    }
   ],
   "source": [
    "with open('data/yaml_invoice.yaml', mode=\"r\") as file:\n",
    "    result = yaml.safe_load(file)\n",
    "\n",
    "result"
   ]
  },
  {
   "cell_type": "code",
   "execution_count": 60,
   "metadata": {},
   "outputs": [
    {
     "data": {
      "text/plain": [
       "{'receipt': 'Factura de compra',\n",
       " 'date': datetime.date(2023, 8, 6),\n",
       " 'customer': {'first_name': 'Pedro', 'surname': 'López'},\n",
       " 'items': [{'part_no': 'A4786',\n",
       "   'descrip': 'Water Bucket (Filled)',\n",
       "   'price': 1.47,\n",
       "   'quantity': 4},\n",
       "  {'part_no': 'E1628',\n",
       "   'descrip': 'Slippers',\n",
       "   'size': 8,\n",
       "   'price': 20,\n",
       "   'quantity': 1}]}"
      ]
     },
     "execution_count": 60,
     "metadata": {},
     "output_type": "execute_result"
    }
   ],
   "source": [
    "with open('data/yaml_invoice.yaml', mode=\"r\") as file:\n",
    "    result = yaml.load(file, yaml.SafeLoader)\n",
    "\n",
    "result"
   ]
  },
  {
   "cell_type": "code",
   "execution_count": 62,
   "metadata": {},
   "outputs": [
    {
     "data": {
      "text/plain": [
       "{'receipt': 'Factura de compra',\n",
       " 'date': '2023-08-06',\n",
       " 'customer': {'first_name': 'Pedro', 'surname': 'López'},\n",
       " 'items': [{'part_no': 'A4786',\n",
       "   'descrip': 'Water Bucket (Filled)',\n",
       "   'price': '1.47',\n",
       "   'quantity': '4'},\n",
       "  {'part_no': 'E1628',\n",
       "   'descrip': 'Slippers',\n",
       "   'size': '8',\n",
       "   'price': '20',\n",
       "   'quantity': '1'}]}"
      ]
     },
     "execution_count": 62,
     "metadata": {},
     "output_type": "execute_result"
    }
   ],
   "source": [
    "with open('data/yaml_invoice.yaml', mode=\"r\") as file:\n",
    "    result = yaml.load(file, yaml.BaseLoader)\n",
    "result"
   ]
  },
  {
   "cell_type": "code",
   "execution_count": 76,
   "metadata": {},
   "outputs": [
    {
     "data": {
      "text/plain": [
       "{'films': [{'title': 'The Godfather', 'year': 1972},\n",
       "  {'title': 'The Lord of the Rings, The Fellowship of the Ring',\n",
       "   'year': 2001}]}"
      ]
     },
     "execution_count": 76,
     "metadata": {},
     "output_type": "execute_result"
    }
   ],
   "source": [
    "yaml_string = \"\"\"\n",
    "films:\n",
    "  - title: The Godfather\n",
    "    year: 1972\n",
    "  - title: The Lord of the Rings, The Fellowship of the Ring\n",
    "    year: 2001\n",
    "\"\"\"\n",
    "result = yaml.safe_load(yaml_string)\n",
    "result"
   ]
  },
  {
   "cell_type": "markdown",
   "metadata": {},
   "source": [
    "### Escritura de un archivo YAML"
   ]
  },
  {
   "cell_type": "code",
   "execution_count": 78,
   "metadata": {},
   "outputs": [],
   "source": [
    "films_dict = {\"films\": [\n",
    "                {'title': 'The Godfather', 'year': 1972},\n",
    "                {'title': 'The Lord of the Rings, The Fellowship of the Ring','year': 2001}\n",
    "             ]}\n",
    "\n",
    "with open(\"data/film_list.yaml\", 'w') as file:\n",
    "    yaml.dump(result,file, default_style='\"')"
   ]
  },
  {
   "cell_type": "markdown",
   "metadata": {},
   "source": [
    "<a name=\"intro\"></a>\n",
    "<h2 style=\"color: #007BC4;\">Archivos JSON</h2>\n",
    "<hr style=\"border: 0.5px solid #007BC4;\">"
   ]
  },
  {
   "cell_type": "markdown",
   "metadata": {},
   "source": [
    "### Leer archivos JSON"
   ]
  },
  {
   "cell_type": "code",
   "execution_count": 79,
   "metadata": {},
   "outputs": [],
   "source": [
    "import json\n",
    "filename = 'data/json/films.json'\n",
    "\n",
    "with open(filename, mode=\"r\") as file:\n",
    "    text = file.read()\n",
    "    result = json.loads(text)"
   ]
  },
  {
   "cell_type": "code",
   "execution_count": 81,
   "metadata": {},
   "outputs": [
    {
     "data": {
      "text/plain": [
       "{'films': [{'title': 'The Godfather', 'year': '1972'},\n",
       "  {'title': 'The Lord of the Rings, The Fellowship of the RingAnna',\n",
       "   'year': '2001'}]}"
      ]
     },
     "execution_count": 81,
     "metadata": {},
     "output_type": "execute_result"
    }
   ],
   "source": [
    "result"
   ]
  },
  {
   "cell_type": "code",
   "execution_count": 89,
   "metadata": {},
   "outputs": [
    {
     "data": {
      "text/plain": [
       "{'sales': [{'id': 1, 'location': 'London', 'date': '2021-01-01', 'sales': 100},\n",
       "  {'id': 2, 'location': 'Paris', 'date': '2021-01-02', 'sales': 200}]}"
      ]
     },
     "execution_count": 89,
     "metadata": {},
     "output_type": "execute_result"
    }
   ],
   "source": [
    "\n",
    "import json\n",
    "filename = 'data/ejemplo1.json'\n",
    "\n",
    "with open(filename, mode=\"r\") as file:\n",
    "    text = file.read()\n",
    "    result = json.loads(text)\n",
    "result\n"
   ]
  },
  {
   "cell_type": "code",
   "execution_count": 90,
   "metadata": {},
   "outputs": [
    {
     "data": {
      "text/plain": [
       "[{'id': 1, 'date': '2021-03-01', 'location': 'London', 'sales': 327},\n",
       " {'id': 4, 'date': '2021-03-02', 'location': 'London', 'sales': 275}]"
      ]
     },
     "execution_count": 90,
     "metadata": {},
     "output_type": "execute_result"
    }
   ],
   "source": [
    "import json\n",
    "\n",
    "with open('data/coffe_sales.json', mode=\"r\") as file:\n",
    "    text = file.read()\n",
    "    result = json.loads(text)\n",
    "result"
   ]
  },
  {
   "cell_type": "code",
   "execution_count": 92,
   "metadata": {},
   "outputs": [
    {
     "data": {
      "text/plain": [
       "{'films': [{'title': 'The Godfather', 'year': '1972'},\n",
       "  {'title': 'The Lord of the Rings, The Fellowship of the RingAnna',\n",
       "   'year': '2001'}]}"
      ]
     },
     "execution_count": 92,
     "metadata": {},
     "output_type": "execute_result"
    }
   ],
   "source": [
    "json_str = \"\"\"\n",
    "{\n",
    "  \"films\": [\n",
    "    { \"title\": \"The Godfather\", \"year\": \"1972\" },\n",
    "    {\n",
    "      \"title\": \"The Lord of the Rings, The Fellowship of the RingAnna\",\n",
    "      \"year\": \"2001\"\n",
    "    }\n",
    "  ]\n",
    "}\n",
    "\"\"\"\n",
    "result = json.loads(json_str)\n",
    "result"
   ]
  },
  {
   "cell_type": "markdown",
   "metadata": {},
   "source": [
    "### Escribir archivos JSON"
   ]
  },
  {
   "cell_type": "code",
   "execution_count": 95,
   "metadata": {},
   "outputs": [],
   "source": [
    "output_file = 'films_output.json'\n",
    "\n",
    "with open(output_file, 'w') as file:\n",
    "    json.dump(result, file, indent=2)"
   ]
  }
 ],
 "metadata": {
  "kernelspec": {
   "display_name": "Python 3",
   "language": "python",
   "name": "python3"
  },
  "language_info": {
   "codemirror_mode": {
    "name": "ipython",
    "version": 3
   },
   "file_extension": ".py",
   "mimetype": "text/x-python",
   "name": "python",
   "nbconvert_exporter": "python",
   "pygments_lexer": "ipython3",
   "version": "3.10.13"
  }
 },
 "nbformat": 4,
 "nbformat_minor": 2
}
