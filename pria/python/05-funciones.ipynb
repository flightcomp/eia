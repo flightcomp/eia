{
 "cells": [
  {
   "cell_type": "markdown",
   "metadata": {},
   "source": [
    "<center>\n",
    "<h1 style=\"color: #007BC4;\">Curso de programación con Python</h1> \n",
    "<h3 style=\"color: #333333;\">Tema 5 - Funciones</h3> \n",
    "</center>\n",
    "<br>\n",
    "\n"
   ]
  },
  {
   "cell_type": "markdown",
   "metadata": {},
   "source": [
    "<h2>Contenidos</h2>\n",
    "<div class=\"alert alert-block alert-info\" \n",
    "     style=\"margin-top: 0px; padding-top:0px; border: 1px solid #007BC4; border-radius: 20px; background:transparent;\">\n",
    "    <ul>\n",
    "        <li><a href=\"#funciones\">Funciones</a></li>\n",
    "        <li><a href=\"#argumentos\">Funciones: return y argumentos</a></li>     \n",
    "        <li><a href=\"#recursividad\">Funciones recursivas</a></li> \n",
    "        <li><a href=\"#lambda\">Funciones lambda</a></li> \n",
    "        <li><a href=\"#decoradores\">Decoradores</a></li> \n",
    "    </ul>\n",
    "</div>"
   ]
  },
  {
   "cell_type": "markdown",
   "metadata": {},
   "source": [
    "<a name=\"funciones\"></a>\n",
    "\n",
    "<h2 style=\"color: #007BC4;\">Funciones</h2>\n",
    "<hr style=\"border: 0.5px solid #007BC4;\">\n",
    "\n",
    "\n",
    "<h3 style=\"color: #007BC4;\"> Ventajas del uso de funciones</h3>\n",
    "\n",
    "- Permiten estructurar el programa en bloques funcionalmente independientes\n",
    "- Beneficios del uso de funciones:\n",
    "    - Aislar mejor los problemas\n",
    "    - Desarrollar programas mucho más fáciles de mantener\n",
    "    - Reutilizar código entre distintos programas"
   ]
  },
  {
   "cell_type": "markdown",
   "metadata": {},
   "source": [
    "<h3 style=\"color: #007BC4;\">Estructura de una función en Python</h3>    \n",
    "    \n",
    "<div style=\"float:left;width:50%;text-align:center;\">\n",
    "        <img src=\"notebooks-img/funcion_detalle.png\" style=\"width:90%;max-width:900px;\">\n",
    "</div>"
   ]
  },
  {
   "cell_type": "markdown",
   "metadata": {},
   "source": [
    "<h3 style=\"color: #007BC4;\">Ejemplo de uso de funciones</h3>\n",
    "\n",
    "<h4 style=\"color: #007BC4;\">Cálculo de una potencia SIN funciones</h4>\n"
   ]
  },
  {
   "cell_type": "code",
   "execution_count": null,
   "metadata": {},
   "outputs": [],
   "source": [
    "base = int(input(\"Introduce la base(>0): \"))\n",
    "while base<=0:\n",
    "    base = int(input(\"Error en el rango. Introduce la base(>0): \"))\n",
    "exp = int(input(\"Introduce el exponente (>0): \"))\n",
    "while exp<=0:\n",
    "    exp = int(input(\"Error en el rango. Introduce el número (>0): \"))\n",
    "\n",
    "pot = 1\n",
    "n=1\n",
    "while n<=exp:\n",
    "    pot = pot * base\n",
    "    n=n+1\n",
    "\n",
    "print(f\"{base} elevado a {exp} vale {pot}\")\n"
   ]
  },
  {
   "cell_type": "markdown",
   "metadata": {},
   "source": [
    "<h4 style=\"color: #007BC4;\">Cálculo de una potencia CON funciones</h4>"
   ]
  },
  {
   "cell_type": "code",
   "execution_count": 2,
   "metadata": {},
   "outputs": [
    {
     "name": "stdout",
     "output_type": "stream",
     "text": [
      "5 elevado a 3 vale 125\n"
     ]
    }
   ],
   "source": [
    "def pedir_numero(msg, min):\n",
    "    \"\"\"Función que pide al usuario un número entero mayor que min\"\"\"\n",
    "\n",
    "    num = int(input(f\"Introduce {msg} (>{min}): \"))\n",
    "    while num<=min:\n",
    "        num = int(input(f\"Error en el rango. Introduce {msg} (>{min}): \"))    \n",
    "    \n",
    "    return num\n",
    "\n",
    "def calcula_potencia (base,exponente):\n",
    "    \"\"\"Función que calcula la potencia\"\"\"\n",
    "    potencia=1 \n",
    "    n=1\n",
    "    while n<=exponente:\n",
    "        potencia=potencia*base\n",
    "        n=n+1\n",
    "    return potencia\n",
    "\n",
    "\n",
    "def main():    \n",
    "    base = pedir_numero(\"la base\", 0)\n",
    "    exp = pedir_numero(\"el exponente\", 0)\n",
    "\n",
    "    pot = calcula_potencia(base, exp)\n",
    "    print(f\"{base} elevado a {exp} vale {pot}\")\n",
    "\n",
    "if __name__ == \"__main__\":\n",
    "    main()"
   ]
  },
  {
   "cell_type": "markdown",
   "metadata": {},
   "source": [
    "<a name=\"argumentos\"></a>\n",
    "<h2 style=\"color: #007BC4;\">Funciones: return y argumentos</h2>\n",
    "<hr style=\"border: 0.5px solid #007BC4;\">\n"
   ]
  },
  {
   "cell_type": "markdown",
   "metadata": {},
   "source": [
    "<h3 style=\"color: #007BC4;\">Return </h3>\n",
    "\n",
    "- En Python, una función puede devolver más de un valor con return.\n",
    "- Donde se llama a dicha función hay que recoger los valores devueltos en el mismo orden en el que la función los devolvió."
   ]
  },
  {
   "cell_type": "code",
   "execution_count": null,
   "metadata": {},
   "outputs": [
    {
     "name": "stdout",
     "output_type": "stream",
     "text": [
      "El cociente de dividir 7 entre 3 es 2 y el resto es 1.\n"
     ]
    }
   ],
   "source": [
    "def division_entera(dividendo, divisor):\n",
    " return dividendo // divisor, dividendo % divisor\n",
    "\n",
    "def main():\n",
    "    n1 = int(input(\"Dime un número entero: \"))\n",
    "    n2 = int(input(\"Dime un otro número entero: \"))\n",
    "    cociente, resto = division_entera(n1, n2)\n",
    "    print(f\"El cociente de dividir {n1} entre {n2} es {cociente} y el resto es {resto}.\")\n",
    "\n",
    "if __name__ == \"__main__\":\n",
    "    main()"
   ]
  },
  {
   "cell_type": "markdown",
   "metadata": {},
   "source": [
    "<h3 style=\"color: #007BC4;\">Argumentos </h3>\n",
    "\n",
    "- Cuando se llama a una función, los argumentos pueden indicarse mediante una asignación al nombre utilizado en la definición de la función. Implicaciones:\n",
    "    - Es un poco más tedioso llamar a a la función pero...\n",
    "    - Facilita utilizar funciones con muchos argumentos porque no es necesario ponerlos todos al llamar a la función y sobre todo...\n",
    "    - Disminuye la posibilidad de cometer errores al no importar el orden en el que se ponen los argumentos cuando se llama a la función.\n",
    "\n"
   ]
  },
  {
   "cell_type": "code",
   "execution_count": null,
   "metadata": {},
   "outputs": [
    {
     "name": "stdout",
     "output_type": "stream",
     "text": [
      "El cociente de dividir 7 entre 3 es 2 y el resto es 1.\n"
     ]
    }
   ],
   "source": [
    "def division_entera(dividendo, divisor):\n",
    "    return dividendo // divisor, dividendo % divisor\n",
    "\n",
    "def main():\n",
    "    n1 = int(input(\"Dime un número entero: \"))\n",
    "    n2 = int(input(\"Dime un otro número entero:\"))\n",
    "    cociente, resto = division_entera(divisor=n2, dividendo=n1)\n",
    "    print(f\"El cociente de dividir {n1} entre {n2} es {cociente} y el resto es {resto}.\")\n",
    "\n",
    "\n",
    "if __name__ == \"__main__\":\n",
    "    main()\n"
   ]
  },
  {
   "cell_type": "markdown",
   "metadata": {},
   "source": [
    "- Se pueden mezclar argumentos por posición y argumentos por nombre a la hora de llamar a una función pero, en ese caso, primero van los que se especifican por posición y después los que se especifican por nombre.\n",
    "- Cuando se define una función, los **argumentos** pueden tomar un **valor por defecto** de forma que, cuando se llama a la función, si no se especifica ningún valor para ellos, toman dicho valor por defecto."
   ]
  },
  {
   "cell_type": "code",
   "execution_count": null,
   "metadata": {},
   "outputs": [],
   "source": [
    "def potencia(base,exponente=2):\n",
    "    \"\"\"Función con un valor por defecto para el segundo argumento\"\"\"\n",
    "    resultado = base\n",
    "    for i in range(1,exponente):\n",
    "        resultado *=base\n",
    "    return resultado\n",
    "\n",
    "def main():\n",
    "    n = int(input(\"Dime un número entero:\"))\n",
    "    cuadrado = potencia(n)\n",
    "    print(f\"{n} al cuadrado vale {cuadrado}\")\n",
    "\n",
    "if __name__ == \"__main__\":\n",
    "    main()\n"
   ]
  },
  {
   "cell_type": "markdown",
   "metadata": {},
   "source": [
    "<a name=\"lambda\"></a>\n",
    "\n",
    "<h2 style=\"color: #007BC4;\">Funciones lambda</h2>\n",
    "<hr style=\"border: 0.5px solid #007BC4;\">"
   ]
  },
  {
   "cell_type": "code",
   "execution_count": 14,
   "metadata": {},
   "outputs": [
    {
     "data": {
      "text/plain": [
       "[100, 625, 289, 81, 900, 25]"
      ]
     },
     "execution_count": 14,
     "metadata": {},
     "output_type": "execute_result"
    }
   ],
   "source": [
    "lista = [10, 25, 17, 9, 30, -5]\n",
    "\n",
    "lista_cuadrado = map(lambda n: n ** 2, lista)\n",
    "\n",
    "list(lista_cuadrado)"
   ]
  },
  {
   "cell_type": "markdown",
   "metadata": {},
   "source": [
    "<a name=\"decoradores\"></a>\n",
    "\n",
    "<h2 style=\"color: #007BC4;\">Decoradores</h2>\n",
    "<hr style=\"border: 0.5px solid #007BC4;\">"
   ]
  },
  {
   "cell_type": "code",
   "execution_count": 15,
   "metadata": {},
   "outputs": [],
   "source": [
    "def hola(funcion):\n",
    "    \"\"\"Decora una función anteponiendo 'Hola'.\"\"\"\n",
    "\n",
    "    def funcion_decorada(texto):\n",
    "        print(\"Hola\", end=\" \")\n",
    "        funcion(texto)\n",
    "\n",
    "    return funcion_decorada"
   ]
  },
  {
   "cell_type": "code",
   "execution_count": 19,
   "metadata": {},
   "outputs": [],
   "source": [
    "@hola\n",
    "def muestra_nombre(nombre):\n",
    "    \"\"\"Muestra el nombre por pantalla.\"\"\"\n",
    "    print(nombre)"
   ]
  },
  {
   "cell_type": "code",
   "execution_count": 21,
   "metadata": {},
   "outputs": [
    {
     "name": "stdout",
     "output_type": "stream",
     "text": [
      "María\n"
     ]
    }
   ],
   "source": [
    "muestra_nombre(\"María\")"
   ]
  },
  {
   "cell_type": "markdown",
   "metadata": {},
   "source": [
    "<h4 style=\"color: #007BC4;\">Sin usar el decorador</h4>"
   ]
  },
  {
   "cell_type": "code",
   "execution_count": 23,
   "metadata": {},
   "outputs": [],
   "source": [
    "def hola2(funcion):\n",
    "    \"\"\"Decora una función anteponiendo 'Hola'.\"\"\"\n",
    "\n",
    "    def funcion_decorada(texto):\n",
    "        print(\"Hola\", end=\" \")\n",
    "        funcion(texto)\n",
    "\n",
    "    return funcion_decorada"
   ]
  },
  {
   "cell_type": "code",
   "execution_count": 24,
   "metadata": {},
   "outputs": [],
   "source": [
    "def muestra_nombre2(nombre):\n",
    "    \"\"\"Muestra el nombre por pantalla.\"\"\"\n",
    "    print(nombre)"
   ]
  },
  {
   "cell_type": "code",
   "execution_count": 26,
   "metadata": {},
   "outputs": [
    {
     "name": "stdout",
     "output_type": "stream",
     "text": [
      "Hola María\n"
     ]
    }
   ],
   "source": [
    "fdecorada = hola2(muestra_nombre2)\n",
    "fdecorada(\"María\")"
   ]
  },
  {
   "cell_type": "markdown",
   "metadata": {},
   "source": [
    "<a name=\"recursividad\"></a>\n",
    "\n",
    "<h2 style=\"color: #007BC4;\">Funciones recursivas</h2>\n",
    "<hr style=\"border: 0.5px solid #007BC4;\">"
   ]
  },
  {
   "cell_type": "code",
   "execution_count": null,
   "metadata": {},
   "outputs": [
    {
     "name": "stdout",
     "output_type": "stream",
     "text": [
      "5 elevado a 2 vale 25\n"
     ]
    }
   ],
   "source": [
    "def potencia(base,exponente = 2):\n",
    "    if exponente == 0:\n",
    "        return 1\n",
    "    return base * potencia(base, exponente - 1)\n",
    "\n",
    "def main():\n",
    "    n1 = int(input(\"Dime la base: \"))\n",
    "    n2 = int(input(\"Dime el exponente: \"))\n",
    "    print(f\"{n1} elevado a {n2} vale {potencia(base=n1, exponente=n2)}\")\n",
    "    \n",
    "if __name__==\"__main__\":\n",
    "    main()"
   ]
  }
 ],
 "metadata": {
  "interpreter": {
   "hash": "aee8b7b246df8f9039afb4144a1f6fd8d2ca17a180786b69acc140d282b71a49"
  },
  "kernelspec": {
   "display_name": "Python 3 (ipykernel)",
   "language": "python",
   "name": "python3"
  },
  "language_info": {
   "codemirror_mode": {
    "name": "ipython",
    "version": 3
   },
   "file_extension": ".py",
   "mimetype": "text/x-python",
   "name": "python",
   "nbconvert_exporter": "python",
   "pygments_lexer": "ipython3",
   "version": "3.11.13"
  }
 },
 "nbformat": 4,
 "nbformat_minor": 4
}
